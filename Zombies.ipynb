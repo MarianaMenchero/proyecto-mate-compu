{
 "metadata": {
  "name": "",
  "signature": "sha256:e9e68f6b8181c5c689992490fb27675663b953764e8d861b71472a14396d21eb"
 },
 "nbformat": 3,
 "nbformat_minor": 0,
 "worksheets": [
  {
   "cells": [
    {
     "cell_type": "heading",
     "level": 1,
     "metadata": {},
     "source": [
      "When zombies attack !!!"
     ]
    },
    {
     "cell_type": "code",
     "collapsed": false,
     "input": [
      "from IPython.html.widgets import interact, fixed\n",
      "from IPython.html import widgets\n",
      "from IPython.display import display\n",
      "\n",
      "%matplotlib inline\n",
      "import numpy as np\n",
      "import matplotlib.pyplot as plt\n",
      "\n",
      "import sympy as sy\n",
      "from scipy.integrate import odeint"
     ],
     "language": "python",
     "metadata": {},
     "outputs": [
      {
       "output_type": "stream",
       "stream": "stderr",
       "text": [
        "/usr/lib/python2.7/dist-packages/pkg_resources.py:1031: UserWarning: /home/itam/.python-eggs is writable by group/others and vulnerable to attack when used with get_resource_filename. Consider a more secure location (set with .set_extraction_path or the PYTHON_EGG_CACHE environment variable).\n",
        "  warnings.warn(msg, UserWarning)\n"
       ]
      }
     ],
     "prompt_number": 3
    },
    {
     "cell_type": "code",
     "collapsed": false,
     "input": [
      "sy.init_printing(use_latex='mathjax')"
     ],
     "language": "python",
     "metadata": {},
     "outputs": [],
     "prompt_number": 4
    },
    {
     "cell_type": "code",
     "collapsed": false,
     "input": [
      "H = sy.Symbol('H')\n",
      "Z = sy.Symbol('Z')\n",
      "M = sy.Symbol('M')\n",
      "I = sy.Symbol('I')\n",
      "Q = sy.Symbol('Q')\n",
      "\n",
      "#Par\u00e1metros\n",
      "pi = sy.Symbol('Pi')\n",
      "beta = sy.Symbol('beta')\n",
      "delta = sy.Symbol('delta')\n",
      "alpha = sy.Symbol('alpha')\n",
      "zeta = sy.Symbol('zeta')\n",
      "lamb = sy.Symbol('lambda')\n",
      "rho = sy.Symbol('rho')\n",
      "kappa = sy.Symbol('kappa')\n",
      "sigma = sy.Symbol('sigma')\n",
      "gamma = sy.Symbol('gamma')\n",
      "c = sy.Symbol('c')\n",
      "\n",
      "#Derivadas\n",
      "dH = sy.Function('\\dotH')\n",
      "dZ = sy.Function('\\dotZ')\n",
      "dM = sy.Function('\\dotM')\n",
      "dI = sy.Function('\\dotI')\n",
      "dQ = sy.Function('\\dotQ')"
     ],
     "language": "python",
     "metadata": {},
     "outputs": [],
     "prompt_number": 5
    },
    {
     "cell_type": "markdown",
     "metadata": {},
     "source": [
      "$$ \\dot H = \\Pi - H Z \\beta - \\delta H$$\n",
      "$$ \\dot Z = - H Z \\alpha + H Z \\beta + M \\zeta $$\n",
      "$$ \\dot M = \\delta H + \\alpha H Z - \\zeta M $$"
     ]
    },
    {
     "cell_type": "heading",
     "level": 2,
     "metadata": {},
     "source": [
      "Modelo b\u00e1sico"
     ]
    },
    {
     "cell_type": "code",
     "collapsed": false,
     "input": [
      "pi = 0\n",
      "delta = 0"
     ],
     "language": "python",
     "metadata": {},
     "outputs": [],
     "prompt_number": 6
    },
    {
     "cell_type": "code",
     "collapsed": false,
     "input": [
      "dH = pi - beta*H*Z - delta*H\n",
      "dZ = beta*H*Z + zeta*M - alpha*H*Z\n",
      "dM = delta*H + alpha *H*Z - zeta*M"
     ],
     "language": "python",
     "metadata": {},
     "outputs": [],
     "prompt_number": 7
    },
    {
     "cell_type": "markdown",
     "metadata": {},
     "source": [
      "$$ \\dot H = - H Z \\beta $$\n",
      "$$ \\dot Z = - H Z \\alpha + H Z \\beta + M \\zeta $$\n",
      "$$ \\dot M = \\alpha H Z - \\zeta M $$"
     ]
    },
    {
     "cell_type": "code",
     "collapsed": false,
     "input": [
      "dH"
     ],
     "language": "python",
     "metadata": {},
     "outputs": [
      {
       "latex": [
        "$$- H Z \\beta$$"
       ],
       "metadata": {},
       "output_type": "pyout",
       "prompt_number": 9,
       "text": [
        "-H\u22c5Z\u22c5\u03b2"
       ]
      }
     ],
     "prompt_number": 9
    },
    {
     "cell_type": "code",
     "collapsed": false,
     "input": [
      "dZ"
     ],
     "language": "python",
     "metadata": {},
     "outputs": [
      {
       "latex": [
        "$$- H Z \\alpha + H Z \\beta + M \\zeta$$"
       ],
       "metadata": {},
       "output_type": "pyout",
       "prompt_number": 149,
       "text": [
        "-H\u22c5Z\u22c5\u03b1 + H\u22c5Z\u22c5\u03b2 + M\u22c5\u03b6"
       ]
      }
     ],
     "prompt_number": 149
    },
    {
     "cell_type": "code",
     "collapsed": false,
     "input": [
      "dM"
     ],
     "language": "python",
     "metadata": {},
     "outputs": [
      {
       "latex": [
        "$$H Z \\alpha - M \\zeta$$"
       ],
       "metadata": {},
       "output_type": "pyout",
       "prompt_number": 150,
       "text": [
        "H\u22c5Z\u22c5\u03b1 - M\u22c5\u03b6"
       ]
      }
     ],
     "prompt_number": 150
    },
    {
     "cell_type": "code",
     "collapsed": false,
     "input": [
      "sy.solve(dH)"
     ],
     "language": "python",
     "metadata": {},
     "outputs": [
      {
       "latex": [
        "$$\\begin{bmatrix}\\begin{Bmatrix}H : 0\\end{Bmatrix}, & \\begin{Bmatrix}Z : 0\\end{Bmatrix}, & \\begin{Bmatrix}\\beta : 0\\end{Bmatrix}\\end{bmatrix}$$"
       ],
       "metadata": {},
       "output_type": "pyout",
       "prompt_number": 151,
       "text": [
        "[{H: 0}, {Z: 0}, {\u03b2: 0}]"
       ]
      }
     ],
     "prompt_number": 151
    },
    {
     "cell_type": "markdown",
     "metadata": {},
     "source": [
      "Caso $H = 0$"
     ]
    },
    {
     "cell_type": "code",
     "collapsed": false,
     "input": [
      "sy.solve(dZ.subs([(H , 0)]),Z)"
     ],
     "language": "python",
     "metadata": {},
     "outputs": [
      {
       "latex": [
        "$$\\begin{bmatrix}\\end{bmatrix}$$"
       ],
       "metadata": {},
       "output_type": "pyout",
       "prompt_number": 152,
       "text": [
        "[]"
       ]
      }
     ],
     "prompt_number": 152
    },
    {
     "cell_type": "code",
     "collapsed": false,
     "input": [
      "sy.solve(dM.subs([(H,0)]),M)"
     ],
     "language": "python",
     "metadata": {},
     "outputs": [
      {
       "latex": [
        "$$\\begin{bmatrix}0\\end{bmatrix}$$"
       ],
       "metadata": {},
       "output_type": "pyout",
       "prompt_number": 153,
       "text": [
        "[0]"
       ]
      }
     ],
     "prompt_number": 153
    },
    {
     "cell_type": "code",
     "collapsed": false,
     "input": [
      "(0,Z,0)"
     ],
     "language": "python",
     "metadata": {},
     "outputs": [
      {
       "latex": [
        "$$\\begin{pmatrix}0, & Z, & 0\\end{pmatrix}$$"
       ],
       "metadata": {},
       "output_type": "pyout",
       "prompt_number": 154,
       "text": [
        "(0, Z, 0)"
       ]
      }
     ],
     "prompt_number": 154
    },
    {
     "cell_type": "markdown",
     "metadata": {},
     "source": [
      "Caso $Z = 0$"
     ]
    },
    {
     "cell_type": "code",
     "collapsed": false,
     "input": [
      "sy.solve(dH.subs([(Z,0)]))"
     ],
     "language": "python",
     "metadata": {},
     "outputs": [
      {
       "latex": [
        "$$\\begin{bmatrix}\\end{bmatrix}$$"
       ],
       "metadata": {},
       "output_type": "pyout",
       "prompt_number": 155,
       "text": [
        "[]"
       ]
      }
     ],
     "prompt_number": 155
    },
    {
     "cell_type": "code",
     "collapsed": false,
     "input": [
      "sy.solve(dM.subs([(Z,0)]))"
     ],
     "language": "python",
     "metadata": {},
     "outputs": [
      {
       "latex": [
        "$$\\begin{bmatrix}\\begin{Bmatrix}M : 0\\end{Bmatrix}, & \\begin{Bmatrix}\\zeta : 0\\end{Bmatrix}\\end{bmatrix}$$"
       ],
       "metadata": {},
       "output_type": "pyout",
       "prompt_number": 156,
       "text": [
        "[{M: 0}, {\u03b6: 0}]"
       ]
      }
     ],
     "prompt_number": 156
    },
    {
     "cell_type": "code",
     "collapsed": false,
     "input": [
      "(H,0,0)"
     ],
     "language": "python",
     "metadata": {},
     "outputs": [
      {
       "latex": [
        "$$\\begin{pmatrix}H, & 0, & 0\\end{pmatrix}$$"
       ],
       "metadata": {},
       "output_type": "pyout",
       "prompt_number": 157,
       "text": [
        "(H, 0, 0)"
       ]
      }
     ],
     "prompt_number": 157
    },
    {
     "cell_type": "markdown",
     "metadata": {},
     "source": [
      "Obtenemos el Jacobiano"
     ]
    },
    {
     "cell_type": "code",
     "collapsed": false,
     "input": [
      "XA = sy.Matrix([dH, dZ, dM])\n",
      "YA = sy.Matrix([H,Z,M])\n",
      "JA = XA.jacobian(YA)\n",
      "JA"
     ],
     "language": "python",
     "metadata": {},
     "outputs": [
      {
       "latex": [
        "$$\\left[\\begin{matrix}- Z \\beta & - H \\beta & 0\\\\- Z \\alpha + Z \\beta & - H \\alpha + H \\beta & \\zeta\\\\Z \\alpha & H \\alpha & - \\zeta\\end{matrix}\\right]$$"
       ],
       "metadata": {},
       "output_type": "pyout",
       "prompt_number": 158,
       "text": [
        "\u23a1   -Z\u22c5\u03b2        -H\u22c5\u03b2     0 \u23a4\n",
        "\u23a2                          \u23a5\n",
        "\u23a2-Z\u22c5\u03b1 + Z\u22c5\u03b2  -H\u22c5\u03b1 + H\u22c5\u03b2  \u03b6 \u23a5\n",
        "\u23a2                          \u23a5\n",
        "\u23a3   Z\u22c5\u03b1         H\u22c5\u03b1      -\u03b6\u23a6"
       ]
      }
     ],
     "prompt_number": 158
    },
    {
     "cell_type": "markdown",
     "metadata": {},
     "source": [
      "Evaluamos el jacobiano en $(0,Z,0)$"
     ]
    },
    {
     "cell_type": "code",
     "collapsed": false,
     "input": [
      "JA1 = JA.subs([(H,0),(M,0)])\n",
      "JA1"
     ],
     "language": "python",
     "metadata": {},
     "outputs": [
      {
       "latex": [
        "$$\\left[\\begin{matrix}- Z \\beta & 0 & 0\\\\- Z \\alpha + Z \\beta & 0 & \\zeta\\\\Z \\alpha & 0 & - \\zeta\\end{matrix}\\right]$$"
       ],
       "metadata": {},
       "output_type": "pyout",
       "prompt_number": 159,
       "text": [
        "\u23a1   -Z\u22c5\u03b2     0  0 \u23a4\n",
        "\u23a2                 \u23a5\n",
        "\u23a2-Z\u22c5\u03b1 + Z\u22c5\u03b2  0  \u03b6 \u23a5\n",
        "\u23a2                 \u23a5\n",
        "\u23a3   Z\u22c5\u03b1      0  -\u03b6\u23a6"
       ]
      }
     ],
     "prompt_number": 159
    },
    {
     "cell_type": "code",
     "collapsed": false,
     "input": [
      "polA1 = sy.det(JA1-lamb*sy.eye(3))\n",
      "sy.factor(polA1, lamb)"
     ],
     "language": "python",
     "metadata": {},
     "outputs": [
      {
       "latex": [
        "$$- \\lambda \\left(\\lambda + \\zeta\\right) \\left(Z \\beta + \\lambda\\right)$$"
       ],
       "metadata": {},
       "output_type": "pyout",
       "prompt_number": 160,
       "text": [
        "-\u03bb\u22c5(\u03bb + \u03b6)\u22c5(Z\u22c5\u03b2 + \u03bb)"
       ]
      }
     ],
     "prompt_number": 160
    },
    {
     "cell_type": "code",
     "collapsed": false,
     "input": [
      "sy.solve(polA1)"
     ],
     "language": "python",
     "metadata": {},
     "outputs": [
      {
       "latex": [
        "$$\\begin{bmatrix}\\begin{Bmatrix}Z : - \\frac{\\lambda}{\\beta}\\end{Bmatrix}, & \\begin{Bmatrix}\\lambda : 0\\end{Bmatrix}, & \\begin{Bmatrix}\\zeta : - \\lambda\\end{Bmatrix}\\end{bmatrix}$$"
       ],
       "metadata": {},
       "output_type": "pyout",
       "prompt_number": 161,
       "text": [
        "\u23a1\u23a7   -\u03bb \u23ab                 \u23a4\n",
        "\u23a2\u23a8Z: \u2500\u2500\u2500\u23ac, {\u03bb: 0}, {\u03b6: -\u03bb}\u23a5\n",
        "\u23a3\u23a9    \u03b2 \u23ad                 \u23a6"
       ]
      }
     ],
     "prompt_number": 161
    },
    {
     "cell_type": "markdown",
     "metadata": {},
     "source": [
      "Como los eigenvalores son 0 o negativos $(0,Z,0)$ es asint\u00f3ticamente estable"
     ]
    },
    {
     "cell_type": "markdown",
     "metadata": {},
     "source": [
      "Evalueamos el jacobiano en $(H,0,0)$"
     ]
    },
    {
     "cell_type": "code",
     "collapsed": false,
     "input": [
      "JA2 = JA.subs([(Z,0),(M,0)])\n",
      "JA2"
     ],
     "language": "python",
     "metadata": {},
     "outputs": [
      {
       "latex": [
        "$$\\left[\\begin{matrix}0 & - H \\beta & 0\\\\0 & - H \\alpha + H \\beta & \\zeta\\\\0 & H \\alpha & - \\zeta\\end{matrix}\\right]$$"
       ],
       "metadata": {},
       "output_type": "pyout",
       "prompt_number": 162,
       "text": [
        "\u23a10     -H\u22c5\u03b2     0 \u23a4\n",
        "\u23a2                 \u23a5\n",
        "\u23a20  -H\u22c5\u03b1 + H\u22c5\u03b2  \u03b6 \u23a5\n",
        "\u23a2                 \u23a5\n",
        "\u23a30     H\u22c5\u03b1      -\u03b6\u23a6"
       ]
      }
     ],
     "prompt_number": 162
    },
    {
     "cell_type": "code",
     "collapsed": false,
     "input": [
      "polA2 = sy.det(JA2-lamb*sy.eye(3))\n",
      "sy.factor(polA2, lamb)"
     ],
     "language": "python",
     "metadata": {},
     "outputs": [
      {
       "latex": [
        "$$- \\lambda \\left(- H \\beta \\zeta + \\lambda^{2} + \\lambda \\left(H \\alpha - H \\beta + \\zeta\\right)\\right)$$"
       ],
       "metadata": {},
       "output_type": "pyout",
       "prompt_number": 163,
       "text": [
        "   \u239b          2                    \u239e\n",
        "-\u03bb\u22c5\u239d-H\u22c5\u03b2\u22c5\u03b6 + \u03bb  + \u03bb\u22c5(H\u22c5\u03b1 - H\u22c5\u03b2 + \u03b6)\u23a0"
       ]
      }
     ],
     "prompt_number": 163
    },
    {
     "cell_type": "code",
     "collapsed": false,
     "input": [
      "sy.solve(polA2, lamb)"
     ],
     "language": "python",
     "metadata": {},
     "outputs": [
      {
       "latex": [
        "$$\\begin{bmatrix}0, & - \\frac{H \\alpha}{2} + \\frac{H \\beta}{2} - \\frac{\\zeta}{2} - \\frac{1}{2} \\sqrt{H^{2} \\alpha^{2} - 2 H^{2} \\alpha \\beta + H^{2} \\beta^{2} + 2 H \\alpha \\zeta + 2 H \\beta \\zeta + \\zeta^{2}}, & - \\frac{H \\alpha}{2} + \\frac{H \\beta}{2} - \\frac{\\zeta}{2} + \\frac{1}{2} \\sqrt{H^{2} \\alpha^{2} - 2 H^{2} \\alpha \\beta + H^{2} \\beta^{2} + 2 H \\alpha \\zeta + 2 H \\beta \\zeta + \\zeta^{2}}\\end{bmatrix}$$"
       ],
       "metadata": {},
       "output_type": "pyout",
       "prompt_number": 164,
       "text": [
        "\u23a1                        ___________________________________________________  \n",
        "\u23a2                       \u2571  2  2      2        2  2                        2   \n",
        "\u23a2     H\u22c5\u03b1   H\u22c5\u03b2   \u03b6   \u2572\u2571  H \u22c5\u03b1  - 2\u22c5H \u22c5\u03b1\u22c5\u03b2 + H \u22c5\u03b2  + 2\u22c5H\u22c5\u03b1\u22c5\u03b6 + 2\u22c5H\u22c5\u03b2\u22c5\u03b6 + \u03b6    \n",
        "\u23a20, - \u2500\u2500\u2500 + \u2500\u2500\u2500 - \u2500 - \u2500\u2500\u2500\u2500\u2500\u2500\u2500\u2500\u2500\u2500\u2500\u2500\u2500\u2500\u2500\u2500\u2500\u2500\u2500\u2500\u2500\u2500\u2500\u2500\u2500\u2500\u2500\u2500\u2500\u2500\u2500\u2500\u2500\u2500\u2500\u2500\u2500\u2500\u2500\u2500\u2500\u2500\u2500\u2500\u2500\u2500\u2500\u2500\u2500\u2500\u2500\u2500\u2500\u2500, \n",
        "\u23a3      2     2    2                             2                             \n",
        "\n",
        "                     ___________________________________________________\u23a4\n",
        "                    \u2571  2  2      2        2  2                        2 \u23a5\n",
        "  H\u22c5\u03b1   H\u22c5\u03b2   \u03b6   \u2572\u2571  H \u22c5\u03b1  - 2\u22c5H \u22c5\u03b1\u22c5\u03b2 + H \u22c5\u03b2  + 2\u22c5H\u22c5\u03b1\u22c5\u03b6 + 2\u22c5H\u22c5\u03b2\u22c5\u03b6 + \u03b6  \u23a5\n",
        "- \u2500\u2500\u2500 + \u2500\u2500\u2500 - \u2500 + \u2500\u2500\u2500\u2500\u2500\u2500\u2500\u2500\u2500\u2500\u2500\u2500\u2500\u2500\u2500\u2500\u2500\u2500\u2500\u2500\u2500\u2500\u2500\u2500\u2500\u2500\u2500\u2500\u2500\u2500\u2500\u2500\u2500\u2500\u2500\u2500\u2500\u2500\u2500\u2500\u2500\u2500\u2500\u2500\u2500\u2500\u2500\u2500\u2500\u2500\u2500\u2500\u2500\u2500\u23a5\n",
        "   2     2    2                             2                           \u23a6"
       ]
      }
     ],
     "prompt_number": 164
    },
    {
     "cell_type": "markdown",
     "metadata": {},
     "source": [
      "Como una ra\u00edz es cero y siempre tenemos una con parte real positiva, entonces $(H,0,0)$ es inestable"
     ]
    },
    {
     "cell_type": "heading",
     "level": 3,
     "metadata": {},
     "source": [
      "Gr\u00e1ficas"
     ]
    },
    {
     "cell_type": "code",
     "collapsed": false,
     "input": [
      "def derivadasA(estado, t, a, b, z):\n",
      "    dh = -b*estado[0]*estado[1]\n",
      "    dz = b*estado[0]*estado[1] + z*estado[2] - a*estado[0]*estado[1]\n",
      "    dm = a*estado[0]*estado[1] - z*estado[2]\n",
      "    return np.array([dh, dz, dm])"
     ],
     "language": "python",
     "metadata": {},
     "outputs": [],
     "prompt_number": 165
    },
    {
     "cell_type": "code",
     "collapsed": false,
     "input": [
      "def solucionA(humanos, zombies, muertos, a, b, z):\n",
      "    tiempo = np.linspace(0, 1000, 100)\n",
      "    estadoA = np.array([humanos, zombies,muertos])\n",
      "    sol = odeint(derivadasA,estadoA, tiempo, args=(a, b, z))\n",
      "    plt.figure(figsize=(15,5))\n",
      "    plt.plot(tiempo,sol.T[0], c='b', label=\"Humanos\")\n",
      "    plt.plot(tiempo,sol.T[1], c='g', label=\"Zombies\")\n",
      "    plt.plot(tiempo,sol.T[2], c='r', label=\"Muertos\")\n",
      "    lim = np.amax(sol)\n",
      "    plt.legend()\n",
      "    plt.ylim(0,lim+10)"
     ],
     "language": "python",
     "metadata": {},
     "outputs": [],
     "prompt_number": 238
    },
    {
     "cell_type": "code",
     "collapsed": false,
     "input": [
      "solucionA(100,1,0,0.05,0.3,0.02)"
     ],
     "language": "python",
     "metadata": {},
     "outputs": [
      {
       "metadata": {},
       "output_type": "display_data",
       "png": "[encoded data removed]",
       "text": [
        "<matplotlib.figure.Figure at 0x7fe5a75323d0>"
       ]
      }
     ],
     "prompt_number": 220
    },
    {
     "cell_type": "code",
     "collapsed": false,
     "input": [
      "interact(solucionA,humanos=(0,1000,1), zombies=(0,1000,1), muertos=fixed(0), a=(0.01,1,0.01), b=(0.1,1,0.05), z=(0.01,0.5,0.01));"
     ],
     "language": "python",
     "metadata": {},
     "outputs": [
      {
       "metadata": {},
       "output_type": "display_data",
       "png": "[encoded data removed]",
       "text": [
        "<matplotlib.figure.Figure at 0x7fe5a52f7350>"
       ]
      }
     ],
     "prompt_number": 240
    },
    {
     "cell_type": "heading",
     "level": 2,
     "metadata": {},
     "source": [
      "Modelo con infecci\u00f3n latentente"
     ]
    },
    {
     "cell_type": "code",
     "collapsed": false,
     "input": [
      "pi = 0\n",
      "delta = 0"
     ],
     "language": "python",
     "metadata": {},
     "outputs": [],
     "prompt_number": 169
    },
    {
     "cell_type": "code",
     "collapsed": false,
     "input": [
      "dH = pi - beta*H*Z - delta*H\n",
      "dI = beta*H*Z - rho*I - delta*I\n",
      "dZ = rho*I + zeta*M - alpha*H*Z\n",
      "dM = delta*H + delta*I + alpha*H*Z - zeta*M"
     ],
     "language": "python",
     "metadata": {},
     "outputs": [],
     "prompt_number": 170
    },
    {
     "cell_type": "code",
     "collapsed": false,
     "input": [
      "sy.solve(dH)"
     ],
     "language": "python",
     "metadata": {},
     "outputs": [
      {
       "latex": [
        "$$\\begin{bmatrix}\\begin{Bmatrix}H : 0\\end{Bmatrix}, & \\begin{Bmatrix}Z : 0\\end{Bmatrix}, & \\begin{Bmatrix}\\beta : 0\\end{Bmatrix}\\end{bmatrix}$$"
       ],
       "metadata": {},
       "output_type": "pyout",
       "prompt_number": 171,
       "text": [
        "[{H: 0}, {Z: 0}, {\u03b2: 0}]"
       ]
      }
     ],
     "prompt_number": 171
    },
    {
     "cell_type": "markdown",
     "metadata": {},
     "source": [
      "Caso H = 0"
     ]
    },
    {
     "cell_type": "code",
     "collapsed": false,
     "input": [
      "print sy.solve(dI.subs([(H,0)]),I)\n",
      "print sy.solve(dZ.subs([(H,0)]), Z)\n",
      "print sy.solve(dM.subs([(H,0)]), M)"
     ],
     "language": "python",
     "metadata": {},
     "outputs": [
      {
       "output_type": "stream",
       "stream": "stdout",
       "text": [
        "[0]\n",
        "[]\n",
        "[0]\n"
       ]
      }
     ],
     "prompt_number": 172
    },
    {
     "cell_type": "code",
     "collapsed": false,
     "input": [
      "(0,0,Z,0)"
     ],
     "language": "python",
     "metadata": {},
     "outputs": [
      {
       "latex": [
        "$$\\begin{pmatrix}0, & 0, & Z, & 0\\end{pmatrix}$$"
       ],
       "metadata": {},
       "output_type": "pyout",
       "prompt_number": 173,
       "text": [
        "(0, 0, Z, 0)"
       ]
      }
     ],
     "prompt_number": 173
    },
    {
     "cell_type": "markdown",
     "metadata": {},
     "source": [
      "Caso Z = 0"
     ]
    },
    {
     "cell_type": "code",
     "collapsed": false,
     "input": [
      "print sy.solve(dH.subs([(Z,0)]),H)\n",
      "print sy.solve(dI.subs([(Z,0)]), I)\n",
      "print sy.solve(dM.subs([(Z,0)]), M)"
     ],
     "language": "python",
     "metadata": {},
     "outputs": [
      {
       "output_type": "stream",
       "stream": "stdout",
       "text": [
        "[]\n",
        "[0]\n",
        "[0]\n"
       ]
      }
     ],
     "prompt_number": 174
    },
    {
     "cell_type": "code",
     "collapsed": false,
     "input": [
      "(H, 0, 0, 0)"
     ],
     "language": "python",
     "metadata": {},
     "outputs": [
      {
       "latex": [
        "$$\\begin{pmatrix}H, & 0, & 0, & 0\\end{pmatrix}$$"
       ],
       "metadata": {},
       "output_type": "pyout",
       "prompt_number": 175,
       "text": [
        "(H, 0, 0, 0)"
       ]
      }
     ],
     "prompt_number": 175
    },
    {
     "cell_type": "code",
     "collapsed": false,
     "input": [
      "XB = sy.Matrix([dH, dI, dZ, dM])\n",
      "YB = sy.Matrix([H, I, Z, M])\n",
      "JB = XB.jacobian(YB)\n",
      "JB"
     ],
     "language": "python",
     "metadata": {},
     "outputs": [
      {
       "latex": [
        "$$\\left[\\begin{matrix}- Z \\beta & 0 & - H \\beta & 0\\\\Z \\beta & - \\rho & H \\beta & 0\\\\- Z \\alpha & \\rho & - H \\alpha & \\zeta\\\\Z \\alpha & 0 & H \\alpha & - \\zeta\\end{matrix}\\right]$$"
       ],
       "metadata": {},
       "output_type": "pyout",
       "prompt_number": 176,
       "text": [
        "\u23a1-Z\u22c5\u03b2  0   -H\u22c5\u03b2  0 \u23a4\n",
        "\u23a2                  \u23a5\n",
        "\u23a2Z\u22c5\u03b2   -\u03c1  H\u22c5\u03b2   0 \u23a5\n",
        "\u23a2                  \u23a5\n",
        "\u23a2-Z\u22c5\u03b1  \u03c1   -H\u22c5\u03b1  \u03b6 \u23a5\n",
        "\u23a2                  \u23a5\n",
        "\u23a3Z\u22c5\u03b1   0   H\u22c5\u03b1   -\u03b6\u23a6"
       ]
      }
     ],
     "prompt_number": 176
    },
    {
     "cell_type": "markdown",
     "metadata": {},
     "source": [
      "Caso (0,0,Z,0)"
     ]
    },
    {
     "cell_type": "code",
     "collapsed": false,
     "input": [
      "JB1 = JB.subs([(H,0),(M,0), (I,0)])\n",
      "JB1"
     ],
     "language": "python",
     "metadata": {},
     "outputs": [
      {
       "latex": [
        "$$\\left[\\begin{matrix}- Z \\beta & 0 & 0 & 0\\\\Z \\beta & - \\rho & 0 & 0\\\\- Z \\alpha & \\rho & 0 & \\zeta\\\\Z \\alpha & 0 & 0 & - \\zeta\\end{matrix}\\right]$$"
       ],
       "metadata": {},
       "output_type": "pyout",
       "prompt_number": 177,
       "text": [
        "\u23a1-Z\u22c5\u03b2  0   0  0 \u23a4\n",
        "\u23a2               \u23a5\n",
        "\u23a2Z\u22c5\u03b2   -\u03c1  0  0 \u23a5\n",
        "\u23a2               \u23a5\n",
        "\u23a2-Z\u22c5\u03b1  \u03c1   0  \u03b6 \u23a5\n",
        "\u23a2               \u23a5\n",
        "\u23a3Z\u22c5\u03b1   0   0  -\u03b6\u23a6"
       ]
      }
     ],
     "prompt_number": 177
    },
    {
     "cell_type": "code",
     "collapsed": false,
     "input": [
      "polB1 = sy.det(JB1-lamb*sy.eye(4))\n",
      "sy.factor(polB1)"
     ],
     "language": "python",
     "metadata": {},
     "outputs": [
      {
       "latex": [
        "$$\\lambda \\left(\\lambda + \\rho\\right) \\left(\\lambda + \\zeta\\right) \\left(Z \\beta + \\lambda\\right)$$"
       ],
       "metadata": {},
       "output_type": "pyout",
       "prompt_number": 178,
       "text": [
        "\u03bb\u22c5(\u03bb + \u03c1)\u22c5(\u03bb + \u03b6)\u22c5(Z\u22c5\u03b2 + \u03bb)"
       ]
      }
     ],
     "prompt_number": 178
    },
    {
     "cell_type": "code",
     "collapsed": false,
     "input": [
      "sy.solve(polB1, lamb)"
     ],
     "language": "python",
     "metadata": {},
     "outputs": [
      {
       "latex": [
        "$$\\begin{bmatrix}0, & - \\rho, & - \\zeta, & - Z \\beta\\end{bmatrix}$$"
       ],
       "metadata": {},
       "output_type": "pyout",
       "prompt_number": 179,
       "text": [
        "[0, -\u03c1, -\u03b6, -Z\u22c5\u03b2]"
       ]
      }
     ],
     "prompt_number": 179
    },
    {
     "cell_type": "markdown",
     "metadata": {},
     "source": [
      "Como totos los eigenvalores son negativos o 0, el punto $(0,0,Z,0)$ es un equilibrio estable"
     ]
    },
    {
     "cell_type": "markdown",
     "metadata": {},
     "source": [
      "Caso (H,0,0,0)"
     ]
    },
    {
     "cell_type": "code",
     "collapsed": false,
     "input": [
      "JB2 = JB.subs([(Z,0),(M,0), (I,0)])\n",
      "JB2"
     ],
     "language": "python",
     "metadata": {},
     "outputs": [
      {
       "latex": [
        "$$\\left[\\begin{matrix}0 & 0 & - H \\beta & 0\\\\0 & - \\rho & H \\beta & 0\\\\0 & \\rho & - H \\alpha & \\zeta\\\\0 & 0 & H \\alpha & - \\zeta\\end{matrix}\\right]$$"
       ],
       "metadata": {},
       "output_type": "pyout",
       "prompt_number": 180,
       "text": [
        "\u23a10  0   -H\u22c5\u03b2  0 \u23a4\n",
        "\u23a2               \u23a5\n",
        "\u23a20  -\u03c1  H\u22c5\u03b2   0 \u23a5\n",
        "\u23a2               \u23a5\n",
        "\u23a20  \u03c1   -H\u22c5\u03b1  \u03b6 \u23a5\n",
        "\u23a2               \u23a5\n",
        "\u23a30  0   H\u22c5\u03b1   -\u03b6\u23a6"
       ]
      }
     ],
     "prompt_number": 180
    },
    {
     "cell_type": "code",
     "collapsed": false,
     "input": [
      "polB2 = sy.det(JB2-lamb*sy.eye(4))\n",
      "sy.factor(polB2)"
     ],
     "language": "python",
     "metadata": {},
     "outputs": [
      {
       "latex": [
        "$$\\lambda \\left(H \\alpha \\lambda^{2} + H \\alpha \\lambda \\rho - H \\beta \\lambda \\rho - H \\beta \\rho \\zeta + \\lambda^{3} + \\lambda^{2} \\rho + \\lambda^{2} \\zeta + \\lambda \\rho \\zeta\\right)$$"
       ],
       "metadata": {},
       "output_type": "pyout",
       "prompt_number": 181,
       "text": [
        "  \u239b     2                                  3    2      2          \u239e\n",
        "\u03bb\u22c5\u239dH\u22c5\u03b1\u22c5\u03bb  + H\u22c5\u03b1\u22c5\u03bb\u22c5\u03c1 - H\u22c5\u03b2\u22c5\u03bb\u22c5\u03c1 - H\u22c5\u03b2\u22c5\u03c1\u22c5\u03b6 + \u03bb  + \u03bb \u22c5\u03c1 + \u03bb \u22c5\u03b6 + \u03bb\u22c5\u03c1\u22c5\u03b6\u23a0"
       ]
      }
     ],
     "prompt_number": 181
    },
    {
     "cell_type": "code",
     "collapsed": false,
     "input": [
      "JB2-lamb*sy.eye(4)"
     ],
     "language": "python",
     "metadata": {},
     "outputs": [
      {
       "latex": [
        "$$\\left[\\begin{matrix}- \\lambda & 0 & - H \\beta & 0\\\\0 & - \\lambda - \\rho & H \\beta & 0\\\\0 & \\rho & - H \\alpha - \\lambda & \\zeta\\\\0 & 0 & H \\alpha & - \\lambda - \\zeta\\end{matrix}\\right]$$"
       ],
       "metadata": {},
       "output_type": "pyout",
       "prompt_number": 182,
       "text": [
        "\u23a1-\u03bb    0       -H\u22c5\u03b2      0   \u23a4\n",
        "\u23a2                            \u23a5\n",
        "\u23a20   -\u03bb - \u03c1    H\u22c5\u03b2       0   \u23a5\n",
        "\u23a2                            \u23a5\n",
        "\u23a20     \u03c1     -H\u22c5\u03b1 - \u03bb    \u03b6   \u23a5\n",
        "\u23a2                            \u23a5\n",
        "\u23a30     0       H\u22c5\u03b1     -\u03bb - \u03b6\u23a6"
       ]
      }
     ],
     "prompt_number": 182
    },
    {
     "cell_type": "markdown",
     "metadata": {},
     "source": [
      "El determinante de la matriz est\u00e1 dado por $-\\lambda$ multiplicado por el determinante de la matriz:"
     ]
    },
    {
     "cell_type": "code",
     "collapsed": false,
     "input": [
      "detB = sy.Matrix([[-lamb-rho, H*beta, 0], [rho, -H*alpha-lamb, zeta], [0, H*alpha, -lamb-zeta]])\n",
      "detB"
     ],
     "language": "python",
     "metadata": {},
     "outputs": [
      {
       "latex": [
        "$$\\left[\\begin{matrix}- \\lambda - \\rho & H \\beta & 0\\\\\\rho & - H \\alpha - \\lambda & \\zeta\\\\0 & H \\alpha & - \\lambda - \\zeta\\end{matrix}\\right]$$"
       ],
       "metadata": {},
       "output_type": "pyout",
       "prompt_number": 183,
       "text": [
        "\u23a1-\u03bb - \u03c1    H\u22c5\u03b2       0   \u23a4\n",
        "\u23a2                        \u23a5\n",
        "\u23a2  \u03c1     -H\u22c5\u03b1 - \u03bb    \u03b6   \u23a5\n",
        "\u23a2                        \u23a5\n",
        "\u23a3  0       H\u22c5\u03b1     -\u03bb - \u03b6\u23a6"
       ]
      }
     ],
     "prompt_number": 183
    },
    {
     "cell_type": "markdown",
     "metadata": {},
     "source": [
      "La traza de la matriz anterior es:"
     ]
    },
    {
     "cell_type": "code",
     "collapsed": false,
     "input": [
      "sy.factor(sy.det(detB), lamb)"
     ],
     "language": "python",
     "metadata": {},
     "outputs": [
      {
       "latex": [
        "$$H \\beta \\rho \\zeta - \\lambda^{3} - \\lambda^{2} \\left(H \\alpha + \\rho + \\zeta\\right) - \\lambda \\left(H \\alpha \\rho - H \\beta \\rho + \\rho \\zeta\\right)$$"
       ],
       "metadata": {},
       "output_type": "pyout",
       "prompt_number": 184,
       "text": [
        "           3    2                                        \n",
        "H\u22c5\u03b2\u22c5\u03c1\u22c5\u03b6 - \u03bb  - \u03bb \u22c5(H\u22c5\u03b1 + \u03c1 + \u03b6) - \u03bb\u22c5(H\u22c5\u03b1\u22c5\u03c1 - H\u22c5\u03b2\u22c5\u03c1 + \u03c1\u22c5\u03b6)"
       ]
      }
     ],
     "prompt_number": 184
    },
    {
     "cell_type": "markdown",
     "metadata": {},
     "source": [
      "$H\\beta\\rho\\zeta > 0$ entonces $P(0) > 0$ y como $\\lim_{\\lambda \\rightarrow \\infty} P(\\lambda) = -\\infty$\n",
      "\n",
      "Entonces existe $\\lambda_0$ positiva tal que $P(\\lambda_0) = 0$\n",
      "\n",
      "Por lo tanto $(H,0,0,0)$ es un equilibrio inestable"
     ]
    },
    {
     "cell_type": "heading",
     "level": 3,
     "metadata": {},
     "source": [
      "Gr\u00e1ficas"
     ]
    },
    {
     "cell_type": "code",
     "collapsed": false,
     "input": [
      "def derivadasB(estado, t, a, b, z, r):\n",
      "    dh = -b*estado[0]*estado[2]\n",
      "    di = b*estado[0]*estado[2] - r*estado[1]\n",
      "    dz = r*estado[1] + z*estado[3] - a*estado[0]*estado[2]\n",
      "    dm = a*estado[0]*estado[2] - z*estado[3]\n",
      "    return np.array([dh, di, dz, dm])\n",
      "\n",
      "def solucionB(humanos, infectados, zombies, muertos, a, b, z, r):\n",
      "    tiempo = np.linspace(0, 1, 100)\n",
      "    estadoB = np.array([humanos,infectados,zombies,muertos])\n",
      "    sol = odeint(derivadasB, estadoB, tiempo, args=(a, b, z, r))\n",
      "    plt.figure(figsize=(15,5))\n",
      "    plt.plot(tiempo,sol.T[0], c='b', label=\"Humanos\")\n",
      "    plt.plot(tiempo,sol.T[1], c='purple', label=\"Infectados\")\n",
      "    plt.plot(tiempo,sol.T[2], c='g', label=\"Zombies\")\n",
      "    plt.plot(tiempo,sol.T[3], c='r', label=\"Muertos\")\n",
      "    lim = np.amax(sol)\n",
      "    plt.legend()\n",
      "    plt.ylim(0,lim+10)"
     ],
     "language": "python",
     "metadata": {},
     "outputs": [],
     "prompt_number": 185
    },
    {
     "cell_type": "code",
     "collapsed": false,
     "input": [
      "interact(solucionB,humanos=(0,1000,50), infectados=(0,10,1), zombies=(0,1000,1), muertos=fixed(0), a=(0.01,1,0.01), b=(0.1,1,0.05), z=(0.01,0.5,0.01), r=(0.1,1,0.05));"
     ],
     "language": "python",
     "metadata": {},
     "outputs": [
      {
       "metadata": {},
       "output_type": "display_data",
       "png": "[encoded data removed]",
       "text": [
        "<matplotlib.figure.Figure at 0x7fe5a76d1050>"
       ]
      }
     ],
     "prompt_number": 186
    },
    {
     "cell_type": "heading",
     "level": 2,
     "metadata": {},
     "source": [
      "Modelo con cuarentena"
     ]
    },
    {
     "cell_type": "code",
     "collapsed": false,
     "input": [
      "pi = 0\n",
      "delta = 0"
     ],
     "language": "python",
     "metadata": {},
     "outputs": [],
     "prompt_number": 187
    },
    {
     "cell_type": "code",
     "collapsed": false,
     "input": [
      "dH = pi - beta*H*Z - delta*H\n",
      "dI = beta*H*Z - rho*I - delta*I - kappa*I\n",
      "dZ = rho*I + zeta*M - alpha*H*Z - sigma*Z\n",
      "dM = delta*H + delta*I + alpha*H*Z - zeta*M + gamma*Q\n",
      "dQ = kappa*I + sigma*Z - gamma*Q"
     ],
     "language": "python",
     "metadata": {},
     "outputs": [],
     "prompt_number": 188
    },
    {
     "cell_type": "code",
     "collapsed": false,
     "input": [
      "sy.solve(dH)"
     ],
     "language": "python",
     "metadata": {},
     "outputs": [
      {
       "latex": [
        "$$\\begin{bmatrix}\\begin{Bmatrix}H : 0\\end{Bmatrix}, & \\begin{Bmatrix}Z : 0\\end{Bmatrix}, & \\begin{Bmatrix}\\beta : 0\\end{Bmatrix}\\end{bmatrix}$$"
       ],
       "metadata": {},
       "output_type": "pyout",
       "prompt_number": 189,
       "text": [
        "[{H: 0}, {Z: 0}, {\u03b2: 0}]"
       ]
      }
     ],
     "prompt_number": 189
    },
    {
     "cell_type": "markdown",
     "metadata": {},
     "source": [
      "Caso Z = 0"
     ]
    },
    {
     "cell_type": "code",
     "collapsed": false,
     "input": [
      "print sy.solve(dH.subs([(Z,0)]), H)\n",
      "print sy.solve(dI.subs([(Z,0)]), I)\n",
      "print sy.solve(dM.subs([(Z,0), (I,0), (Q,0)]), M)\n",
      "print sy.solve(dQ.subs([(Z,0), (I,0)]), Q)"
     ],
     "language": "python",
     "metadata": {},
     "outputs": [
      {
       "output_type": "stream",
       "stream": "stdout",
       "text": [
        "[]\n",
        "[0]\n",
        "[0]\n",
        "[0]\n"
       ]
      }
     ],
     "prompt_number": 190
    },
    {
     "cell_type": "code",
     "collapsed": false,
     "input": [
      "(H,0,0,0,0)"
     ],
     "language": "python",
     "metadata": {},
     "outputs": [
      {
       "latex": [
        "$$\\begin{pmatrix}H, & 0, & 0, & 0, & 0\\end{pmatrix}$$"
       ],
       "metadata": {},
       "output_type": "pyout",
       "prompt_number": 191,
       "text": [
        "(H, 0, 0, 0, 0)"
       ]
      }
     ],
     "prompt_number": 191
    },
    {
     "cell_type": "markdown",
     "metadata": {},
     "source": [
      "Caso H = 0"
     ]
    },
    {
     "cell_type": "code",
     "collapsed": false,
     "input": [
      "print sy.solve(dI.subs([(H,0)]), I)\n",
      "print sy.solve(dZ.subs([(H,0), (I,0)]), Z)\n",
      "print sy.solve(dM.subs([(H,0), (I,0)]), M)\n",
      "print sy.solve(dQ.subs([(H,0), (I,0)]), Q)"
     ],
     "language": "python",
     "metadata": {},
     "outputs": [
      {
       "output_type": "stream",
       "stream": "stdout",
       "text": [
        "[0]\n",
        "[M*zeta/sigma]\n",
        "[Q*gamma/zeta]\n",
        "[Z*sigma/gamma]\n"
       ]
      }
     ],
     "prompt_number": 192
    },
    {
     "cell_type": "code",
     "collapsed": false,
     "input": [
      "(0,0,M*zeta/sigma, Q*gamma/zeta, Z*sigma/gamma)"
     ],
     "language": "python",
     "metadata": {},
     "outputs": [
      {
       "latex": [
        "$$\\begin{pmatrix}0, & 0, & \\frac{M \\zeta}{\\sigma}, & \\frac{Q \\gamma}{\\zeta}, & \\frac{Z \\sigma}{\\gamma}\\end{pmatrix}$$"
       ],
       "metadata": {},
       "output_type": "pyout",
       "prompt_number": 193,
       "text": [
        "\u239b      M\u22c5\u03b6  Q\u22c5\u03b3  Z\u22c5\u03c3\u239e\n",
        "\u239c0, 0, \u2500\u2500\u2500, \u2500\u2500\u2500, \u2500\u2500\u2500\u239f\n",
        "\u239d       \u03c3    \u03b6    \u03b3 \u23a0"
       ]
      }
     ],
     "prompt_number": 193
    },
    {
     "cell_type": "code",
     "collapsed": false,
     "input": [
      "XC = sy.Matrix([dH, dI, dZ, dM, dQ])\n",
      "YC = sy.Matrix([H, I, Z, M, Q])\n",
      "JC = XC.jacobian(YC)\n",
      "JC"
     ],
     "language": "python",
     "metadata": {},
     "outputs": [
      {
       "latex": [
        "$$\\left[\\begin{matrix}- Z \\beta & 0 & - H \\beta & 0 & 0\\\\Z \\beta & - \\kappa - \\rho & H \\beta & 0 & 0\\\\- Z \\alpha & \\rho & - H \\alpha - \\sigma & \\zeta & 0\\\\Z \\alpha & 0 & H \\alpha & - \\zeta & \\gamma\\\\0 & \\kappa & \\sigma & 0 & - \\gamma\\end{matrix}\\right]$$"
       ],
       "metadata": {},
       "output_type": "pyout",
       "prompt_number": 194,
       "text": [
        "\u23a1-Z\u22c5\u03b2    0       -H\u22c5\u03b2    0   0 \u23a4\n",
        "\u23a2                              \u23a5\n",
        "\u23a2Z\u22c5\u03b2   -\u03ba - \u03c1    H\u22c5\u03b2     0   0 \u23a5\n",
        "\u23a2                              \u23a5\n",
        "\u23a2-Z\u22c5\u03b1    \u03c1     -H\u22c5\u03b1 - \u03c3  \u03b6   0 \u23a5\n",
        "\u23a2                              \u23a5\n",
        "\u23a2Z\u22c5\u03b1     0       H\u22c5\u03b1     -\u03b6  \u03b3 \u23a5\n",
        "\u23a2                              \u23a5\n",
        "\u23a3 0      \u03ba        \u03c3      0   -\u03b3\u23a6"
       ]
      }
     ],
     "prompt_number": 194
    },
    {
     "cell_type": "code",
     "collapsed": false,
     "input": [
      "JC1 = JC.subs([(M,0), (I,0), (Z,0), (Q,0)])\n",
      "JC1"
     ],
     "language": "python",
     "metadata": {},
     "outputs": [
      {
       "latex": [
        "$$\\left[\\begin{matrix}0 & 0 & - H \\beta & 0 & 0\\\\0 & - \\kappa - \\rho & H \\beta & 0 & 0\\\\0 & \\rho & - H \\alpha - \\sigma & \\zeta & 0\\\\0 & 0 & H \\alpha & - \\zeta & \\gamma\\\\0 & \\kappa & \\sigma & 0 & - \\gamma\\end{matrix}\\right]$$"
       ],
       "metadata": {},
       "output_type": "pyout",
       "prompt_number": 195,
       "text": [
        "\u23a10    0       -H\u22c5\u03b2    0   0 \u23a4\n",
        "\u23a2                           \u23a5\n",
        "\u23a20  -\u03ba - \u03c1    H\u22c5\u03b2     0   0 \u23a5\n",
        "\u23a2                           \u23a5\n",
        "\u23a20    \u03c1     -H\u22c5\u03b1 - \u03c3  \u03b6   0 \u23a5\n",
        "\u23a2                           \u23a5\n",
        "\u23a20    0       H\u22c5\u03b1     -\u03b6  \u03b3 \u23a5\n",
        "\u23a2                           \u23a5\n",
        "\u23a30    \u03ba        \u03c3      0   -\u03b3\u23a6"
       ]
      }
     ],
     "prompt_number": 195
    },
    {
     "cell_type": "code",
     "collapsed": false,
     "input": [
      "JC2 = JC.subs([(H,0), (I,0), (Z,M*zeta/sigma), (M,Q*gamma/zeta), (Q,Z*sigma/gamma)])\n",
      "JC2"
     ],
     "language": "python",
     "metadata": {},
     "outputs": [
      {
       "latex": [
        "$$\\left[\\begin{matrix}- Z \\beta & 0 & 0 & 0 & 0\\\\Z \\beta & - \\kappa - \\rho & 0 & 0 & 0\\\\- Z \\alpha & \\rho & - \\sigma & \\zeta & 0\\\\Z \\alpha & 0 & 0 & - \\zeta & \\gamma\\\\0 & \\kappa & \\sigma & 0 & - \\gamma\\end{matrix}\\right]$$"
       ],
       "metadata": {},
       "output_type": "pyout",
       "prompt_number": 196,
       "text": [
        "\u23a1-Z\u22c5\u03b2    0     0   0   0 \u23a4\n",
        "\u23a2                        \u23a5\n",
        "\u23a2Z\u22c5\u03b2   -\u03ba - \u03c1  0   0   0 \u23a5\n",
        "\u23a2                        \u23a5\n",
        "\u23a2-Z\u22c5\u03b1    \u03c1     -\u03c3  \u03b6   0 \u23a5\n",
        "\u23a2                        \u23a5\n",
        "\u23a2Z\u22c5\u03b1     0     0   -\u03b6  \u03b3 \u23a5\n",
        "\u23a2                        \u23a5\n",
        "\u23a3 0      \u03ba     \u03c3   0   -\u03b3\u23a6"
       ]
      }
     ],
     "prompt_number": 196
    },
    {
     "cell_type": "heading",
     "level": 3,
     "metadata": {},
     "source": [
      "Gr\u00e1ficas"
     ]
    },
    {
     "cell_type": "code",
     "collapsed": false,
     "input": [
      "def derivadasC(estado, t, a, b, z, r, k, s, g):\n",
      "    dh = -b*estado[0]*estado[2]\n",
      "    di = b*estado[0]*estado[2] - r*estado[1] - k*estado[1]\n",
      "    dz = r*estado[1] + z*estado[3] - a*estado[0]*estado[2] - s*estado[2]\n",
      "    dm = a*estado[0]*estado[2] - z*estado[3] + g*estado[4]\n",
      "    dq = k*estado[1] + s*estado[2] - g*estado[4]\n",
      "    return np.array([dh, di, dz, dm, dq])\n",
      "\n",
      "def solucionC(humanos, infectados, zombies, muertos, cuarentena, a, b, z, r, k, s, g):\n",
      "    tiempo = np.linspace(0, 10, 100)\n",
      "    estadoC = np.array([humanos,infectados,zombies,muertos,cuarentena])\n",
      "    sol = odeint(derivadasC, estadoC, tiempo, args=(a, b, z, r, k, s, g))\n",
      "    plt.figure(figsize=(15,5))\n",
      "    plt.plot(tiempo,sol.T[0], c='b', label=\"Humanos\")\n",
      "    plt.plot(tiempo,sol.T[1], c='purple', label=\"Infectados\")\n",
      "    plt.plot(tiempo,sol.T[2], c='g', label=\"Zombies\")\n",
      "    plt.plot(tiempo,sol.T[3], c='r', label=\"Muertos\")\n",
      "    plt.plot(tiempo,sol.T[4], c='k', label=\"Cuarentena\")\n",
      "    lim = np.amax(sol)\n",
      "    plt.legend()\n",
      "    plt.ylim(0,lim+10)"
     ],
     "language": "python",
     "metadata": {},
     "outputs": [],
     "prompt_number": 197
    },
    {
     "cell_type": "code",
     "collapsed": false,
     "input": [
      "interact(solucionC,humanos=(0,1000,50),infectados=(0,10,1),zombies=(0,1000,1),muertos=fixed(0),cuarentena=fixed(0),a=(0.01,1,0.01),b=(0.1,1,0.05),z=(0.01,0.5,0.01),r=(0.1,1,0.05),k=(0.1,1,0.1),s=(0.01,0.5,0.01), g=(0,1,0.1));"
     ],
     "language": "python",
     "metadata": {},
     "outputs": [
      {
       "metadata": {},
       "output_type": "display_data",
       "png": "[encoded data removed]",
       "text": [
        "<matplotlib.figure.Figure at 0x7fe5a6d98dd0>"
       ]
      }
     ],
     "prompt_number": 198
    },
    {
     "cell_type": "heading",
     "level": 2,
     "metadata": {},
     "source": [
      "Modelo con tratamiento"
     ]
    },
    {
     "cell_type": "code",
     "collapsed": false,
     "input": [
      "pi = 0\n",
      "delta = 0"
     ],
     "language": "python",
     "metadata": {},
     "outputs": [],
     "prompt_number": 199
    },
    {
     "cell_type": "code",
     "collapsed": false,
     "input": [
      "dH = pi - beta*H*Z - delta*H + c*I\n",
      "dI = beta*H*Z - rho*I - delta*I - c*I\n",
      "dZ = rho*I + zeta*M - alpha*H*Z\n",
      "dM = delta*H + delta*I + alpha*H*Z - zeta*M"
     ],
     "language": "python",
     "metadata": {},
     "outputs": [],
     "prompt_number": 200
    },
    {
     "cell_type": "code",
     "collapsed": false,
     "input": [
      "sy.solve(dH)"
     ],
     "language": "python",
     "metadata": {},
     "outputs": [
      {
       "latex": [
        "$$\\begin{bmatrix}\\begin{Bmatrix}H : \\frac{I c}{Z \\beta}\\end{Bmatrix}\\end{bmatrix}$$"
       ],
       "metadata": {},
       "output_type": "pyout",
       "prompt_number": 201,
       "text": [
        "\u23a1\u23a7   I\u22c5c\u23ab\u23a4\n",
        "\u23a2\u23a8H: \u2500\u2500\u2500\u23ac\u23a5\n",
        "\u23a3\u23a9   Z\u22c5\u03b2\u23ad\u23a6"
       ]
      }
     ],
     "prompt_number": 201
    },
    {
     "cell_type": "code",
     "collapsed": false,
     "input": [
      "sy.solve(dI.subs([(H, I*c/(Z*beta))]))"
     ],
     "language": "python",
     "metadata": {},
     "outputs": [
      {
       "latex": [
        "$$\\begin{bmatrix}\\begin{Bmatrix}I : 0\\end{Bmatrix}, & \\begin{Bmatrix}\\rho : 0\\end{Bmatrix}\\end{bmatrix}$$"
       ],
       "metadata": {},
       "output_type": "pyout",
       "prompt_number": 202,
       "text": [
        "[{I: 0}, {\u03c1: 0}]"
       ]
      }
     ],
     "prompt_number": 202
    },
    {
     "cell_type": "code",
     "collapsed": false,
     "input": [
      "sy.solve(dZ.subs([(H, I*c/(Z*beta)), (I,0)]))"
     ],
     "language": "python",
     "metadata": {},
     "outputs": [
      {
       "latex": [
        "$$\\begin{bmatrix}\\begin{Bmatrix}M : 0\\end{Bmatrix}, & \\begin{Bmatrix}\\zeta : 0\\end{Bmatrix}\\end{bmatrix}$$"
       ],
       "metadata": {},
       "output_type": "pyout",
       "prompt_number": 203,
       "text": [
        "[{M: 0}, {\u03b6: 0}]"
       ]
      }
     ],
     "prompt_number": 203
    },
    {
     "cell_type": "code",
     "collapsed": false,
     "input": [
      "(H,0,0,0)"
     ],
     "language": "python",
     "metadata": {},
     "outputs": [
      {
       "latex": [
        "$$\\begin{pmatrix}H, & 0, & 0, & 0\\end{pmatrix}$$"
       ],
       "metadata": {},
       "output_type": "pyout",
       "prompt_number": 204,
       "text": [
        "(H, 0, 0, 0)"
       ]
      }
     ],
     "prompt_number": 204
    },
    {
     "cell_type": "code",
     "collapsed": false,
     "input": [
      "(0, Z, 0, 0)"
     ],
     "language": "python",
     "metadata": {},
     "outputs": [
      {
       "latex": [
        "$$\\begin{pmatrix}0, & Z, & 0, & 0\\end{pmatrix}$$"
       ],
       "metadata": {},
       "output_type": "pyout",
       "prompt_number": 205,
       "text": [
        "(0, Z, 0, 0)"
       ]
      }
     ],
     "prompt_number": 205
    },
    {
     "cell_type": "code",
     "collapsed": false,
     "input": [
      "XD = sy.Matrix([dH, dI, dZ, dM])\n",
      "YD = sy.Matrix([H, I, Z, M])\n",
      "JD = XD.jacobian(YD)\n",
      "JD"
     ],
     "language": "python",
     "metadata": {},
     "outputs": [
      {
       "latex": [
        "$$\\left[\\begin{matrix}- Z \\beta & c & - H \\beta & 0\\\\Z \\beta & - c - \\rho & H \\beta & 0\\\\- Z \\alpha & \\rho & - H \\alpha & \\zeta\\\\Z \\alpha & 0 & H \\alpha & - \\zeta\\end{matrix}\\right]$$"
       ],
       "metadata": {},
       "output_type": "pyout",
       "prompt_number": 206,
       "text": [
        "\u23a1-Z\u22c5\u03b2    c     -H\u22c5\u03b2  0 \u23a4\n",
        "\u23a2                      \u23a5\n",
        "\u23a2Z\u22c5\u03b2   -c - \u03c1  H\u22c5\u03b2   0 \u23a5\n",
        "\u23a2                      \u23a5\n",
        "\u23a2-Z\u22c5\u03b1    \u03c1     -H\u22c5\u03b1  \u03b6 \u23a5\n",
        "\u23a2                      \u23a5\n",
        "\u23a3Z\u22c5\u03b1     0     H\u22c5\u03b1   -\u03b6\u23a6"
       ]
      }
     ],
     "prompt_number": 206
    },
    {
     "cell_type": "code",
     "collapsed": false,
     "input": [
      "JD1 = JD.subs([(M,0), (I,0), (Z,0)])\n",
      "JD1"
     ],
     "language": "python",
     "metadata": {},
     "outputs": [
      {
       "latex": [
        "$$\\left[\\begin{matrix}0 & c & - H \\beta & 0\\\\0 & - c - \\rho & H \\beta & 0\\\\0 & \\rho & - H \\alpha & \\zeta\\\\0 & 0 & H \\alpha & - \\zeta\\end{matrix}\\right]$$"
       ],
       "metadata": {},
       "output_type": "pyout",
       "prompt_number": 207,
       "text": [
        "\u23a10    c     -H\u22c5\u03b2  0 \u23a4\n",
        "\u23a2                   \u23a5\n",
        "\u23a20  -c - \u03c1  H\u22c5\u03b2   0 \u23a5\n",
        "\u23a2                   \u23a5\n",
        "\u23a20    \u03c1     -H\u22c5\u03b1  \u03b6 \u23a5\n",
        "\u23a2                   \u23a5\n",
        "\u23a30    0     H\u22c5\u03b1   -\u03b6\u23a6"
       ]
      }
     ],
     "prompt_number": 207
    },
    {
     "cell_type": "code",
     "collapsed": false,
     "input": [
      "polD1 = sy.det(JD1-lamb*sy.eye(4))\n",
      "sy.factor(polD1, lamb)"
     ],
     "language": "python",
     "metadata": {},
     "outputs": [
      {
       "latex": [
        "$$\\lambda \\left(- H \\beta \\rho \\zeta + \\lambda^{3} + \\lambda^{2} \\left(H \\alpha + c + \\rho + \\zeta\\right) + \\lambda \\left(H \\alpha c + H \\alpha \\rho - H \\beta \\rho + c \\zeta + \\rho \\zeta\\right)\\right)$$"
       ],
       "metadata": {},
       "output_type": "pyout",
       "prompt_number": 208,
       "text": [
        "  \u239b            3    2                                                         \n",
        "\u03bb\u22c5\u239d-H\u22c5\u03b2\u22c5\u03c1\u22c5\u03b6 + \u03bb  + \u03bb \u22c5(H\u22c5\u03b1 + c + \u03c1 + \u03b6) + \u03bb\u22c5(H\u22c5\u03b1\u22c5c + H\u22c5\u03b1\u22c5\u03c1 - H\u22c5\u03b2\u22c5\u03c1 + c\u22c5\u03b6 + \u03c1\u22c5\u03b6\n",
        "\n",
        " \u239e\n",
        ")\u23a0"
       ]
      }
     ],
     "prompt_number": 208
    },
    {
     "cell_type": "markdown",
     "metadata": {},
     "source": [
      "$-H\\beta\\rho\\zeta < 0$ entonces $P(0) < 0$ y como $\\lim_{\\lambda \\rightarrow -\\infty} P(\\lambda) = \\infty$\n",
      "\n",
      "Entonces existe $\\lambda_0$ positiva tal que $P(\\lambda_0) = 0$\n",
      "\n",
      "Por lo tanto $(H,0,0,0)$ es un equilibrio inestable"
     ]
    },
    {
     "cell_type": "code",
     "collapsed": false,
     "input": [
      "JD2 = JD.subs([(M,0), (I,0), (H,0)])\n",
      "JD2"
     ],
     "language": "python",
     "metadata": {},
     "outputs": [
      {
       "latex": [
        "$$\\left[\\begin{matrix}- Z \\beta & c & 0 & 0\\\\Z \\beta & - c - \\rho & 0 & 0\\\\- Z \\alpha & \\rho & 0 & \\zeta\\\\Z \\alpha & 0 & 0 & - \\zeta\\end{matrix}\\right]$$"
       ],
       "metadata": {},
       "output_type": "pyout",
       "prompt_number": 209,
       "text": [
        "\u23a1-Z\u22c5\u03b2    c     0  0 \u23a4\n",
        "\u23a2                   \u23a5\n",
        "\u23a2Z\u22c5\u03b2   -c - \u03c1  0  0 \u23a5\n",
        "\u23a2                   \u23a5\n",
        "\u23a2-Z\u22c5\u03b1    \u03c1     0  \u03b6 \u23a5\n",
        "\u23a2                   \u23a5\n",
        "\u23a3Z\u22c5\u03b1     0     0  -\u03b6\u23a6"
       ]
      }
     ],
     "prompt_number": 209
    },
    {
     "cell_type": "code",
     "collapsed": false,
     "input": [
      "polD2 = sy.det(JD2-lamb*sy.eye(4))\n",
      "sy.factor(polD2, lamb)"
     ],
     "language": "python",
     "metadata": {},
     "outputs": [
      {
       "latex": [
        "$$\\lambda \\left(\\lambda + \\zeta\\right) \\left(Z \\beta \\rho + \\lambda^{2} + \\lambda \\left(Z \\beta + c + \\rho\\right)\\right)$$"
       ],
       "metadata": {},
       "output_type": "pyout",
       "prompt_number": 210,
       "text": [
        "          \u239b         2                  \u239e\n",
        "\u03bb\u22c5(\u03bb + \u03b6)\u22c5\u239dZ\u22c5\u03b2\u22c5\u03c1 + \u03bb  + \u03bb\u22c5(Z\u22c5\u03b2 + c + \u03c1)\u23a0"
       ]
      }
     ],
     "prompt_number": 210
    },
    {
     "cell_type": "code",
     "collapsed": false,
     "input": [
      "sy.solve(polD2, lamb)"
     ],
     "language": "python",
     "metadata": {},
     "outputs": [
      {
       "latex": [
        "$$\\begin{bmatrix}0, & - \\zeta, & - \\frac{Z \\beta}{2} - \\frac{c}{2} - \\frac{\\rho}{2} - \\frac{1}{2} \\sqrt{Z^{2} \\beta^{2} + 2 Z \\beta c - 2 Z \\beta \\rho + c^{2} + 2 c \\rho + \\rho^{2}}, & - \\frac{Z \\beta}{2} - \\frac{c}{2} - \\frac{\\rho}{2} + \\frac{1}{2} \\sqrt{Z^{2} \\beta^{2} + 2 Z \\beta c - 2 Z \\beta \\rho + c^{2} + 2 c \\rho + \\rho^{2}}\\end{bmatrix}$$"
       ],
       "metadata": {},
       "output_type": "pyout",
       "prompt_number": 211,
       "text": [
        "\u23a1                          _____________________________________________      \n",
        "\u23a2                         \u2571  2  2                        2            2       \n",
        "\u23a2         Z\u22c5\u03b2   c   \u03c1   \u2572\u2571  Z \u22c5\u03b2  + 2\u22c5Z\u22c5\u03b2\u22c5c - 2\u22c5Z\u22c5\u03b2\u22c5\u03c1 + c  + 2\u22c5c\u22c5\u03c1 + \u03c1      Z\u22c5\n",
        "\u23a20, -\u03b6, - \u2500\u2500\u2500 - \u2500 - \u2500 - \u2500\u2500\u2500\u2500\u2500\u2500\u2500\u2500\u2500\u2500\u2500\u2500\u2500\u2500\u2500\u2500\u2500\u2500\u2500\u2500\u2500\u2500\u2500\u2500\u2500\u2500\u2500\u2500\u2500\u2500\u2500\u2500\u2500\u2500\u2500\u2500\u2500\u2500\u2500\u2500\u2500\u2500\u2500\u2500\u2500\u2500\u2500\u2500, - \u2500\u2500\n",
        "\u23a3          2    2   2                          2                             2\n",
        "\n",
        "               _____________________________________________\u23a4\n",
        "              \u2571  2  2                        2            2 \u23a5\n",
        "\u03b2   c   \u03c1   \u2572\u2571  Z \u22c5\u03b2  + 2\u22c5Z\u22c5\u03b2\u22c5c - 2\u22c5Z\u22c5\u03b2\u22c5\u03c1 + c  + 2\u22c5c\u22c5\u03c1 + \u03c1  \u23a5\n",
        "\u2500 - \u2500 - \u2500 + \u2500\u2500\u2500\u2500\u2500\u2500\u2500\u2500\u2500\u2500\u2500\u2500\u2500\u2500\u2500\u2500\u2500\u2500\u2500\u2500\u2500\u2500\u2500\u2500\u2500\u2500\u2500\u2500\u2500\u2500\u2500\u2500\u2500\u2500\u2500\u2500\u2500\u2500\u2500\u2500\u2500\u2500\u2500\u2500\u2500\u2500\u2500\u2500\u23a5\n",
        "    2   2                          2                        \u23a6"
       ]
      }
     ],
     "prompt_number": 211
    },
    {
     "cell_type": "markdown",
     "metadata": {},
     "source": [
      "Como los eigenvalores son negativos $(0,0,Z,0)$ es un equilibrio estable"
     ]
    },
    {
     "cell_type": "heading",
     "level": 3,
     "metadata": {},
     "source": [
      "Gr\u00e1ficas"
     ]
    },
    {
     "cell_type": "code",
     "collapsed": false,
     "input": [
      "def derivadasD(estado, t, a, b, z, r, c):\n",
      "    dh = -b*estado[0]*estado[2] + c*estado[1]\n",
      "    di = b*estado[0]*estado[2] - r*estado[1] - c*estado[1]\n",
      "    dz = r*estado[1] + z*estado[3] - a*estado[0]*estado[2]\n",
      "    dm = a*estado[0]*estado[2] - z*estado[3]\n",
      "    return np.array([dh, di, dz, dm])\n",
      "\n",
      "def solucionD(humanos, infectados, zombies, muertos, a, b, z, r, c):\n",
      "    tiempo = np.linspace(0, 2, 200)\n",
      "    estadoD = np.array([humanos,infectados,zombies,muertos])\n",
      "    sol = odeint(derivadasD, estadoD, tiempo, args=(a, b, z, r, c))\n",
      "    plt.figure(figsize=(15,5))\n",
      "    plt.plot(tiempo,sol.T[0], c='b', label=\"Humanos\")\n",
      "    plt.plot(tiempo,sol.T[1], c='purple', label=\"Infectados\")\n",
      "    plt.plot(tiempo,sol.T[2], c='g', label=\"Zombies\")\n",
      "    plt.plot(tiempo,sol.T[3], c='r', label=\"Muertos\")\n",
      "    lim = np.amax(sol)\n",
      "    plt.legend()\n",
      "    plt.ylim(0,lim+10)"
     ],
     "language": "python",
     "metadata": {},
     "outputs": [],
     "prompt_number": 230
    },
    {
     "cell_type": "code",
     "collapsed": false,
     "input": [
      "interact(solucionD,humanos=(0,1000,50), infectados=(0,10,1), zombies=(0,1000,1), muertos=fixed(0), a=(0.01,1,0.01), b=(0.1,1,0.05), z=(0.01,0.5,0.01), r=(0.1,1,0.05), c=(0,0.8,0.01));"
     ],
     "language": "python",
     "metadata": {},
     "outputs": [
      {
       "metadata": {},
       "output_type": "display_data",
       "png": "[encoded data removed]",
       "text": [
        "<matplotlib.figure.Figure at 0x7fe5a6f89cd0>"
       ]
      }
     ],
     "prompt_number": 231
    },
    {
     "cell_type": "code",
     "collapsed": false,
     "input": [
      "fig1, ax = plt.subplots(4,1, figsize=(15,20))\n",
      "\n",
      "tiempo = np.linspace(0, 10, 1000)\n",
      "humanos = 100\n",
      "infectados = 0\n",
      "zombies = 1\n",
      "muertos = 0\n",
      "cuarentena = 0\n",
      "a = 0.05\n",
      "b = 0.3\n",
      "z = 0.2\n",
      "r = 0.3\n",
      "k = 0.5\n",
      "s = 0.01\n",
      "g = 0.1\n",
      "c = 0.85\n",
      "\n",
      "estadoA = np.array([humanos, zombies,muertos])\n",
      "solA = odeint(derivadasA,estadoA, tiempo, args=(a, b, z))\n",
      "ax[0].plot(tiempo,solA.T[0], c='b', label=\"Humanos\", linewidth=2)\n",
      "ax[0].plot(tiempo,solA.T[1], c='g', label=\"Zombies\", linewidth=2)\n",
      "ax[0].plot(tiempo,solA.T[2], c='r', label=\"Muertos\")\n",
      "limA = np.amax(solA)\n",
      "ax[0].legend()\n",
      "#ax[0].ylim(0,limA+10)\n",
      "\n",
      "estadoB = np.array([humanos,infectados,zombies,muertos])\n",
      "solB = odeint(derivadasB, estadoB, tiempo, args=(a, b, z, r))\n",
      "ax[1].plot(tiempo,solB.T[0], c='b', label=\"Humanos\", linewidth=2)\n",
      "ax[1].plot(tiempo,solB.T[1], c='purple', label=\"Infectados\")\n",
      "ax[1].plot(tiempo,solB.T[2], c='g', label=\"Zombies\", linewidth=2)\n",
      "ax[1].plot(tiempo,solB.T[3], c='r', label=\"Muertos\")\n",
      "limB = np.amax(solB)\n",
      "ax[1].legend()\n",
      "#ax[1].ylim(0,limB+10)\n",
      "\n",
      "estadoC = np.array([humanos,infectados,zombies,muertos,cuarentena])\n",
      "solC = odeint(derivadasC, estadoC, tiempo, args=(a, b, z, r, k, s, g))\n",
      "ax[2].plot(tiempo,solC.T[0], c='b', label=\"Humanos\", linewidth=2)\n",
      "ax[2].plot(tiempo,solC.T[1], c='purple', label=\"Infectados\")\n",
      "ax[2].plot(tiempo,solC.T[2], c='g', label=\"Zombies\", linewidth=2)\n",
      "ax[2].plot(tiempo,solC.T[3], c='r', label=\"Muertos\")\n",
      "ax[2].plot(tiempo,solC.T[4], c='k', label=\"Cuarentena\")\n",
      "limC = np.amax(solC)\n",
      "ax[2].legend()\n",
      "#ax[2].ylim(0,limC+10)\n",
      "\n",
      "estadoD = np.array([humanos,infectados,zombies,muertos])\n",
      "solD = odeint(derivadasD, estadoD, tiempo, args=(a, b, z, r, c))\n",
      "ax[3].plot(tiempo,solD.T[0], c='b', label=\"Humanos\", linewidth=2)\n",
      "ax[3].plot(tiempo,solD.T[1], c='purple', label=\"Infectados\")\n",
      "ax[3].plot(tiempo,solD.T[2], c='g', label=\"Zombies\", linewidth=2)\n",
      "ax[3].plot(tiempo,solD.T[3], c='r', label=\"Muertos\")\n",
      "limD = np.amax(solD)\n",
      "ax[3].legend();\n",
      "#ax[3].ylim(0,limD+10)"
     ],
     "language": "python",
     "metadata": {},
     "outputs": [
      {
       "metadata": {},
       "output_type": "pyout",
       "prompt_number": 242,
       "text": [
        "<matplotlib.legend.Legend at 0x7fe59efc4910>"
       ]
      },
      {
       "metadata": {},
       "output_type": "display_data",
       "png": "[encoded data removed]",
       "text": [
        "<matplotlib.figure.Figure at 0x7fe5a47b0c90>"
       ]
      }
     ],
     "prompt_number": 242
    },
    {
     "cell_type": "heading",
     "level": 1,
     "metadata": {},
     "source": [
      "Conclusiones"
     ]
    },
    {
     "cell_type": "markdown",
     "metadata": {},
     "source": [
      "En cualquier escenario la coexistencia entre los humanos y los zombies es imposible. Los humanos eventualmente se extinguen y la velocidad con la que lo hacen depende de los par\u00e1metros.\n",
      "\n",
      "Si nuestra capacidad para destruir zombies ($\\alpha$), poner a infectados o zombies en cuarentena ($\\kappa, \\sigma$) y la efectividad del suministro y acci\u00f3n de una cura ($c$) son altas, nuestra supervivencia se extiende. Sin embargo, hay algunas diferencias entre cada modelo.\n",
      "\n",
      "El modelo con tratamiento es el escenario en el que los humanos sobreviven por m\u00e1s tiempo, mientras que el modelo del caso base es el escenario en que los humanos se extinguen m\u00e1s r\u00e1pido.\n",
      "\n",
      "La infecci\u00f3n latente retrasa un poco la extinci\u00f3n de los humanos al igual que la implementaci\u00f3n de una cuarentena."
     ]
    }
   ],
   "metadata": {}
  }
 ]
}