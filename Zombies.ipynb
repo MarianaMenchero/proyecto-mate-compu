{
 "metadata": {
  "name": "",
  "signature": "sha256:5ac65a100662e4d2129f7c5d780a9711bafc419c616404f6d40849cc1a05f6d8"
 },
 "nbformat": 3,
 "nbformat_minor": 0,
 "worksheets": [
  {
   "cells": [
    {
     "cell_type": "heading",
     "level": 1,
     "metadata": {},
     "source": [
      "When zombies attack !!!"
     ]
    },
    {
     "cell_type": "code",
     "collapsed": false,
     "input": [
      "from IPython.html.widgets import interact, fixed\n",
      "from IPython.html import widgets\n",
      "from IPython.display import display\n",
      "\n",
      "from graficas import *\n",
      "\n",
      "%matplotlib inline\n",
      "import numpy as np\n",
      "import matplotlib.pyplot as plt\n",
      "\n",
      "import sympy as sy\n",
      "from scipy.integrate import odeint"
     ],
     "language": "python",
     "metadata": {},
     "outputs": [],
     "prompt_number": 2
    },
    {
     "cell_type": "code",
     "collapsed": false,
     "input": [
      "sy.init_printing(use_latex='mathjax')"
     ],
     "language": "python",
     "metadata": {},
     "outputs": [],
     "prompt_number": 3
    },
    {
     "cell_type": "code",
     "collapsed": false,
     "input": [
      "H = sy.Symbol('H')\n",
      "Z = sy.Symbol('Z')\n",
      "M = sy.Symbol('M')\n",
      "I = sy.Symbol('I')\n",
      "Q = sy.Symbol('Q')\n",
      "\n",
      "#Par\u00e1metros\n",
      "pi = sy.Symbol('Pi')\n",
      "beta = sy.Symbol('beta')\n",
      "delta = sy.Symbol('delta')\n",
      "alpha = sy.Symbol('alpha')\n",
      "zeta = sy.Symbol('zeta')\n",
      "lamb = sy.Symbol('lambda')\n",
      "rho = sy.Symbol('rho')\n",
      "kappa = sy.Symbol('kappa')\n",
      "sigma = sy.Symbol('sigma')\n",
      "gamma = sy.Symbol('gamma')\n",
      "c = sy.Symbol('c')\n",
      "\n",
      "#Derivadas\n",
      "dH = sy.Function('\\dotH')\n",
      "dZ = sy.Function('\\dotZ')\n",
      "dM = sy.Function('\\dotM')\n",
      "dI = sy.Function('\\dotI')\n",
      "dQ = sy.Function('\\dotQ')"
     ],
     "language": "python",
     "metadata": {},
     "outputs": [],
     "prompt_number": 4
    },
    {
     "cell_type": "markdown",
     "metadata": {},
     "source": [
      "A lo largo del proyecto consideraremos varias categor\u00edas:\n",
      "- Susceptibles $(H)$\n",
      "- Zombies $(Z)$\n",
      "- Muertos $(M)$\n",
      "- Infectados $(I)$\n",
      "- Cuarentena $(Q)$\n",
      "\n",
      "Cada modelo contendr\u00e1 una interpretaci\u00f3n distinta del rol que juegan los integrantes de categor\u00eda y no todos los modelos utilizan todas las categor\u00edas.\n",
      "\n",
      "Supondremos que la epidemia ocurre en un periodo corto de tiempo, por lo que $\\Pi = \\delta = 0$\n",
      "\n",
      "\n",
      "$$ \\dot H = \\Pi - \\beta H Z - \\delta H$$\n",
      "$$ \\dot Z = - \\alpha H Z + \\beta H Z + \\zeta M $$\n",
      "$$ \\dot M = \\delta H + \\alpha H Z - \\zeta M $$"
     ]
    },
    {
     "cell_type": "heading",
     "level": 2,
     "metadata": {},
     "source": [
      "Modelo b\u00e1sico"
     ]
    },
    {
     "cell_type": "markdown",
     "metadata": {},
     "source": [
      "En el modelo b\u00e1sico los individuos pertenecen a una de las siguientes categor\u00edas\n",
      "- Humanos $(H)$\n",
      "- Zombies $(Z)$\n",
      "- Muertos $(M)$\n",
      "\n",
      "\n",
      "Los humanos se convierten en zombies si son mordidos por un zombie y en muertos si mueren por alguna otra causa. Los humanos muertos reaniman como zombies a una tasa determinada. Los zombies a los que se les destruye el cerebro se convierten en muertos y as\u00ed permanecen.\n",
      "Suponemos adem\u00e1s que los zombies no se comen entre s\u00ed y que los humanos no se matan entre s\u00ed.\n",
      "\n",
      "\n",
      "Los par\u00e1metros del modelo son:\n",
      "\n",
      "\n",
      "- $\\Pi$ = Tasa de natalidad de los humanos\n",
      "- $\\beta$ = Tasa a la que los humanos se convierten en zombies\n",
      "- $\\delta$ = Tasa a la que mueren los humanos que no son mordidos por zombies\n",
      "- $\\alpha$ = Tasa a la que los zombies son destruidos\n",
      "- $\\zeta$  = Tasa a la que los muertos reviven como zombies\n",
      "\n",
      "\n",
      "El modelo del caso base es:\n",
      "$$ \\dot H = - H Z \\beta $$\n",
      "$$ \\dot Z = - H Z \\alpha + H Z \\beta + M \\zeta $$\n",
      "$$ \\dot M = \\alpha H Z - \\zeta M $$"
     ]
    },
    {
     "cell_type": "code",
     "collapsed": false,
     "input": [
      "pi = 0\n",
      "delta = 0"
     ],
     "language": "python",
     "metadata": {},
     "outputs": [],
     "prompt_number": 5
    },
    {
     "cell_type": "code",
     "collapsed": false,
     "input": [
      "dH = pi - beta*H*Z - delta*H\n",
      "dZ = beta*H*Z + zeta*M - alpha*H*Z\n",
      "dM = delta*H + alpha *H*Z - zeta*M"
     ],
     "language": "python",
     "metadata": {},
     "outputs": [],
     "prompt_number": 6
    },
    {
     "cell_type": "code",
     "collapsed": false,
     "input": [
      "dH"
     ],
     "language": "python",
     "metadata": {},
     "outputs": [
      {
       "latex": [
        "$$- H Z \\beta$$"
       ],
       "metadata": {},
       "output_type": "pyout",
       "prompt_number": 7,
       "text": [
        "-H\u22c5Z\u22c5\u03b2"
       ]
      }
     ],
     "prompt_number": 7
    },
    {
     "cell_type": "code",
     "collapsed": false,
     "input": [
      "dZ"
     ],
     "language": "python",
     "metadata": {},
     "outputs": [
      {
       "latex": [
        "$$- H Z \\alpha + H Z \\beta + M \\zeta$$"
       ],
       "metadata": {},
       "output_type": "pyout",
       "prompt_number": 8,
       "text": [
        "-H\u22c5Z\u22c5\u03b1 + H\u22c5Z\u22c5\u03b2 + M\u22c5\u03b6"
       ]
      }
     ],
     "prompt_number": 8
    },
    {
     "cell_type": "code",
     "collapsed": false,
     "input": [
      "dM"
     ],
     "language": "python",
     "metadata": {},
     "outputs": [
      {
       "latex": [
        "$$H Z \\alpha - M \\zeta$$"
       ],
       "metadata": {},
       "output_type": "pyout",
       "prompt_number": 9,
       "text": [
        "H\u22c5Z\u22c5\u03b1 - M\u22c5\u03b6"
       ]
      }
     ],
     "prompt_number": 9
    },
    {
     "cell_type": "code",
     "collapsed": false,
     "input": [
      "sy.solve(dH)"
     ],
     "language": "python",
     "metadata": {},
     "outputs": [
      {
       "latex": [
        "$$\\begin{bmatrix}\\begin{Bmatrix}H : 0\\end{Bmatrix}, & \\begin{Bmatrix}Z : 0\\end{Bmatrix}, & \\begin{Bmatrix}\\beta : 0\\end{Bmatrix}\\end{bmatrix}$$"
       ],
       "metadata": {},
       "output_type": "pyout",
       "prompt_number": 10,
       "text": [
        "[{H: 0}, {Z: 0}, {\u03b2: 0}]"
       ]
      }
     ],
     "prompt_number": 10
    },
    {
     "cell_type": "markdown",
     "metadata": {},
     "source": [
      "Caso $H = 0$"
     ]
    },
    {
     "cell_type": "code",
     "collapsed": false,
     "input": [
      "sy.solve(dZ.subs([(H , 0)]),Z)"
     ],
     "language": "python",
     "metadata": {},
     "outputs": [
      {
       "latex": [
        "$$\\begin{bmatrix}\\end{bmatrix}$$"
       ],
       "metadata": {},
       "output_type": "pyout",
       "prompt_number": 11,
       "text": [
        "[]"
       ]
      }
     ],
     "prompt_number": 11
    },
    {
     "cell_type": "code",
     "collapsed": false,
     "input": [
      "sy.solve(dM.subs([(H,0)]),M)"
     ],
     "language": "python",
     "metadata": {},
     "outputs": [
      {
       "latex": [
        "$$\\begin{bmatrix}0\\end{bmatrix}$$"
       ],
       "metadata": {},
       "output_type": "pyout",
       "prompt_number": 12,
       "text": [
        "[0]"
       ]
      }
     ],
     "prompt_number": 12
    },
    {
     "cell_type": "code",
     "collapsed": false,
     "input": [
      "(0,Z,0)"
     ],
     "language": "python",
     "metadata": {},
     "outputs": [
      {
       "latex": [
        "$$\\begin{pmatrix}0, & Z, & 0\\end{pmatrix}$$"
       ],
       "metadata": {},
       "output_type": "pyout",
       "prompt_number": 13,
       "text": [
        "(0, Z, 0)"
       ]
      }
     ],
     "prompt_number": 13
    },
    {
     "cell_type": "markdown",
     "metadata": {},
     "source": [
      "Caso $Z = 0$"
     ]
    },
    {
     "cell_type": "code",
     "collapsed": false,
     "input": [
      "sy.solve(dH.subs([(Z,0)]))"
     ],
     "language": "python",
     "metadata": {},
     "outputs": [
      {
       "latex": [
        "$$\\begin{bmatrix}\\end{bmatrix}$$"
       ],
       "metadata": {},
       "output_type": "pyout",
       "prompt_number": 14,
       "text": [
        "[]"
       ]
      }
     ],
     "prompt_number": 14
    },
    {
     "cell_type": "code",
     "collapsed": false,
     "input": [
      "sy.solve(dM.subs([(Z,0)]))"
     ],
     "language": "python",
     "metadata": {},
     "outputs": [
      {
       "latex": [
        "$$\\begin{bmatrix}\\begin{Bmatrix}M : 0\\end{Bmatrix}, & \\begin{Bmatrix}\\zeta : 0\\end{Bmatrix}\\end{bmatrix}$$"
       ],
       "metadata": {},
       "output_type": "pyout",
       "prompt_number": 15,
       "text": [
        "[{M: 0}, {\u03b6: 0}]"
       ]
      }
     ],
     "prompt_number": 15
    },
    {
     "cell_type": "code",
     "collapsed": false,
     "input": [
      "(H,0,0)"
     ],
     "language": "python",
     "metadata": {},
     "outputs": [
      {
       "latex": [
        "$$\\begin{pmatrix}H, & 0, & 0\\end{pmatrix}$$"
       ],
       "metadata": {},
       "output_type": "pyout",
       "prompt_number": 16,
       "text": [
        "(H, 0, 0)"
       ]
      }
     ],
     "prompt_number": 16
    },
    {
     "cell_type": "markdown",
     "metadata": {},
     "source": [
      "Obtenemos el Jacobiano"
     ]
    },
    {
     "cell_type": "code",
     "collapsed": false,
     "input": [
      "XA = sy.Matrix([dH, dZ, dM])\n",
      "YA = sy.Matrix([H,Z,M])\n",
      "JA = XA.jacobian(YA)\n",
      "JA"
     ],
     "language": "python",
     "metadata": {},
     "outputs": [
      {
       "latex": [
        "$$\\left[\\begin{matrix}- Z \\beta & - H \\beta & 0\\\\- Z \\alpha + Z \\beta & - H \\alpha + H \\beta & \\zeta\\\\Z \\alpha & H \\alpha & - \\zeta\\end{matrix}\\right]$$"
       ],
       "metadata": {},
       "output_type": "pyout",
       "prompt_number": 17,
       "text": [
        "\u23a1   -Z\u22c5\u03b2        -H\u22c5\u03b2     0 \u23a4\n",
        "\u23a2                          \u23a5\n",
        "\u23a2-Z\u22c5\u03b1 + Z\u22c5\u03b2  -H\u22c5\u03b1 + H\u22c5\u03b2  \u03b6 \u23a5\n",
        "\u23a2                          \u23a5\n",
        "\u23a3   Z\u22c5\u03b1         H\u22c5\u03b1      -\u03b6\u23a6"
       ]
      }
     ],
     "prompt_number": 17
    },
    {
     "cell_type": "markdown",
     "metadata": {},
     "source": [
      "Evaluamos el jacobiano en $(0,Z,0)$"
     ]
    },
    {
     "cell_type": "code",
     "collapsed": false,
     "input": [
      "JA1 = JA.subs([(H,0),(M,0)])\n",
      "JA1"
     ],
     "language": "python",
     "metadata": {},
     "outputs": [
      {
       "latex": [
        "$$\\left[\\begin{matrix}- Z \\beta & 0 & 0\\\\- Z \\alpha + Z \\beta & 0 & \\zeta\\\\Z \\alpha & 0 & - \\zeta\\end{matrix}\\right]$$"
       ],
       "metadata": {},
       "output_type": "pyout",
       "prompt_number": 18,
       "text": [
        "\u23a1   -Z\u22c5\u03b2     0  0 \u23a4\n",
        "\u23a2                 \u23a5\n",
        "\u23a2-Z\u22c5\u03b1 + Z\u22c5\u03b2  0  \u03b6 \u23a5\n",
        "\u23a2                 \u23a5\n",
        "\u23a3   Z\u22c5\u03b1      0  -\u03b6\u23a6"
       ]
      }
     ],
     "prompt_number": 18
    },
    {
     "cell_type": "code",
     "collapsed": false,
     "input": [
      "polA1 = sy.det(JA1-lamb*sy.eye(3))\n",
      "sy.factor(polA1, lamb)"
     ],
     "language": "python",
     "metadata": {},
     "outputs": [
      {
       "latex": [
        "$$- \\lambda \\left(\\lambda + \\zeta\\right) \\left(Z \\beta + \\lambda\\right)$$"
       ],
       "metadata": {},
       "output_type": "pyout",
       "prompt_number": 19,
       "text": [
        "-\u03bb\u22c5(\u03bb + \u03b6)\u22c5(Z\u22c5\u03b2 + \u03bb)"
       ]
      }
     ],
     "prompt_number": 19
    },
    {
     "cell_type": "code",
     "collapsed": false,
     "input": [
      "sy.solve(polA1)"
     ],
     "language": "python",
     "metadata": {},
     "outputs": [
      {
       "latex": [
        "$$\\begin{bmatrix}\\begin{Bmatrix}Z : - \\frac{\\lambda}{\\beta}\\end{Bmatrix}, & \\begin{Bmatrix}\\lambda : 0\\end{Bmatrix}, & \\begin{Bmatrix}\\zeta : - \\lambda\\end{Bmatrix}\\end{bmatrix}$$"
       ],
       "metadata": {},
       "output_type": "pyout",
       "prompt_number": 20,
       "text": [
        "\u23a1\u23a7   -\u03bb \u23ab                 \u23a4\n",
        "\u23a2\u23a8Z: \u2500\u2500\u2500\u23ac, {\u03bb: 0}, {\u03b6: -\u03bb}\u23a5\n",
        "\u23a3\u23a9    \u03b2 \u23ad                 \u23a6"
       ]
      }
     ],
     "prompt_number": 20
    },
    {
     "cell_type": "markdown",
     "metadata": {},
     "source": [
      "Como los eigenvalores son 0 o negativos $(0,Z,0)$ es asint\u00f3ticamente estable"
     ]
    },
    {
     "cell_type": "markdown",
     "metadata": {},
     "source": [
      "Evalueamos el jacobiano en $(H,0,0)$"
     ]
    },
    {
     "cell_type": "code",
     "collapsed": false,
     "input": [
      "JA2 = JA.subs([(Z,0),(M,0)])\n",
      "JA2"
     ],
     "language": "python",
     "metadata": {},
     "outputs": [
      {
       "latex": [
        "$$\\left[\\begin{matrix}0 & - H \\beta & 0\\\\0 & - H \\alpha + H \\beta & \\zeta\\\\0 & H \\alpha & - \\zeta\\end{matrix}\\right]$$"
       ],
       "metadata": {},
       "output_type": "pyout",
       "prompt_number": 21,
       "text": [
        "\u23a10     -H\u22c5\u03b2     0 \u23a4\n",
        "\u23a2                 \u23a5\n",
        "\u23a20  -H\u22c5\u03b1 + H\u22c5\u03b2  \u03b6 \u23a5\n",
        "\u23a2                 \u23a5\n",
        "\u23a30     H\u22c5\u03b1      -\u03b6\u23a6"
       ]
      }
     ],
     "prompt_number": 21
    },
    {
     "cell_type": "code",
     "collapsed": false,
     "input": [
      "polA2 = sy.det(JA2-lamb*sy.eye(3))\n",
      "sy.factor(polA2, lamb)"
     ],
     "language": "python",
     "metadata": {},
     "outputs": [
      {
       "latex": [
        "$$- \\lambda \\left(- H \\beta \\zeta + \\lambda^{2} + \\lambda \\left(H \\alpha - H \\beta + \\zeta\\right)\\right)$$"
       ],
       "metadata": {},
       "output_type": "pyout",
       "prompt_number": 22,
       "text": [
        "   \u239b          2                    \u239e\n",
        "-\u03bb\u22c5\u239d-H\u22c5\u03b2\u22c5\u03b6 + \u03bb  + \u03bb\u22c5(H\u22c5\u03b1 - H\u22c5\u03b2 + \u03b6)\u23a0"
       ]
      }
     ],
     "prompt_number": 22
    },
    {
     "cell_type": "code",
     "collapsed": false,
     "input": [
      "sy.solve(polA2, lamb)"
     ],
     "language": "python",
     "metadata": {},
     "outputs": [
      {
       "latex": [
        "$$\\begin{bmatrix}0, & - \\frac{H \\alpha}{2} + \\frac{H \\beta}{2} - \\frac{\\zeta}{2} - \\frac{1}{2} \\sqrt{H^{2} \\alpha^{2} - 2 H^{2} \\alpha \\beta + H^{2} \\beta^{2} + 2 H \\alpha \\zeta + 2 H \\beta \\zeta + \\zeta^{2}}, & - \\frac{H \\alpha}{2} + \\frac{H \\beta}{2} - \\frac{\\zeta}{2} + \\frac{1}{2} \\sqrt{H^{2} \\alpha^{2} - 2 H^{2} \\alpha \\beta + H^{2} \\beta^{2} + 2 H \\alpha \\zeta + 2 H \\beta \\zeta + \\zeta^{2}}\\end{bmatrix}$$"
       ],
       "metadata": {},
       "output_type": "pyout",
       "prompt_number": 23,
       "text": [
        "\u23a1                        ___________________________________________________  \n",
        "\u23a2                       \u2571  2  2      2        2  2                        2   \n",
        "\u23a2     H\u22c5\u03b1   H\u22c5\u03b2   \u03b6   \u2572\u2571  H \u22c5\u03b1  - 2\u22c5H \u22c5\u03b1\u22c5\u03b2 + H \u22c5\u03b2  + 2\u22c5H\u22c5\u03b1\u22c5\u03b6 + 2\u22c5H\u22c5\u03b2\u22c5\u03b6 + \u03b6    \n",
        "\u23a20, - \u2500\u2500\u2500 + \u2500\u2500\u2500 - \u2500 - \u2500\u2500\u2500\u2500\u2500\u2500\u2500\u2500\u2500\u2500\u2500\u2500\u2500\u2500\u2500\u2500\u2500\u2500\u2500\u2500\u2500\u2500\u2500\u2500\u2500\u2500\u2500\u2500\u2500\u2500\u2500\u2500\u2500\u2500\u2500\u2500\u2500\u2500\u2500\u2500\u2500\u2500\u2500\u2500\u2500\u2500\u2500\u2500\u2500\u2500\u2500\u2500\u2500\u2500, \n",
        "\u23a3      2     2    2                             2                             \n",
        "\n",
        "                     ___________________________________________________\u23a4\n",
        "                    \u2571  2  2      2        2  2                        2 \u23a5\n",
        "  H\u22c5\u03b1   H\u22c5\u03b2   \u03b6   \u2572\u2571  H \u22c5\u03b1  - 2\u22c5H \u22c5\u03b1\u22c5\u03b2 + H \u22c5\u03b2  + 2\u22c5H\u22c5\u03b1\u22c5\u03b6 + 2\u22c5H\u22c5\u03b2\u22c5\u03b6 + \u03b6  \u23a5\n",
        "- \u2500\u2500\u2500 + \u2500\u2500\u2500 - \u2500 + \u2500\u2500\u2500\u2500\u2500\u2500\u2500\u2500\u2500\u2500\u2500\u2500\u2500\u2500\u2500\u2500\u2500\u2500\u2500\u2500\u2500\u2500\u2500\u2500\u2500\u2500\u2500\u2500\u2500\u2500\u2500\u2500\u2500\u2500\u2500\u2500\u2500\u2500\u2500\u2500\u2500\u2500\u2500\u2500\u2500\u2500\u2500\u2500\u2500\u2500\u2500\u2500\u2500\u2500\u23a5\n",
        "   2     2    2                             2                           \u23a6"
       ]
      }
     ],
     "prompt_number": 23
    },
    {
     "cell_type": "markdown",
     "metadata": {},
     "source": [
      "Como una ra\u00edz es cero y siempre tenemos una con parte real positiva, entonces $(H,0,0)$ es inestable"
     ]
    },
    {
     "cell_type": "heading",
     "level": 3,
     "metadata": {},
     "source": [
      "Gr\u00e1ficas"
     ]
    },
    {
     "cell_type": "code",
     "collapsed": false,
     "input": [
      "def derivadasA(estado, t, a, b, z):\n",
      "    dh = -b*estado[0]*estado[1]\n",
      "    dz = b*estado[0]*estado[1] + z*estado[2] - a*estado[0]*estado[1]\n",
      "    dm = a*estado[0]*estado[1] - z*estado[2]\n",
      "    return np.array([dh, dz, dm])"
     ],
     "language": "python",
     "metadata": {},
     "outputs": [],
     "prompt_number": 24
    },
    {
     "cell_type": "code",
     "collapsed": false,
     "input": [
      "def solucionA(humanos, zombies, muertos, a, b, z):\n",
      "    tiempo = np.linspace(0, 1, 100)\n",
      "    estadoA = np.array([humanos, zombies,muertos])\n",
      "    sol = odeint(derivadasA,estadoA, tiempo, args=(a, b, z))\n",
      "    plt.figure(figsize=(15,5))\n",
      "    plt.plot(tiempo,sol.T[0], c='b', label=\"Humanos\")\n",
      "    plt.plot(tiempo,sol.T[1], c='g', label=\"Zombies\")\n",
      "    plt.plot(tiempo,sol.T[2], c='r', label=\"Muertos\")\n",
      "    lim = np.amax(sol)\n",
      "    plt.xlabel(\"Tiempo (semanas)\")\n",
      "    plt.legend()\n",
      "    plt.ylim(0,lim+10)"
     ],
     "language": "python",
     "metadata": {},
     "outputs": [],
     "prompt_number": 25
    },
    {
     "cell_type": "code",
     "collapsed": false,
     "input": [
      "graficaSolucionA(500,1,0,0.05,0.3,0.02)"
     ],
     "language": "python",
     "metadata": {},
     "outputs": [
      {
       "ename": "NameError",
       "evalue": "global name 'derivadasA' is not defined",
       "output_type": "pyerr",
       "traceback": [
        "\u001b[1;31m---------------------------------------------------------------------------\u001b[0m\n\u001b[1;31mNameError\u001b[0m                                 Traceback (most recent call last)",
        "\u001b[1;32m<ipython-input-25-f4757c5542ff>\u001b[0m in \u001b[0;36m<module>\u001b[1;34m()\u001b[0m\n\u001b[1;32m----> 1\u001b[1;33m \u001b[0mgraficaSolucionA\u001b[0m\u001b[1;33m(\u001b[0m\u001b[1;36m500\u001b[0m\u001b[1;33m,\u001b[0m\u001b[1;36m1\u001b[0m\u001b[1;33m,\u001b[0m\u001b[1;36m0\u001b[0m\u001b[1;33m,\u001b[0m\u001b[1;36m0.05\u001b[0m\u001b[1;33m,\u001b[0m\u001b[1;36m0.3\u001b[0m\u001b[1;33m,\u001b[0m\u001b[1;36m0.02\u001b[0m\u001b[1;33m)\u001b[0m\u001b[1;33m\u001b[0m\u001b[0m\n\u001b[0m",
        "\u001b[1;32m/home/itam/proyecto-mate-compu/graficas.py\u001b[0m in \u001b[0;36mgraficaSolucionA\u001b[1;34m(humanos, zombies, muertos, a, b, z)\u001b[0m\n\u001b[0;32m      6\u001b[0m   \u001b[0mtiempo\u001b[0m \u001b[1;33m=\u001b[0m \u001b[0mnp\u001b[0m\u001b[1;33m.\u001b[0m\u001b[0mlinspace\u001b[0m\u001b[1;33m(\u001b[0m\u001b[1;36m0\u001b[0m\u001b[1;33m,\u001b[0m \u001b[1;36m1\u001b[0m\u001b[1;33m,\u001b[0m \u001b[1;36m100\u001b[0m\u001b[1;33m)\u001b[0m\u001b[1;33m\u001b[0m\u001b[0m\n\u001b[0;32m      7\u001b[0m   \u001b[0mestadoA\u001b[0m \u001b[1;33m=\u001b[0m \u001b[0mnp\u001b[0m\u001b[1;33m.\u001b[0m\u001b[0marray\u001b[0m\u001b[1;33m(\u001b[0m\u001b[1;33m[\u001b[0m\u001b[0mhumanos\u001b[0m\u001b[1;33m,\u001b[0m \u001b[0mzombies\u001b[0m\u001b[1;33m,\u001b[0m\u001b[0mmuertos\u001b[0m\u001b[1;33m]\u001b[0m\u001b[1;33m)\u001b[0m\u001b[1;33m\u001b[0m\u001b[0m\n\u001b[1;32m----> 8\u001b[1;33m   \u001b[0msol\u001b[0m \u001b[1;33m=\u001b[0m \u001b[0modeint\u001b[0m\u001b[1;33m(\u001b[0m\u001b[0mderivadasA\u001b[0m\u001b[1;33m,\u001b[0m\u001b[0mestadoA\u001b[0m\u001b[1;33m,\u001b[0m \u001b[0mtiempo\u001b[0m\u001b[1;33m,\u001b[0m \u001b[0margs\u001b[0m\u001b[1;33m=\u001b[0m\u001b[1;33m(\u001b[0m\u001b[0ma\u001b[0m\u001b[1;33m,\u001b[0m \u001b[0mb\u001b[0m\u001b[1;33m,\u001b[0m \u001b[0mz\u001b[0m\u001b[1;33m)\u001b[0m\u001b[1;33m)\u001b[0m\u001b[1;33m\u001b[0m\u001b[0m\n\u001b[0m\u001b[0;32m      9\u001b[0m   \u001b[0mplt\u001b[0m\u001b[1;33m.\u001b[0m\u001b[0mfigure\u001b[0m\u001b[1;33m(\u001b[0m\u001b[0mfigsize\u001b[0m\u001b[1;33m=\u001b[0m\u001b[1;33m(\u001b[0m\u001b[1;36m15\u001b[0m\u001b[1;33m,\u001b[0m\u001b[1;36m5\u001b[0m\u001b[1;33m)\u001b[0m\u001b[1;33m)\u001b[0m\u001b[1;33m\u001b[0m\u001b[0m\n\u001b[0;32m     10\u001b[0m   \u001b[0mplt\u001b[0m\u001b[1;33m.\u001b[0m\u001b[0mplot\u001b[0m\u001b[1;33m(\u001b[0m\u001b[0mtiempo\u001b[0m\u001b[1;33m,\u001b[0m\u001b[0msol\u001b[0m\u001b[1;33m.\u001b[0m\u001b[0mT\u001b[0m\u001b[1;33m[\u001b[0m\u001b[1;36m0\u001b[0m\u001b[1;33m]\u001b[0m\u001b[1;33m,\u001b[0m \u001b[0mc\u001b[0m\u001b[1;33m=\u001b[0m\u001b[1;34m'b'\u001b[0m\u001b[1;33m,\u001b[0m \u001b[0mlabel\u001b[0m\u001b[1;33m=\u001b[0m\u001b[1;34m\"Humanos\"\u001b[0m\u001b[1;33m)\u001b[0m\u001b[1;33m\u001b[0m\u001b[0m\n",
        "\u001b[1;31mNameError\u001b[0m: global name 'derivadasA' is not defined"
       ]
      }
     ],
     "prompt_number": 25
    },
    {
     "cell_type": "code",
     "collapsed": false,
     "input": [
      "interact(solucionA,humanos=(0,1000,1), zombies=(0,1000,1), muertos=fixed(0), a=(0.01,1,0.01), b=(0.1,1,0.05), z=(0.01,0.5,0.01));"
     ],
     "language": "python",
     "metadata": {},
     "outputs": [
      {
       "metadata": {},
       "output_type": "display_data",
       "png": "[encoded data removed]",
       "text": [
        "<matplotlib.figure.Figure at 0x7fd1348dd150>"
       ]
      }
     ],
     "prompt_number": 171
    },
    {
     "cell_type": "heading",
     "level": 2,
     "metadata": {},
     "source": [
      "Modelo con infecci\u00f3n latentente"
     ]
    },
    {
     "cell_type": "markdown",
     "metadata": {},
     "source": [
      "En el modelo con infecci\u00f3n latente supondremos que los humanos que son mordidos por zombies tardan aproximadamente 24 horas en convertirse en zombies. As\u00ed, tendremos una nueva clase de inviduos que llamaremos Infectados $(I)$\n",
      "Los par\u00e1metros del modelo son los mismos que los del modelo b\u00e1sico, m\u00e1s:\n",
      "\n",
      "\n",
      "- $\\rho$ = Tasa a la que los infectados se convierten en zombies\n",
      "\n",
      "\n",
      "As\u00ed, el modelo es:\n",
      "$$ \\dot H = - \\beta H Z $$\n",
      "$$ \\dot I = \\beta H Z - \\rho I $$\n",
      "$$ \\dot Z = - \\alpha H Z + \\zeta M + \\rho I$$\n",
      "$$ \\dot M = \\alpha H Z - \\zeta M $$"
     ]
    },
    {
     "cell_type": "code",
     "collapsed": false,
     "input": [
      "pi = 0\n",
      "delta = 0"
     ],
     "language": "python",
     "metadata": {},
     "outputs": [],
     "prompt_number": 88
    },
    {
     "cell_type": "code",
     "collapsed": false,
     "input": [
      "dH = pi - beta*H*Z - delta*H\n",
      "dI = beta*H*Z - rho*I - delta*I\n",
      "dZ = rho*I + zeta*M - alpha*H*Z\n",
      "dM = delta*H + delta*I + alpha*H*Z - zeta*M"
     ],
     "language": "python",
     "metadata": {},
     "outputs": [],
     "prompt_number": 89
    },
    {
     "cell_type": "code",
     "collapsed": false,
     "input": [
      "sy.solve(dH)"
     ],
     "language": "python",
     "metadata": {},
     "outputs": [
      {
       "latex": [
        "$$\\begin{bmatrix}\\begin{Bmatrix}H : 0\\end{Bmatrix}, & \\begin{Bmatrix}Z : 0\\end{Bmatrix}, & \\begin{Bmatrix}\\beta : 0\\end{Bmatrix}\\end{bmatrix}$$"
       ],
       "metadata": {},
       "output_type": "pyout",
       "prompt_number": 90,
       "text": [
        "[{H: 0}, {Z: 0}, {\u03b2: 0}]"
       ]
      }
     ],
     "prompt_number": 90
    },
    {
     "cell_type": "markdown",
     "metadata": {},
     "source": [
      "Caso H = 0"
     ]
    },
    {
     "cell_type": "code",
     "collapsed": false,
     "input": [
      "print sy.solve(dI.subs([(H,0)]),I)\n",
      "print sy.solve(dZ.subs([(H,0)]), Z)\n",
      "print sy.solve(dM.subs([(H,0)]), M)"
     ],
     "language": "python",
     "metadata": {},
     "outputs": [
      {
       "output_type": "stream",
       "stream": "stdout",
       "text": [
        "[0]\n",
        "[]\n",
        "[0]\n"
       ]
      }
     ],
     "prompt_number": 91
    },
    {
     "cell_type": "code",
     "collapsed": false,
     "input": [
      "(0,0,Z,0)"
     ],
     "language": "python",
     "metadata": {},
     "outputs": [
      {
       "latex": [
        "$$\\begin{pmatrix}0, & 0, & Z, & 0\\end{pmatrix}$$"
       ],
       "metadata": {},
       "output_type": "pyout",
       "prompt_number": 92,
       "text": [
        "(0, 0, Z, 0)"
       ]
      }
     ],
     "prompt_number": 92
    },
    {
     "cell_type": "markdown",
     "metadata": {},
     "source": [
      "Caso Z = 0"
     ]
    },
    {
     "cell_type": "code",
     "collapsed": false,
     "input": [
      "print sy.solve(dH.subs([(Z,0)]),H)\n",
      "print sy.solve(dI.subs([(Z,0)]), I)\n",
      "print sy.solve(dM.subs([(Z,0)]), M)"
     ],
     "language": "python",
     "metadata": {},
     "outputs": [
      {
       "output_type": "stream",
       "stream": "stdout",
       "text": [
        "[]\n",
        "[0]\n",
        "[0]\n"
       ]
      }
     ],
     "prompt_number": 93
    },
    {
     "cell_type": "code",
     "collapsed": false,
     "input": [
      "(H, 0, 0, 0)"
     ],
     "language": "python",
     "metadata": {},
     "outputs": [
      {
       "latex": [
        "$$\\begin{pmatrix}H, & 0, & 0, & 0\\end{pmatrix}$$"
       ],
       "metadata": {},
       "output_type": "pyout",
       "prompt_number": 94,
       "text": [
        "(H, 0, 0, 0)"
       ]
      }
     ],
     "prompt_number": 94
    },
    {
     "cell_type": "code",
     "collapsed": false,
     "input": [
      "XB = sy.Matrix([dH, dI, dZ, dM])\n",
      "YB = sy.Matrix([H, I, Z, M])\n",
      "JB = XB.jacobian(YB)\n",
      "JB"
     ],
     "language": "python",
     "metadata": {},
     "outputs": [
      {
       "latex": [
        "$$\\left[\\begin{matrix}- Z \\beta & 0 & - H \\beta & 0\\\\Z \\beta & - \\rho & H \\beta & 0\\\\- Z \\alpha & \\rho & - H \\alpha & \\zeta\\\\Z \\alpha & 0 & H \\alpha & - \\zeta\\end{matrix}\\right]$$"
       ],
       "metadata": {},
       "output_type": "pyout",
       "prompt_number": 95,
       "text": [
        "\u23a1-Z\u22c5\u03b2  0   -H\u22c5\u03b2  0 \u23a4\n",
        "\u23a2                  \u23a5\n",
        "\u23a2Z\u22c5\u03b2   -\u03c1  H\u22c5\u03b2   0 \u23a5\n",
        "\u23a2                  \u23a5\n",
        "\u23a2-Z\u22c5\u03b1  \u03c1   -H\u22c5\u03b1  \u03b6 \u23a5\n",
        "\u23a2                  \u23a5\n",
        "\u23a3Z\u22c5\u03b1   0   H\u22c5\u03b1   -\u03b6\u23a6"
       ]
      }
     ],
     "prompt_number": 95
    },
    {
     "cell_type": "markdown",
     "metadata": {},
     "source": [
      "Caso (0,0,Z,0)"
     ]
    },
    {
     "cell_type": "code",
     "collapsed": false,
     "input": [
      "JB1 = JB.subs([(H,0),(M,0), (I,0)])\n",
      "JB1"
     ],
     "language": "python",
     "metadata": {},
     "outputs": [
      {
       "latex": [
        "$$\\left[\\begin{matrix}- Z \\beta & 0 & 0 & 0\\\\Z \\beta & - \\rho & 0 & 0\\\\- Z \\alpha & \\rho & 0 & \\zeta\\\\Z \\alpha & 0 & 0 & - \\zeta\\end{matrix}\\right]$$"
       ],
       "metadata": {},
       "output_type": "pyout",
       "prompt_number": 96,
       "text": [
        "\u23a1-Z\u22c5\u03b2  0   0  0 \u23a4\n",
        "\u23a2               \u23a5\n",
        "\u23a2Z\u22c5\u03b2   -\u03c1  0  0 \u23a5\n",
        "\u23a2               \u23a5\n",
        "\u23a2-Z\u22c5\u03b1  \u03c1   0  \u03b6 \u23a5\n",
        "\u23a2               \u23a5\n",
        "\u23a3Z\u22c5\u03b1   0   0  -\u03b6\u23a6"
       ]
      }
     ],
     "prompt_number": 96
    },
    {
     "cell_type": "code",
     "collapsed": false,
     "input": [
      "polB1 = sy.det(JB1-lamb*sy.eye(4))\n",
      "sy.factor(polB1)"
     ],
     "language": "python",
     "metadata": {},
     "outputs": [
      {
       "latex": [
        "$$\\lambda \\left(\\lambda + \\rho\\right) \\left(\\lambda + \\zeta\\right) \\left(Z \\beta + \\lambda\\right)$$"
       ],
       "metadata": {},
       "output_type": "pyout",
       "prompt_number": 97,
       "text": [
        "\u03bb\u22c5(\u03bb + \u03c1)\u22c5(\u03bb + \u03b6)\u22c5(Z\u22c5\u03b2 + \u03bb)"
       ]
      }
     ],
     "prompt_number": 97
    },
    {
     "cell_type": "code",
     "collapsed": false,
     "input": [
      "sy.solve(polB1, lamb)"
     ],
     "language": "python",
     "metadata": {},
     "outputs": [
      {
       "latex": [
        "$$\\begin{bmatrix}0, & - \\rho, & - \\zeta, & - Z \\beta\\end{bmatrix}$$"
       ],
       "metadata": {},
       "output_type": "pyout",
       "prompt_number": 98,
       "text": [
        "[0, -\u03c1, -\u03b6, -Z\u22c5\u03b2]"
       ]
      }
     ],
     "prompt_number": 98
    },
    {
     "cell_type": "markdown",
     "metadata": {},
     "source": [
      "Como todos los eigenvalores son no negativos, el punto $(0,0,Z,0)$ es un equilibrio estable"
     ]
    },
    {
     "cell_type": "markdown",
     "metadata": {},
     "source": [
      "Caso (H,0,0,0)"
     ]
    },
    {
     "cell_type": "code",
     "collapsed": false,
     "input": [
      "JB2 = JB.subs([(Z,0),(M,0), (I,0)])\n",
      "JB2"
     ],
     "language": "python",
     "metadata": {},
     "outputs": [
      {
       "latex": [
        "$$\\left[\\begin{matrix}0 & 0 & - H \\beta & 0\\\\0 & - \\rho & H \\beta & 0\\\\0 & \\rho & - H \\alpha & \\zeta\\\\0 & 0 & H \\alpha & - \\zeta\\end{matrix}\\right]$$"
       ],
       "metadata": {},
       "output_type": "pyout",
       "prompt_number": 99,
       "text": [
        "\u23a10  0   -H\u22c5\u03b2  0 \u23a4\n",
        "\u23a2               \u23a5\n",
        "\u23a20  -\u03c1  H\u22c5\u03b2   0 \u23a5\n",
        "\u23a2               \u23a5\n",
        "\u23a20  \u03c1   -H\u22c5\u03b1  \u03b6 \u23a5\n",
        "\u23a2               \u23a5\n",
        "\u23a30  0   H\u22c5\u03b1   -\u03b6\u23a6"
       ]
      }
     ],
     "prompt_number": 99
    },
    {
     "cell_type": "code",
     "collapsed": false,
     "input": [
      "polB2 = sy.det(JB2-lamb*sy.eye(4))\n",
      "sy.factor(polB2)"
     ],
     "language": "python",
     "metadata": {},
     "outputs": [
      {
       "latex": [
        "$$\\lambda \\left(H \\alpha \\lambda^{2} + H \\alpha \\lambda \\rho - H \\beta \\lambda \\rho - H \\beta \\rho \\zeta + \\lambda^{3} + \\lambda^{2} \\rho + \\lambda^{2} \\zeta + \\lambda \\rho \\zeta\\right)$$"
       ],
       "metadata": {},
       "output_type": "pyout",
       "prompt_number": 100,
       "text": [
        "  \u239b     2                                  3    2      2          \u239e\n",
        "\u03bb\u22c5\u239dH\u22c5\u03b1\u22c5\u03bb  + H\u22c5\u03b1\u22c5\u03bb\u22c5\u03c1 - H\u22c5\u03b2\u22c5\u03bb\u22c5\u03c1 - H\u22c5\u03b2\u22c5\u03c1\u22c5\u03b6 + \u03bb  + \u03bb \u22c5\u03c1 + \u03bb \u22c5\u03b6 + \u03bb\u22c5\u03c1\u22c5\u03b6\u23a0"
       ]
      }
     ],
     "prompt_number": 100
    },
    {
     "cell_type": "code",
     "collapsed": false,
     "input": [
      "JB2-lamb*sy.eye(4)"
     ],
     "language": "python",
     "metadata": {},
     "outputs": [
      {
       "latex": [
        "$$\\left[\\begin{matrix}- \\lambda & 0 & - H \\beta & 0\\\\0 & - \\lambda - \\rho & H \\beta & 0\\\\0 & \\rho & - H \\alpha - \\lambda & \\zeta\\\\0 & 0 & H \\alpha & - \\lambda - \\zeta\\end{matrix}\\right]$$"
       ],
       "metadata": {},
       "output_type": "pyout",
       "prompt_number": 101,
       "text": [
        "\u23a1-\u03bb    0       -H\u22c5\u03b2      0   \u23a4\n",
        "\u23a2                            \u23a5\n",
        "\u23a20   -\u03bb - \u03c1    H\u22c5\u03b2       0   \u23a5\n",
        "\u23a2                            \u23a5\n",
        "\u23a20     \u03c1     -H\u22c5\u03b1 - \u03bb    \u03b6   \u23a5\n",
        "\u23a2                            \u23a5\n",
        "\u23a30     0       H\u22c5\u03b1     -\u03bb - \u03b6\u23a6"
       ]
      }
     ],
     "prompt_number": 101
    },
    {
     "cell_type": "markdown",
     "metadata": {},
     "source": [
      "El determinante de la matriz est\u00e1 dado por $-\\lambda$ multiplicado por el determinante de la matriz:"
     ]
    },
    {
     "cell_type": "code",
     "collapsed": false,
     "input": [
      "detB = sy.Matrix([[-lamb-rho, H*beta, 0], [rho, -H*alpha-lamb, zeta], [0, H*alpha, -lamb-zeta]])\n",
      "detB"
     ],
     "language": "python",
     "metadata": {},
     "outputs": [
      {
       "latex": [
        "$$\\left[\\begin{matrix}- \\lambda - \\rho & H \\beta & 0\\\\\\rho & - H \\alpha - \\lambda & \\zeta\\\\0 & H \\alpha & - \\lambda - \\zeta\\end{matrix}\\right]$$"
       ],
       "metadata": {},
       "output_type": "pyout",
       "prompt_number": 102,
       "text": [
        "\u23a1-\u03bb - \u03c1    H\u22c5\u03b2       0   \u23a4\n",
        "\u23a2                        \u23a5\n",
        "\u23a2  \u03c1     -H\u22c5\u03b1 - \u03bb    \u03b6   \u23a5\n",
        "\u23a2                        \u23a5\n",
        "\u23a3  0       H\u22c5\u03b1     -\u03bb - \u03b6\u23a6"
       ]
      }
     ],
     "prompt_number": 102
    },
    {
     "cell_type": "markdown",
     "metadata": {},
     "source": [
      "La traza de la matriz anterior es:"
     ]
    },
    {
     "cell_type": "code",
     "collapsed": false,
     "input": [
      "sy.factor(sy.det(detB), lamb)"
     ],
     "language": "python",
     "metadata": {},
     "outputs": [
      {
       "latex": [
        "$$H \\beta \\rho \\zeta - \\lambda^{3} - \\lambda^{2} \\left(H \\alpha + \\rho + \\zeta\\right) - \\lambda \\left(H \\alpha \\rho - H \\beta \\rho + \\rho \\zeta\\right)$$"
       ],
       "metadata": {},
       "output_type": "pyout",
       "prompt_number": 103,
       "text": [
        "           3    2                                        \n",
        "H\u22c5\u03b2\u22c5\u03c1\u22c5\u03b6 - \u03bb  - \u03bb \u22c5(H\u22c5\u03b1 + \u03c1 + \u03b6) - \u03bb\u22c5(H\u22c5\u03b1\u22c5\u03c1 - H\u22c5\u03b2\u22c5\u03c1 + \u03c1\u22c5\u03b6)"
       ]
      }
     ],
     "prompt_number": 103
    },
    {
     "cell_type": "markdown",
     "metadata": {},
     "source": [
      "$H\\beta\\rho\\zeta > 0$ entonces $P(0) > 0$ y como $\\lim_{\\lambda \\rightarrow \\infty} P(\\lambda) = -\\infty$\n",
      "\n",
      "Entonces existe $\\lambda_0$ positiva tal que $P(\\lambda_0) = 0$\n",
      "\n",
      "Por lo tanto $(H,0,0,0)$ es un equilibrio inestable"
     ]
    },
    {
     "cell_type": "heading",
     "level": 3,
     "metadata": {},
     "source": [
      "Gr\u00e1ficas"
     ]
    },
    {
     "cell_type": "code",
     "collapsed": false,
     "input": [
      "def derivadasB(estado, t, a, b, z, r):\n",
      "    dh = -b*estado[0]*estado[2]\n",
      "    di = b*estado[0]*estado[2] - r*estado[1]\n",
      "    dz = r*estado[1] + z*estado[3] - a*estado[0]*estado[2]\n",
      "    dm = a*estado[0]*estado[2] - z*estado[3]\n",
      "    return np.array([dh, di, dz, dm])\n",
      "\n",
      "def solucionB(humanos, infectados, zombies, muertos, a, b, z, r):\n",
      "    tiempo = np.linspace(0, 1, 100)\n",
      "    estadoB = np.array([humanos,infectados,zombies,muertos])\n",
      "    sol = odeint(derivadasB, estadoB, tiempo, args=(a, b, z, r))\n",
      "    plt.figure(figsize=(15,5))\n",
      "    plt.plot(tiempo,sol.T[0], c='b', label=\"Humanos\")\n",
      "    plt.plot(tiempo,sol.T[1], c='purple', label=\"Infectados\")\n",
      "    plt.plot(tiempo,sol.T[2], c='g', label=\"Zombies\")\n",
      "    plt.plot(tiempo,sol.T[3], c='r', label=\"Muertos\")\n",
      "    lim = np.amax(sol)\n",
      "    plt.legend()\n",
      "    plt.ylim(0,lim+10)"
     ],
     "language": "python",
     "metadata": {},
     "outputs": [],
     "prompt_number": 104
    },
    {
     "cell_type": "code",
     "collapsed": false,
     "input": [
      "interact(solucionB,humanos=(0,1000,50), infectados=(0,10,1), zombies=(0,1000,1), muertos=fixed(0), a=(0.01,1,0.01), b=(0.1,1,0.05), z=(0.01,0.5,0.01), r=(0.1,1,0.05));"
     ],
     "language": "python",
     "metadata": {},
     "outputs": [
      {
       "metadata": {},
       "output_type": "display_data",
       "png": "[encoded data removed]",
       "text": [
        "<matplotlib.figure.Figure at 0x7fd1349f9b90>"
       ]
      }
     ],
     "prompt_number": 105
    },
    {
     "cell_type": "heading",
     "level": 2,
     "metadata": {},
     "source": [
      "Modelo con cuarentena"
     ]
    },
    {
     "cell_type": "markdown",
     "metadata": {},
     "source": [
      "En este modelo supondremos que una parte de los inviduos infectados y una parte de los zombies son puestos en cuarentena para ser eliminados y as\u00ed evitar que infecten a otros individuos. Por tanto, se tiene una nueva categor\u00eda que llamaremos Cuarentena $(Q)$\n",
      "Es posible que una parte de los inviduos en cuarentena logre escapar, pero supondremos que antes de infectar a otros individuos son eliminados y por tanto pasan a la categor\u00eda de muertos.\n",
      "Los nuevos par\u00e1metros del modelo son:\n",
      "\n",
      "\n",
      "- $\\kappa$ = Infectados que entran en cuarentena\n",
      "- $\\sigma$ = Zombies que entran en cuarentena\n",
      "- $\\gamma$ = Individuos en cuarentena que mueren intentando escapar\n",
      "\n",
      "\n",
      "Por tanto, el modelo con cuarentena es:\n",
      "$$ \\dot H = - \\beta H Z $$\n",
      "$$ \\dot I = \\beta H Z - \\rho I - \\kappa  I$$\n",
      "$$ \\dot Z = - \\alpha H Z + \\zeta M + \\rho I - \\sigma Z$$\n",
      "$$ \\dot M = \\alpha H Z - \\zeta M + \\gamma Q$$\n",
      "$$ \\dot Q = \\kappa I + \\sigma Z - \\gamma Q$$"
     ]
    },
    {
     "cell_type": "code",
     "collapsed": false,
     "input": [
      "pi = 0\n",
      "delta = 0"
     ],
     "language": "python",
     "metadata": {},
     "outputs": [],
     "prompt_number": 134
    },
    {
     "cell_type": "code",
     "collapsed": false,
     "input": [
      "dH = pi - beta*H*Z - delta*H\n",
      "dI = beta*H*Z - rho*I - delta*I - kappa*I\n",
      "dZ = rho*I + zeta*M - alpha*H*Z - sigma*Z\n",
      "dM = delta*H + delta*I + alpha*H*Z - zeta*M + gamma*Q\n",
      "dQ = kappa*I + sigma*Z - gamma*Q"
     ],
     "language": "python",
     "metadata": {},
     "outputs": [],
     "prompt_number": 135
    },
    {
     "cell_type": "code",
     "collapsed": false,
     "input": [
      "sy.solve(dH)"
     ],
     "language": "python",
     "metadata": {},
     "outputs": [
      {
       "latex": [
        "$$\\begin{bmatrix}\\begin{Bmatrix}H : 0\\end{Bmatrix}, & \\begin{Bmatrix}Z : 0\\end{Bmatrix}, & \\begin{Bmatrix}\\beta : 0\\end{Bmatrix}\\end{bmatrix}$$"
       ],
       "metadata": {},
       "output_type": "pyout",
       "prompt_number": 136,
       "text": [
        "[{H: 0}, {Z: 0}, {\u03b2: 0}]"
       ]
      }
     ],
     "prompt_number": 136
    },
    {
     "cell_type": "markdown",
     "metadata": {},
     "source": [
      "Caso Z = 0"
     ]
    },
    {
     "cell_type": "code",
     "collapsed": false,
     "input": [
      "print sy.solve(dH.subs([(Z,0)]), H)\n",
      "print sy.solve(dI.subs([(Z,0)]), I)\n",
      "print sy.solve(dM.subs([(Z,0), (I,0), (Q,0)]), M)\n",
      "print sy.solve(dQ.subs([(Z,0), (I,0)]), Q)"
     ],
     "language": "python",
     "metadata": {},
     "outputs": [
      {
       "output_type": "stream",
       "stream": "stdout",
       "text": [
        "[]\n",
        "[0]\n",
        "[0]\n",
        "[0]\n"
       ]
      }
     ],
     "prompt_number": 137
    },
    {
     "cell_type": "code",
     "collapsed": false,
     "input": [
      "(H,0,0,0,0)"
     ],
     "language": "python",
     "metadata": {},
     "outputs": [
      {
       "latex": [
        "$$\\begin{pmatrix}H, & 0, & 0, & 0, & 0\\end{pmatrix}$$"
       ],
       "metadata": {},
       "output_type": "pyout",
       "prompt_number": 138,
       "text": [
        "(H, 0, 0, 0, 0)"
       ]
      }
     ],
     "prompt_number": 138
    },
    {
     "cell_type": "markdown",
     "metadata": {},
     "source": [
      "Caso H = 0"
     ]
    },
    {
     "cell_type": "code",
     "collapsed": false,
     "input": [
      "print sy.solve(dI.subs([(H,0)]), I)\n",
      "print sy.solve(dZ.subs([(H,0), (I,0)]), Z)\n",
      "print sy.solve(dM.subs([(H,0), (I,0)]), M)\n",
      "print sy.solve(dQ.subs([(H,0), (I,0)]), Q)"
     ],
     "language": "python",
     "metadata": {},
     "outputs": [
      {
       "output_type": "stream",
       "stream": "stdout",
       "text": [
        "[0]\n",
        "[M*zeta/sigma]\n",
        "[Q*gamma/zeta]\n",
        "[Z*sigma/gamma]\n"
       ]
      }
     ],
     "prompt_number": 139
    },
    {
     "cell_type": "code",
     "collapsed": false,
     "input": [
      "(0,0,M*zeta/sigma, Q*gamma/zeta, Z*sigma/gamma)"
     ],
     "language": "python",
     "metadata": {},
     "outputs": [
      {
       "latex": [
        "$$\\begin{pmatrix}0, & 0, & \\frac{M \\zeta}{\\sigma}, & \\frac{Q \\gamma}{\\zeta}, & \\frac{Z \\sigma}{\\gamma}\\end{pmatrix}$$"
       ],
       "metadata": {},
       "output_type": "pyout",
       "prompt_number": 140,
       "text": [
        "\u239b      M\u22c5\u03b6  Q\u22c5\u03b3  Z\u22c5\u03c3\u239e\n",
        "\u239c0, 0, \u2500\u2500\u2500, \u2500\u2500\u2500, \u2500\u2500\u2500\u239f\n",
        "\u239d       \u03c3    \u03b6    \u03b3 \u23a0"
       ]
      }
     ],
     "prompt_number": 140
    },
    {
     "cell_type": "code",
     "collapsed": false,
     "input": [
      "XC = sy.Matrix([dH, dI, dZ, dM, dQ])\n",
      "YC = sy.Matrix([H, I, Z, M, Q])\n",
      "JC = XC.jacobian(YC)\n",
      "JC"
     ],
     "language": "python",
     "metadata": {},
     "outputs": [
      {
       "latex": [
        "$$\\left[\\begin{matrix}- Z \\beta & 0 & - H \\beta & 0 & 0\\\\Z \\beta & - \\kappa - \\rho & H \\beta & 0 & 0\\\\- Z \\alpha & \\rho & - H \\alpha - \\sigma & \\zeta & 0\\\\Z \\alpha & 0 & H \\alpha & - \\zeta & \\gamma\\\\0 & \\kappa & \\sigma & 0 & - \\gamma\\end{matrix}\\right]$$"
       ],
       "metadata": {},
       "output_type": "pyout",
       "prompt_number": 141,
       "text": [
        "\u23a1-Z\u22c5\u03b2    0       -H\u22c5\u03b2    0   0 \u23a4\n",
        "\u23a2                              \u23a5\n",
        "\u23a2Z\u22c5\u03b2   -\u03ba - \u03c1    H\u22c5\u03b2     0   0 \u23a5\n",
        "\u23a2                              \u23a5\n",
        "\u23a2-Z\u22c5\u03b1    \u03c1     -H\u22c5\u03b1 - \u03c3  \u03b6   0 \u23a5\n",
        "\u23a2                              \u23a5\n",
        "\u23a2Z\u22c5\u03b1     0       H\u22c5\u03b1     -\u03b6  \u03b3 \u23a5\n",
        "\u23a2                              \u23a5\n",
        "\u23a3 0      \u03ba        \u03c3      0   -\u03b3\u23a6"
       ]
      }
     ],
     "prompt_number": 141
    },
    {
     "cell_type": "code",
     "collapsed": false,
     "input": [
      "JC1 = JC.subs([(M,0), (I,0), (Z,0), (Q,0)])\n",
      "JC1"
     ],
     "language": "python",
     "metadata": {},
     "outputs": [
      {
       "latex": [
        "$$\\left[\\begin{matrix}0 & 0 & - H \\beta & 0 & 0\\\\0 & - \\kappa - \\rho & H \\beta & 0 & 0\\\\0 & \\rho & - H \\alpha - \\sigma & \\zeta & 0\\\\0 & 0 & H \\alpha & - \\zeta & \\gamma\\\\0 & \\kappa & \\sigma & 0 & - \\gamma\\end{matrix}\\right]$$"
       ],
       "metadata": {},
       "output_type": "pyout",
       "prompt_number": 142,
       "text": [
        "\u23a10    0       -H\u22c5\u03b2    0   0 \u23a4\n",
        "\u23a2                           \u23a5\n",
        "\u23a20  -\u03ba - \u03c1    H\u22c5\u03b2     0   0 \u23a5\n",
        "\u23a2                           \u23a5\n",
        "\u23a20    \u03c1     -H\u22c5\u03b1 - \u03c3  \u03b6   0 \u23a5\n",
        "\u23a2                           \u23a5\n",
        "\u23a20    0       H\u22c5\u03b1     -\u03b6  \u03b3 \u23a5\n",
        "\u23a2                           \u23a5\n",
        "\u23a30    \u03ba        \u03c3      0   -\u03b3\u23a6"
       ]
      }
     ],
     "prompt_number": 142
    },
    {
     "cell_type": "code",
     "collapsed": false,
     "input": [
      "JC2 = JC.subs([(H,0), (I,0), (Z,M*zeta/sigma), (M,Q*gamma/zeta), (Q,Z*sigma/gamma)])\n",
      "JC2"
     ],
     "language": "python",
     "metadata": {},
     "outputs": [
      {
       "latex": [
        "$$\\left[\\begin{matrix}- Z \\beta & 0 & 0 & 0 & 0\\\\Z \\beta & - \\kappa - \\rho & 0 & 0 & 0\\\\- Z \\alpha & \\rho & - \\sigma & \\zeta & 0\\\\Z \\alpha & 0 & 0 & - \\zeta & \\gamma\\\\0 & \\kappa & \\sigma & 0 & - \\gamma\\end{matrix}\\right]$$"
       ],
       "metadata": {},
       "output_type": "pyout",
       "prompt_number": 143,
       "text": [
        "\u23a1-Z\u22c5\u03b2    0     0   0   0 \u23a4\n",
        "\u23a2                        \u23a5\n",
        "\u23a2Z\u22c5\u03b2   -\u03ba - \u03c1  0   0   0 \u23a5\n",
        "\u23a2                        \u23a5\n",
        "\u23a2-Z\u22c5\u03b1    \u03c1     -\u03c3  \u03b6   0 \u23a5\n",
        "\u23a2                        \u23a5\n",
        "\u23a2Z\u22c5\u03b1     0     0   -\u03b6  \u03b3 \u23a5\n",
        "\u23a2                        \u23a5\n",
        "\u23a3 0      \u03ba     \u03c3   0   -\u03b3\u23a6"
       ]
      }
     ],
     "prompt_number": 143
    },
    {
     "cell_type": "heading",
     "level": 3,
     "metadata": {},
     "source": [
      "Gr\u00e1ficas"
     ]
    },
    {
     "cell_type": "code",
     "collapsed": false,
     "input": [
      "def derivadasC(estado, t, a, b, z, r, k, s, g):\n",
      "    dh = -b*estado[0]*estado[2]\n",
      "    di = b*estado[0]*estado[2] - r*estado[1] - k*estado[1]\n",
      "    dz = r*estado[1] + z*estado[3] - a*estado[0]*estado[2] - s*estado[2]\n",
      "    dm = a*estado[0]*estado[2] - z*estado[3] + g*estado[4]\n",
      "    dq = k*estado[1] + s*estado[2] - g*estado[4]\n",
      "    return np.array([dh, di, dz, dm, dq])\n",
      "\n",
      "def solucionC(humanos, infectados, zombies, muertos, cuarentena, a, b, z, r, k, s, g):\n",
      "    tiempo = np.linspace(0, 10, 100)\n",
      "    estadoC = np.array([humanos,infectados,zombies,muertos,cuarentena])\n",
      "    sol = odeint(derivadasC, estadoC, tiempo, args=(a, b, z, r, k, s, g))\n",
      "    plt.figure(figsize=(15,5))\n",
      "    plt.plot(tiempo,sol.T[0], c='b', label=\"Humanos\")\n",
      "    plt.plot(tiempo,sol.T[1], c='purple', label=\"Infectados\")\n",
      "    plt.plot(tiempo,sol.T[2], c='g', label=\"Zombies\")\n",
      "    plt.plot(tiempo,sol.T[3], c='r', label=\"Muertos\")\n",
      "    plt.plot(tiempo,sol.T[4], c='k', label=\"Cuarentena\")\n",
      "    lim = np.amax(sol)\n",
      "    plt.legend()\n",
      "    plt.ylim(0,lim+10)"
     ],
     "language": "python",
     "metadata": {},
     "outputs": [],
     "prompt_number": 144
    },
    {
     "cell_type": "code",
     "collapsed": false,
     "input": [
      "interact(solucionC,humanos=(0,1000,50),infectados=(0,10,1),zombies=(0,1000,1),muertos=fixed(0),cuarentena=fixed(0),a=(0.01,1,0.01),b=(0.1,1,0.05),z=(0.01,0.5,0.01),r=(0.1,1,0.05),k=(0.1,1,0.1),s=(0.01,0.5,0.01), g=(0,1,0.1));"
     ],
     "language": "python",
     "metadata": {},
     "outputs": [
      {
       "metadata": {},
       "output_type": "display_data",
       "png": "[encoded data removed]",
       "text": [
        "<matplotlib.figure.Figure at 0x7fd134944490>"
       ]
      }
     ],
     "prompt_number": 145
    },
    {
     "cell_type": "heading",
     "level": 2,
     "metadata": {},
     "source": [
      "Modelo con tratamiento"
     ]
    },
    {
     "cell_type": "markdown",
     "metadata": {},
     "source": [
      "Finalmente supondremos que hay una cura para la infecci\u00f3n zombie. Dado que ya hay una cura, se eliminar\u00e1 la cuarentena. No obstante, la cura no otorga inmunidad. Si un infectado es curado puede volver a convertirse en zombie si es mordido por otros zombies.\n",
      "\n",
      "\n",
      "Sea $c$ la tasa a la que los zombies son curados y regresan a ser humanos.\n",
      "\n",
      "\n",
      "El modelo con tratamiento es:\n",
      "$$ \\dot H = - \\beta H Z + c Z$$\n",
      "$$ \\dot I = \\beta H Z - \\rho I$$\n",
      "$$ \\dot Z = - \\alpha H Z + \\zeta M + \\rho I - c Z$$\n",
      "$$ \\dot M = \\alpha H Z - \\zeta M$$"
     ]
    },
    {
     "cell_type": "code",
     "collapsed": false,
     "input": [
      "pi = 0\n",
      "delta = 0"
     ],
     "language": "python",
     "metadata": {},
     "outputs": [],
     "prompt_number": 172
    },
    {
     "cell_type": "code",
     "collapsed": false,
     "input": [
      "dH = pi - beta*H*Z - delta*H + c*I\n",
      "dI = beta*H*Z - rho*I - delta*I - c*I\n",
      "dZ = rho*I + zeta*M - alpha*H*Z\n",
      "dM = delta*H + delta*I + alpha*H*Z - zeta*M"
     ],
     "language": "python",
     "metadata": {},
     "outputs": [],
     "prompt_number": 173
    },
    {
     "cell_type": "code",
     "collapsed": false,
     "input": [
      "print sy.solve(dH)"
     ],
     "language": "python",
     "metadata": {},
     "outputs": [
      {
       "output_type": "stream",
       "stream": "stdout",
       "text": [
        "[{H: 0.85*I/(Z*beta)}]\n"
       ]
      }
     ],
     "prompt_number": 175
    },
    {
     "cell_type": "code",
     "collapsed": false,
     "input": [
      "sy.solve(dI.subs([(H, I*c/(Z*beta))]))"
     ],
     "language": "python",
     "metadata": {},
     "outputs": [
      {
       "latex": [
        "$$\\begin{bmatrix}\\begin{Bmatrix}I : 0\\end{Bmatrix}, & \\begin{Bmatrix}\\rho : 0\\end{Bmatrix}\\end{bmatrix}$$"
       ],
       "metadata": {},
       "output_type": "pyout",
       "prompt_number": 121,
       "text": [
        "[{I: 0}, {\u03c1: 0}]"
       ]
      }
     ],
     "prompt_number": 121
    },
    {
     "cell_type": "code",
     "collapsed": false,
     "input": [
      "sy.solve(dZ.subs([(H, I*c/(Z*beta)), (I,0)]))"
     ],
     "language": "python",
     "metadata": {},
     "outputs": [
      {
       "latex": [
        "$$\\begin{bmatrix}\\begin{Bmatrix}M : 0\\end{Bmatrix}, & \\begin{Bmatrix}\\zeta : 0\\end{Bmatrix}\\end{bmatrix}$$"
       ],
       "metadata": {},
       "output_type": "pyout",
       "prompt_number": 122,
       "text": [
        "[{M: 0}, {\u03b6: 0}]"
       ]
      }
     ],
     "prompt_number": 122
    },
    {
     "cell_type": "code",
     "collapsed": false,
     "input": [
      "(H,0,0,0)"
     ],
     "language": "python",
     "metadata": {},
     "outputs": [
      {
       "latex": [
        "$$\\begin{pmatrix}H, & 0, & 0, & 0\\end{pmatrix}$$"
       ],
       "metadata": {},
       "output_type": "pyout",
       "prompt_number": 123,
       "text": [
        "(H, 0, 0, 0)"
       ]
      }
     ],
     "prompt_number": 123
    },
    {
     "cell_type": "code",
     "collapsed": false,
     "input": [
      "(0, Z, 0, 0)"
     ],
     "language": "python",
     "metadata": {},
     "outputs": [
      {
       "latex": [
        "$$\\begin{pmatrix}0, & Z, & 0, & 0\\end{pmatrix}$$"
       ],
       "metadata": {},
       "output_type": "pyout",
       "prompt_number": 124,
       "text": [
        "(0, Z, 0, 0)"
       ]
      }
     ],
     "prompt_number": 124
    },
    {
     "cell_type": "code",
     "collapsed": false,
     "input": [
      "XD = sy.Matrix([dH, dI, dZ, dM])\n",
      "YD = sy.Matrix([H, I, Z, M])\n",
      "JD = XD.jacobian(YD)\n",
      "JD"
     ],
     "language": "python",
     "metadata": {},
     "outputs": [
      {
       "latex": [
        "$$\\left[\\begin{matrix}- Z \\beta & c & - H \\beta & 0\\\\Z \\beta & - c - \\rho & H \\beta & 0\\\\- Z \\alpha & \\rho & - H \\alpha & \\zeta\\\\Z \\alpha & 0 & H \\alpha & - \\zeta\\end{matrix}\\right]$$"
       ],
       "metadata": {},
       "output_type": "pyout",
       "prompt_number": 125,
       "text": [
        "\u23a1-Z\u22c5\u03b2    c     -H\u22c5\u03b2  0 \u23a4\n",
        "\u23a2                      \u23a5\n",
        "\u23a2Z\u22c5\u03b2   -c - \u03c1  H\u22c5\u03b2   0 \u23a5\n",
        "\u23a2                      \u23a5\n",
        "\u23a2-Z\u22c5\u03b1    \u03c1     -H\u22c5\u03b1  \u03b6 \u23a5\n",
        "\u23a2                      \u23a5\n",
        "\u23a3Z\u22c5\u03b1     0     H\u22c5\u03b1   -\u03b6\u23a6"
       ]
      }
     ],
     "prompt_number": 125
    },
    {
     "cell_type": "code",
     "collapsed": false,
     "input": [
      "JD1 = JD.subs([(M,0), (I,0), (Z,0)])\n",
      "JD1"
     ],
     "language": "python",
     "metadata": {},
     "outputs": [
      {
       "latex": [
        "$$\\left[\\begin{matrix}0 & c & - H \\beta & 0\\\\0 & - c - \\rho & H \\beta & 0\\\\0 & \\rho & - H \\alpha & \\zeta\\\\0 & 0 & H \\alpha & - \\zeta\\end{matrix}\\right]$$"
       ],
       "metadata": {},
       "output_type": "pyout",
       "prompt_number": 126,
       "text": [
        "\u23a10    c     -H\u22c5\u03b2  0 \u23a4\n",
        "\u23a2                   \u23a5\n",
        "\u23a20  -c - \u03c1  H\u22c5\u03b2   0 \u23a5\n",
        "\u23a2                   \u23a5\n",
        "\u23a20    \u03c1     -H\u22c5\u03b1  \u03b6 \u23a5\n",
        "\u23a2                   \u23a5\n",
        "\u23a30    0     H\u22c5\u03b1   -\u03b6\u23a6"
       ]
      }
     ],
     "prompt_number": 126
    },
    {
     "cell_type": "code",
     "collapsed": false,
     "input": [
      "polD1 = sy.det(JD1-lamb*sy.eye(4))\n",
      "sy.factor(polD1, lamb)"
     ],
     "language": "python",
     "metadata": {},
     "outputs": [
      {
       "latex": [
        "$$\\lambda \\left(- H \\beta \\rho \\zeta + \\lambda^{3} + \\lambda^{2} \\left(H \\alpha + c + \\rho + \\zeta\\right) + \\lambda \\left(H \\alpha c + H \\alpha \\rho - H \\beta \\rho + c \\zeta + \\rho \\zeta\\right)\\right)$$"
       ],
       "metadata": {},
       "output_type": "pyout",
       "prompt_number": 127,
       "text": [
        "  \u239b            3    2                                                         \n",
        "\u03bb\u22c5\u239d-H\u22c5\u03b2\u22c5\u03c1\u22c5\u03b6 + \u03bb  + \u03bb \u22c5(H\u22c5\u03b1 + c + \u03c1 + \u03b6) + \u03bb\u22c5(H\u22c5\u03b1\u22c5c + H\u22c5\u03b1\u22c5\u03c1 - H\u22c5\u03b2\u22c5\u03c1 + c\u22c5\u03b6 + \u03c1\u22c5\u03b6\n",
        "\n",
        " \u239e\n",
        ")\u23a0"
       ]
      }
     ],
     "prompt_number": 127
    },
    {
     "cell_type": "markdown",
     "metadata": {},
     "source": [
      "$-H\\beta\\rho\\zeta < 0$ entonces $P(0) < 0$ y como $\\lim_{\\lambda \\rightarrow -\\infty} P(\\lambda) = \\infty$\n",
      "\n",
      "Entonces existe $\\lambda_0$ positiva tal que $P(\\lambda_0) = 0$\n",
      "\n",
      "Por lo tanto $(H,0,0,0)$ es un equilibrio inestable"
     ]
    },
    {
     "cell_type": "code",
     "collapsed": false,
     "input": [
      "JD2 = JD.subs([(M,0), (I,0), (H,0)])\n",
      "JD2"
     ],
     "language": "python",
     "metadata": {},
     "outputs": [
      {
       "latex": [
        "$$\\left[\\begin{matrix}- Z \\beta & c & 0 & 0\\\\Z \\beta & - c - \\rho & 0 & 0\\\\- Z \\alpha & \\rho & 0 & \\zeta\\\\Z \\alpha & 0 & 0 & - \\zeta\\end{matrix}\\right]$$"
       ],
       "metadata": {},
       "output_type": "pyout",
       "prompt_number": 128,
       "text": [
        "\u23a1-Z\u22c5\u03b2    c     0  0 \u23a4\n",
        "\u23a2                   \u23a5\n",
        "\u23a2Z\u22c5\u03b2   -c - \u03c1  0  0 \u23a5\n",
        "\u23a2                   \u23a5\n",
        "\u23a2-Z\u22c5\u03b1    \u03c1     0  \u03b6 \u23a5\n",
        "\u23a2                   \u23a5\n",
        "\u23a3Z\u22c5\u03b1     0     0  -\u03b6\u23a6"
       ]
      }
     ],
     "prompt_number": 128
    },
    {
     "cell_type": "code",
     "collapsed": false,
     "input": [
      "polD2 = sy.det(JD2-lamb*sy.eye(4))\n",
      "sy.factor(polD2, lamb)"
     ],
     "language": "python",
     "metadata": {},
     "outputs": [
      {
       "latex": [
        "$$\\lambda \\left(\\lambda + \\zeta\\right) \\left(Z \\beta \\rho + \\lambda^{2} + \\lambda \\left(Z \\beta + c + \\rho\\right)\\right)$$"
       ],
       "metadata": {},
       "output_type": "pyout",
       "prompt_number": 129,
       "text": [
        "          \u239b         2                  \u239e\n",
        "\u03bb\u22c5(\u03bb + \u03b6)\u22c5\u239dZ\u22c5\u03b2\u22c5\u03c1 + \u03bb  + \u03bb\u22c5(Z\u22c5\u03b2 + c + \u03c1)\u23a0"
       ]
      }
     ],
     "prompt_number": 129
    },
    {
     "cell_type": "code",
     "collapsed": false,
     "input": [
      "sy.solve(polD2, lamb)"
     ],
     "language": "python",
     "metadata": {},
     "outputs": [
      {
       "latex": [
        "$$\\begin{bmatrix}0, & - \\zeta, & - \\frac{Z \\beta}{2} - \\frac{c}{2} - \\frac{\\rho}{2} - \\frac{1}{2} \\sqrt{Z^{2} \\beta^{2} + 2 Z \\beta c - 2 Z \\beta \\rho + c^{2} + 2 c \\rho + \\rho^{2}}, & - \\frac{Z \\beta}{2} - \\frac{c}{2} - \\frac{\\rho}{2} + \\frac{1}{2} \\sqrt{Z^{2} \\beta^{2} + 2 Z \\beta c - 2 Z \\beta \\rho + c^{2} + 2 c \\rho + \\rho^{2}}\\end{bmatrix}$$"
       ],
       "metadata": {},
       "output_type": "pyout",
       "prompt_number": 130,
       "text": [
        "\u23a1                          _____________________________________________      \n",
        "\u23a2                         \u2571  2  2                        2            2       \n",
        "\u23a2         Z\u22c5\u03b2   c   \u03c1   \u2572\u2571  Z \u22c5\u03b2  + 2\u22c5Z\u22c5\u03b2\u22c5c - 2\u22c5Z\u22c5\u03b2\u22c5\u03c1 + c  + 2\u22c5c\u22c5\u03c1 + \u03c1      Z\u22c5\n",
        "\u23a20, -\u03b6, - \u2500\u2500\u2500 - \u2500 - \u2500 - \u2500\u2500\u2500\u2500\u2500\u2500\u2500\u2500\u2500\u2500\u2500\u2500\u2500\u2500\u2500\u2500\u2500\u2500\u2500\u2500\u2500\u2500\u2500\u2500\u2500\u2500\u2500\u2500\u2500\u2500\u2500\u2500\u2500\u2500\u2500\u2500\u2500\u2500\u2500\u2500\u2500\u2500\u2500\u2500\u2500\u2500\u2500\u2500, - \u2500\u2500\n",
        "\u23a3          2    2   2                          2                             2\n",
        "\n",
        "               _____________________________________________\u23a4\n",
        "              \u2571  2  2                        2            2 \u23a5\n",
        "\u03b2   c   \u03c1   \u2572\u2571  Z \u22c5\u03b2  + 2\u22c5Z\u22c5\u03b2\u22c5c - 2\u22c5Z\u22c5\u03b2\u22c5\u03c1 + c  + 2\u22c5c\u22c5\u03c1 + \u03c1  \u23a5\n",
        "\u2500 - \u2500 - \u2500 + \u2500\u2500\u2500\u2500\u2500\u2500\u2500\u2500\u2500\u2500\u2500\u2500\u2500\u2500\u2500\u2500\u2500\u2500\u2500\u2500\u2500\u2500\u2500\u2500\u2500\u2500\u2500\u2500\u2500\u2500\u2500\u2500\u2500\u2500\u2500\u2500\u2500\u2500\u2500\u2500\u2500\u2500\u2500\u2500\u2500\u2500\u2500\u2500\u23a5\n",
        "    2   2                          2                        \u23a6"
       ]
      }
     ],
     "prompt_number": 130
    },
    {
     "cell_type": "markdown",
     "metadata": {},
     "source": [
      "Como los eigenvalores son negativos $(0,0,Z,0)$ es un equilibrio estable"
     ]
    },
    {
     "cell_type": "heading",
     "level": 3,
     "metadata": {},
     "source": [
      "Gr\u00e1ficas"
     ]
    },
    {
     "cell_type": "code",
     "collapsed": false,
     "input": [
      "def derivadasD(estado, t, a, b, z, r, c):\n",
      "    dh = -b*estado[0]*estado[2] + c*estado[1]\n",
      "    di = b*estado[0]*estado[2] - r*estado[1] - c*estado[1]\n",
      "    dz = r*estado[1] + z*estado[3] - a*estado[0]*estado[2]\n",
      "    dm = a*estado[0]*estado[2] - z*estado[3]\n",
      "    return np.array([dh, di, dz, dm])\n",
      "\n",
      "def solucionD(humanos, infectados, zombies, muertos, a, b, z, r, c):\n",
      "    tiempo = np.linspace(0, 2, 200)\n",
      "    estadoD = np.array([humanos,infectados,zombies,muertos])\n",
      "    sol = odeint(derivadasD, estadoD, tiempo, args=(a, b, z, r, c))\n",
      "    plt.figure(figsize=(15,5))\n",
      "    plt.plot(tiempo,sol.T[0], c='b', label=\"Humanos\")\n",
      "    plt.plot(tiempo,sol.T[1], c='purple', label=\"Infectados\")\n",
      "    plt.plot(tiempo,sol.T[2], c='g', label=\"Zombies\")\n",
      "    plt.plot(tiempo,sol.T[3], c='r', label=\"Muertos\")\n",
      "    lim = np.amax(sol)\n",
      "    plt.legend()\n",
      "    plt.ylim(0,lim+10)"
     ],
     "language": "python",
     "metadata": {},
     "outputs": [],
     "prompt_number": 131
    },
    {
     "cell_type": "code",
     "collapsed": false,
     "input": [
      "interact(solucionD,humanos=(0,1000,50), infectados=(0,10,1), zombies=(0,1000,1), muertos=fixed(0), a=(0.01,1,0.01), b=(0.1,1,0.05), z=(0.01,0.5,0.01), r=(0.1,1,0.05), c=(0,0.8,0.01));"
     ],
     "language": "python",
     "metadata": {},
     "outputs": [
      {
       "metadata": {},
       "output_type": "display_data",
       "png": "[encoded data removed]",
       "text": [
        "<matplotlib.figure.Figure at 0x7fd134a27d50>"
       ]
      }
     ],
     "prompt_number": 132
    },
    {
     "cell_type": "code",
     "collapsed": false,
     "input": [
      "fig1, ax = plt.subplots(4,1, figsize=(15,20))\n",
      "\n",
      "tiempo = np.linspace(0, 10, 1000)\n",
      "humanos = 100\n",
      "infectados = 0\n",
      "zombies = 1\n",
      "muertos = 0\n",
      "cuarentena = 0\n",
      "a = 0.05\n",
      "b = 0.3\n",
      "z = 0.2\n",
      "r = 0.3\n",
      "k = 0.5\n",
      "s = 0.01\n",
      "g = 0.1\n",
      "c = 0.85\n",
      "\n",
      "estadoA = np.array([humanos, zombies,muertos])\n",
      "solA = odeint(derivadasA,estadoA, tiempo, args=(a, b, z))\n",
      "ax[0].plot(tiempo,solA.T[0], c='b', label=\"Humanos\", linewidth=2)\n",
      "ax[0].plot(tiempo,solA.T[1], c='g', label=\"Zombies\", linewidth=2)\n",
      "ax[0].plot(tiempo,solA.T[2], c='r', label=\"Muertos\")\n",
      "limA = np.amax(solA)\n",
      "ax[0].set_xlabel(u\"Tiempo (semanas)\")\n",
      "ax[0].legend()\n",
      "ax[0].set_ylim(0,limA+10)\n",
      "\n",
      "estadoB = np.array([humanos,infectados,zombies,muertos])\n",
      "solB = odeint(derivadasB, estadoB, tiempo, args=(a, b, z, r))\n",
      "ax[1].plot(tiempo,solB.T[0], c='b', label=\"Humanos\", linewidth=2)\n",
      "ax[1].plot(tiempo,solB.T[1], c='purple', label=\"Infectados\")\n",
      "ax[1].plot(tiempo,solB.T[2], c='g', label=\"Zombies\", linewidth=2)\n",
      "ax[1].plot(tiempo,solB.T[3], c='r', label=\"Muertos\")\n",
      "limB = np.amax(solB)\n",
      "ax[1].set_xlabel(u\"Tiempo (semanas)\")\n",
      "ax[1].legend()\n",
      "ax[1].set_ylim(0,limB+10)\n",
      "\n",
      "estadoC = np.array([humanos,infectados,zombies,muertos,cuarentena])\n",
      "solC = odeint(derivadasC, estadoC, tiempo, args=(a, b, z, r, k, s, g))\n",
      "ax[2].plot(tiempo,solC.T[0], c='b', label=\"Humanos\", linewidth=2)\n",
      "ax[2].plot(tiempo,solC.T[1], c='purple', label=\"Infectados\")\n",
      "ax[2].plot(tiempo,solC.T[2], c='g', label=\"Zombies\", linewidth=2)\n",
      "ax[2].plot(tiempo,solC.T[3], c='r', label=\"Muertos\")\n",
      "ax[2].plot(tiempo,solC.T[4], c='k', label=\"Cuarentena\")\n",
      "limC = np.amax(solC)\n",
      "ax[2].set_xlabel(u\"Tiempo (semanas)\")\n",
      "ax[2].legend()\n",
      "ax[2].set_ylim(0,limC+10)\n",
      "\n",
      "estadoD = np.array([humanos,infectados,zombies,muertos])\n",
      "solD = odeint(derivadasD, estadoD, tiempo, args=(a, b, z, r, c))\n",
      "ax[3].plot(tiempo,solD.T[0], c='b', label=\"Humanos\", linewidth=2)\n",
      "ax[3].plot(tiempo,solD.T[1], c='purple', label=\"Infectados\")\n",
      "ax[3].plot(tiempo,solD.T[2], c='g', label=\"Zombies\", linewidth=2)\n",
      "ax[3].plot(tiempo,solD.T[3], c='r', label=\"Muertos\")\n",
      "limD = np.amax(solD)\n",
      "ax[3].set_xlabel(u\"Tiempo (semanas)\")\n",
      "ax[3].legend();\n",
      "ax[3].set_ylim(0,limD+10);"
     ],
     "language": "python",
     "metadata": {},
     "outputs": [
      {
       "metadata": {},
       "output_type": "display_data",
       "png": "[encoded data removed]",
       "text": [
        "<matplotlib.figure.Figure at 0x7fd13414c490>"
       ]
      }
     ],
     "prompt_number": 164
    },
    {
     "cell_type": "heading",
     "level": 1,
     "metadata": {},
     "source": [
      "Conclusiones"
     ]
    },
    {
     "cell_type": "markdown",
     "metadata": {},
     "source": [
      "En cualquier escenario la coexistencia entre los humanos y los zombies es imposible. Los humanos eventualmente se extinguen y la velocidad con la que lo hacen depende de los par\u00e1metros.\n",
      "\n",
      "Si nuestra capacidad para destruir zombies ($\\alpha$), poner a infectados o zombies en cuarentena ($\\kappa, \\sigma$) y la efectividad del suministro y acci\u00f3n de una cura ($c$) son altas, nuestra supervivencia se extiende. Sin embargo, hay algunas diferencias entre cada modelo.\n",
      "\n",
      "El modelo con tratamiento es el escenario en el que los humanos sobreviven por m\u00e1s tiempo, mientras que el modelo del caso base es el escenario en que los humanos se extinguen m\u00e1s r\u00e1pido.\n",
      "\n",
      "La infecci\u00f3n latente retrasa un poco la extinci\u00f3n de los humanos al igual que la implementaci\u00f3n de una cuarentena."
     ]
    }
   ],
   "metadata": {}
  }
 ]
}