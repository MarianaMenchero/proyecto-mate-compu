{
 "metadata": {
  "name": "",
  "signature": "sha256:b24a29bb3f9b6718bad54634ebfd9089a58e1163358d8410f10f5d28885e5b25"
 },
 "nbformat": 3,
 "nbformat_minor": 0,
 "worksheets": [
  {
   "cells": [
    {
     "cell_type": "heading",
     "level": 1,
     "metadata": {},
     "source": [
      "When zombies attack !!!"
     ]
    },
    {
     "cell_type": "code",
     "collapsed": false,
     "input": [
      "from IPython.html.widgets import interact, fixed\n",
      "from IPython.display import display\n",
      "\n",
      "%matplotlib inline\n",
      "import numpy as np\n",
      "import matplotlib.pyplot as plt\n",
      "\n",
      "from matplotlib import cm\n",
      "import sympy as sy\n",
      "from mpl_toolkits.mplot3d import Axes3D\n",
      "from matplotlib import cm"
     ],
     "language": "python",
     "metadata": {},
     "outputs": [],
     "prompt_number": 2
    },
    {
     "cell_type": "code",
     "collapsed": false,
     "input": [
      "sy.init_printing(use_latex='mathjax')"
     ],
     "language": "python",
     "metadata": {},
     "outputs": [],
     "prompt_number": 5
    },
    {
     "cell_type": "code",
     "collapsed": false,
     "input": [
      "#def init_modelo():\n",
      "H = sy.Symbol('H')\n",
      "Z = sy.Symbol('Z')\n",
      "M = sy.Symbol('M')\n",
      "I = sy.Symbol('I')\n",
      "Q = sy.Symbol('Q')\n",
      "\n",
      "#Par\u00e1metros\n",
      "pi = sy.Symbol('Pi')\n",
      "beta = sy.Symbol('beta')\n",
      "delta = sy.Symbol('delta')\n",
      "alpha = sy.Symbol('alpha')\n",
      "zeta = sy.Symbol('zeta')\n",
      "lamb = sy.Symbol('lambda')\n",
      "rho = sy.Symbol('rho')\n",
      "kappa = sy.Symbol('kappa')\n",
      "sigma = sy.Symbol('sigma')\n",
      "gamma = sy.Symbol('gamma')\n",
      "c = sy.Symbol('c')\n",
      "\n",
      "#Derivadas\n",
      "dH = sy.Function('\\dotH')\n",
      "dZ = sy.Function('\\dotZ')\n",
      "dM = sy.Function('\\dotM')\n",
      "dI = sy.Function('\\dotI')\n",
      "dQ = sy.Function('\\dotQ')"
     ],
     "language": "python",
     "metadata": {},
     "outputs": [],
     "prompt_number": 11
    },
    {
     "cell_type": "heading",
     "level": 2,
     "metadata": {},
     "source": [
      "Modelo b\u00e1sico"
     ]
    },
    {
     "cell_type": "code",
     "collapsed": false,
     "input": [
      "pi = 0\n",
      "delta = 0"
     ],
     "language": "python",
     "metadata": {},
     "outputs": [],
     "prompt_number": 146
    },
    {
     "cell_type": "code",
     "collapsed": false,
     "input": [
      "dH = pi - beta*H*Z - delta*H\n",
      "dZ = beta*H*Z + zeta*M - alpha*H*Z\n",
      "dM = delta*H + alpha *H*Z - zeta*M"
     ],
     "language": "python",
     "metadata": {},
     "outputs": [],
     "prompt_number": 147
    },
    {
     "cell_type": "code",
     "collapsed": false,
     "input": [
      "dH"
     ],
     "language": "python",
     "metadata": {},
     "outputs": [
      {
       "latex": [
        "$$- H Z \\beta$$"
       ],
       "metadata": {},
       "output_type": "pyout",
       "prompt_number": 148,
       "text": [
        "-H\u22c5Z\u22c5\u03b2"
       ]
      }
     ],
     "prompt_number": 148
    },
    {
     "cell_type": "code",
     "collapsed": false,
     "input": [
      "dZ"
     ],
     "language": "python",
     "metadata": {},
     "outputs": [
      {
       "latex": [
        "$$- H Z \\alpha + H Z \\beta + M \\zeta$$"
       ],
       "metadata": {},
       "output_type": "pyout",
       "prompt_number": 149,
       "text": [
        "-H\u22c5Z\u22c5\u03b1 + H\u22c5Z\u22c5\u03b2 + M\u22c5\u03b6"
       ]
      }
     ],
     "prompt_number": 149
    },
    {
     "cell_type": "code",
     "collapsed": false,
     "input": [
      "dM"
     ],
     "language": "python",
     "metadata": {},
     "outputs": [
      {
       "latex": [
        "$$H Z \\alpha - M \\zeta$$"
       ],
       "metadata": {},
       "output_type": "pyout",
       "prompt_number": 150,
       "text": [
        "H\u22c5Z\u22c5\u03b1 - M\u22c5\u03b6"
       ]
      }
     ],
     "prompt_number": 150
    },
    {
     "cell_type": "code",
     "collapsed": false,
     "input": [
      "sy.solve(dH)"
     ],
     "language": "python",
     "metadata": {},
     "outputs": [
      {
       "latex": [
        "$$\\begin{bmatrix}\\begin{Bmatrix}H : 0\\end{Bmatrix}, & \\begin{Bmatrix}Z : 0\\end{Bmatrix}, & \\begin{Bmatrix}\\beta : 0\\end{Bmatrix}\\end{bmatrix}$$"
       ],
       "metadata": {},
       "output_type": "pyout",
       "prompt_number": 151,
       "text": [
        "[{H: 0}, {Z: 0}, {\u03b2: 0}]"
       ]
      }
     ],
     "prompt_number": 151
    },
    {
     "cell_type": "markdown",
     "metadata": {},
     "source": [
      "Caso $H = 0$"
     ]
    },
    {
     "cell_type": "code",
     "collapsed": false,
     "input": [
      "sy.solve(dZ.subs([(H , 0)]),Z)"
     ],
     "language": "python",
     "metadata": {},
     "outputs": [
      {
       "latex": [
        "$$\\begin{bmatrix}\\end{bmatrix}$$"
       ],
       "metadata": {},
       "output_type": "pyout",
       "prompt_number": 155,
       "text": [
        "[]"
       ]
      }
     ],
     "prompt_number": 155
    },
    {
     "cell_type": "code",
     "collapsed": false,
     "input": [
      "sy.solve(dM.subs([(H,0)]),M)"
     ],
     "language": "python",
     "metadata": {},
     "outputs": [
      {
       "latex": [
        "$$\\begin{bmatrix}0\\end{bmatrix}$$"
       ],
       "metadata": {},
       "output_type": "pyout",
       "prompt_number": 156,
       "text": [
        "[0]"
       ]
      }
     ],
     "prompt_number": 156
    },
    {
     "cell_type": "code",
     "collapsed": false,
     "input": [
      "(0,Z,0)"
     ],
     "language": "python",
     "metadata": {},
     "outputs": [
      {
       "latex": [
        "$$\\begin{pmatrix}0, & Z, & 0\\end{pmatrix}$$"
       ],
       "metadata": {},
       "output_type": "pyout",
       "prompt_number": 20,
       "text": [
        "(0, Z, 0)"
       ]
      }
     ],
     "prompt_number": 20
    },
    {
     "cell_type": "markdown",
     "metadata": {},
     "source": [
      "Caso $Z = 0$"
     ]
    },
    {
     "cell_type": "code",
     "collapsed": false,
     "input": [
      "sy.solve(dH.subs([(Z,0)]))"
     ],
     "language": "python",
     "metadata": {},
     "outputs": [
      {
       "latex": [
        "$$\\begin{bmatrix}\\end{bmatrix}$$"
       ],
       "metadata": {},
       "output_type": "pyout",
       "prompt_number": 157,
       "text": [
        "[]"
       ]
      }
     ],
     "prompt_number": 157
    },
    {
     "cell_type": "code",
     "collapsed": false,
     "input": [
      "sy.solve(dM.subs([(Z,0)]))"
     ],
     "language": "python",
     "metadata": {},
     "outputs": [
      {
       "latex": [
        "$$\\begin{bmatrix}\\begin{Bmatrix}M : 0\\end{Bmatrix}, & \\begin{Bmatrix}\\zeta : 0\\end{Bmatrix}\\end{bmatrix}$$"
       ],
       "metadata": {},
       "output_type": "pyout",
       "prompt_number": 158,
       "text": [
        "[{M: 0}, {\u03b6: 0}]"
       ]
      }
     ],
     "prompt_number": 158
    },
    {
     "cell_type": "code",
     "collapsed": false,
     "input": [
      "(H,0,0)"
     ],
     "language": "python",
     "metadata": {},
     "outputs": [
      {
       "latex": [
        "$$\\begin{pmatrix}H, & 0, & 0\\end{pmatrix}$$"
       ],
       "metadata": {},
       "output_type": "pyout",
       "prompt_number": 22,
       "text": [
        "(H, 0, 0)"
       ]
      }
     ],
     "prompt_number": 22
    },
    {
     "cell_type": "markdown",
     "metadata": {},
     "source": [
      "Obtenemos el Jacobiano"
     ]
    },
    {
     "cell_type": "code",
     "collapsed": false,
     "input": [
      "XA = sy.Matrix([dH, dZ, dM])\n",
      "YA = sy.Matrix([H,Z,M])\n",
      "JA = XA.jacobian(YA)\n",
      "JA"
     ],
     "language": "python",
     "metadata": {},
     "outputs": [
      {
       "latex": [
        "$$\\left[\\begin{matrix}- Z \\beta & - H \\beta & 0\\\\- Z \\alpha + Z \\beta & - H \\alpha + H \\beta & \\zeta\\\\Z \\alpha & H \\alpha & - \\zeta\\end{matrix}\\right]$$"
       ],
       "metadata": {},
       "output_type": "pyout",
       "prompt_number": 162,
       "text": [
        "\u23a1   -Z\u22c5\u03b2        -H\u22c5\u03b2     0 \u23a4\n",
        "\u23a2                          \u23a5\n",
        "\u23a2-Z\u22c5\u03b1 + Z\u22c5\u03b2  -H\u22c5\u03b1 + H\u22c5\u03b2  \u03b6 \u23a5\n",
        "\u23a2                          \u23a5\n",
        "\u23a3   Z\u22c5\u03b1         H\u22c5\u03b1      -\u03b6\u23a6"
       ]
      }
     ],
     "prompt_number": 162
    },
    {
     "cell_type": "markdown",
     "metadata": {},
     "source": [
      "Evaluamos el jacobiano en $(0,Z,0)$"
     ]
    },
    {
     "cell_type": "code",
     "collapsed": false,
     "input": [
      "JA1 = JA.subs([(H,0),(M,0)])\n",
      "JA1"
     ],
     "language": "python",
     "metadata": {},
     "outputs": [
      {
       "latex": [
        "$$\\left[\\begin{matrix}- Z \\beta & 0 & 0\\\\- Z \\alpha + Z \\beta & 0 & \\zeta\\\\Z \\alpha & 0 & - \\zeta\\end{matrix}\\right]$$"
       ],
       "metadata": {},
       "output_type": "pyout",
       "prompt_number": 164,
       "text": [
        "\u23a1   -Z\u22c5\u03b2     0  0 \u23a4\n",
        "\u23a2                 \u23a5\n",
        "\u23a2-Z\u22c5\u03b1 + Z\u22c5\u03b2  0  \u03b6 \u23a5\n",
        "\u23a2                 \u23a5\n",
        "\u23a3   Z\u22c5\u03b1      0  -\u03b6\u23a6"
       ]
      }
     ],
     "prompt_number": 164
    },
    {
     "cell_type": "code",
     "collapsed": false,
     "input": [
      "polA1 = sy.det(JA1-lamb*sy.eye(3))\n",
      "sy.factor(polA1, lamb)"
     ],
     "language": "python",
     "metadata": {},
     "outputs": [
      {
       "latex": [
        "$$- \\lambda \\left(\\lambda + \\zeta\\right) \\left(Z \\beta + \\lambda\\right)$$"
       ],
       "metadata": {},
       "output_type": "pyout",
       "prompt_number": 165,
       "text": [
        "-\u03bb\u22c5(\u03bb + \u03b6)\u22c5(Z\u22c5\u03b2 + \u03bb)"
       ]
      }
     ],
     "prompt_number": 165
    },
    {
     "cell_type": "code",
     "collapsed": false,
     "input": [
      "sy.solve(polA1)"
     ],
     "language": "python",
     "metadata": {},
     "outputs": [
      {
       "latex": [
        "$$\\begin{bmatrix}\\begin{Bmatrix}Z : - \\frac{\\lambda}{\\beta}\\end{Bmatrix}, & \\begin{Bmatrix}\\lambda : 0\\end{Bmatrix}, & \\begin{Bmatrix}\\zeta : - \\lambda\\end{Bmatrix}\\end{bmatrix}$$"
       ],
       "metadata": {},
       "output_type": "pyout",
       "prompt_number": 168,
       "text": [
        "\u23a1\u23a7   -\u03bb \u23ab                 \u23a4\n",
        "\u23a2\u23a8Z: \u2500\u2500\u2500\u23ac, {\u03bb: 0}, {\u03b6: -\u03bb}\u23a5\n",
        "\u23a3\u23a9    \u03b2 \u23ad                 \u23a6"
       ]
      }
     ],
     "prompt_number": 168
    },
    {
     "cell_type": "markdown",
     "metadata": {},
     "source": [
      "Como los eigenvalores son 0 o negativos $(0,Z,0)$ es asint\u00f3ticamente estable"
     ]
    },
    {
     "cell_type": "markdown",
     "metadata": {},
     "source": [
      "Evalueamos el jacobiano en $(H,0,0)$"
     ]
    },
    {
     "cell_type": "code",
     "collapsed": false,
     "input": [
      "JA2 = JA.subs([(Z,0),(M,0)])\n",
      "JA2"
     ],
     "language": "python",
     "metadata": {},
     "outputs": [
      {
       "latex": [
        "$$\\left[\\begin{matrix}0 & - H \\beta & 0\\\\0 & - H \\alpha + H \\beta & \\zeta\\\\0 & H \\alpha & - \\zeta\\end{matrix}\\right]$$"
       ],
       "metadata": {},
       "output_type": "pyout",
       "prompt_number": 169,
       "text": [
        "\u23a10     -H\u22c5\u03b2     0 \u23a4\n",
        "\u23a2                 \u23a5\n",
        "\u23a20  -H\u22c5\u03b1 + H\u22c5\u03b2  \u03b6 \u23a5\n",
        "\u23a2                 \u23a5\n",
        "\u23a30     H\u22c5\u03b1      -\u03b6\u23a6"
       ]
      }
     ],
     "prompt_number": 169
    },
    {
     "cell_type": "code",
     "collapsed": false,
     "input": [
      "polA2 = sy.det(JA2-lamb*sy.eye(3))\n",
      "sy.factor(polA2, lamb)"
     ],
     "language": "python",
     "metadata": {},
     "outputs": [
      {
       "latex": [
        "$$- \\lambda \\left(- H \\beta \\zeta + \\lambda^{2} + \\lambda \\left(H \\alpha - H \\beta + \\zeta\\right)\\right)$$"
       ],
       "metadata": {},
       "output_type": "pyout",
       "prompt_number": 170,
       "text": [
        "   \u239b          2                    \u239e\n",
        "-\u03bb\u22c5\u239d-H\u22c5\u03b2\u22c5\u03b6 + \u03bb  + \u03bb\u22c5(H\u22c5\u03b1 - H\u22c5\u03b2 + \u03b6)\u23a0"
       ]
      }
     ],
     "prompt_number": 170
    },
    {
     "cell_type": "code",
     "collapsed": false,
     "input": [
      "sy.solve(pol2, lamb)"
     ],
     "language": "python",
     "metadata": {},
     "outputs": [
      {
       "latex": [
        "$$\\begin{bmatrix}0, & - \\frac{H \\alpha}{2} + \\frac{H \\beta}{2} - \\frac{\\zeta}{2} - \\frac{1}{2} \\sqrt{H^{2} \\alpha^{2} - 2 H^{2} \\alpha \\beta + H^{2} \\beta^{2} + 2 H \\alpha \\zeta + 2 H \\beta \\zeta + \\zeta^{2}}, & - \\frac{H \\alpha}{2} + \\frac{H \\beta}{2} - \\frac{\\zeta}{2} + \\frac{1}{2} \\sqrt{H^{2} \\alpha^{2} - 2 H^{2} \\alpha \\beta + H^{2} \\beta^{2} + 2 H \\alpha \\zeta + 2 H \\beta \\zeta + \\zeta^{2}}\\end{bmatrix}$$"
       ],
       "metadata": {},
       "output_type": "pyout",
       "prompt_number": 171,
       "text": [
        "\u23a1                        ___________________________________________________  \n",
        "\u23a2                       \u2571  2  2      2        2  2                        2   \n",
        "\u23a2     H\u22c5\u03b1   H\u22c5\u03b2   \u03b6   \u2572\u2571  H \u22c5\u03b1  - 2\u22c5H \u22c5\u03b1\u22c5\u03b2 + H \u22c5\u03b2  + 2\u22c5H\u22c5\u03b1\u22c5\u03b6 + 2\u22c5H\u22c5\u03b2\u22c5\u03b6 + \u03b6    \n",
        "\u23a20, - \u2500\u2500\u2500 + \u2500\u2500\u2500 - \u2500 - \u2500\u2500\u2500\u2500\u2500\u2500\u2500\u2500\u2500\u2500\u2500\u2500\u2500\u2500\u2500\u2500\u2500\u2500\u2500\u2500\u2500\u2500\u2500\u2500\u2500\u2500\u2500\u2500\u2500\u2500\u2500\u2500\u2500\u2500\u2500\u2500\u2500\u2500\u2500\u2500\u2500\u2500\u2500\u2500\u2500\u2500\u2500\u2500\u2500\u2500\u2500\u2500\u2500\u2500, \n",
        "\u23a3      2     2    2                             2                             \n",
        "\n",
        "                     ___________________________________________________\u23a4\n",
        "                    \u2571  2  2      2        2  2                        2 \u23a5\n",
        "  H\u22c5\u03b1   H\u22c5\u03b2   \u03b6   \u2572\u2571  H \u22c5\u03b1  - 2\u22c5H \u22c5\u03b1\u22c5\u03b2 + H \u22c5\u03b2  + 2\u22c5H\u22c5\u03b1\u22c5\u03b6 + 2\u22c5H\u22c5\u03b2\u22c5\u03b6 + \u03b6  \u23a5\n",
        "- \u2500\u2500\u2500 + \u2500\u2500\u2500 - \u2500 + \u2500\u2500\u2500\u2500\u2500\u2500\u2500\u2500\u2500\u2500\u2500\u2500\u2500\u2500\u2500\u2500\u2500\u2500\u2500\u2500\u2500\u2500\u2500\u2500\u2500\u2500\u2500\u2500\u2500\u2500\u2500\u2500\u2500\u2500\u2500\u2500\u2500\u2500\u2500\u2500\u2500\u2500\u2500\u2500\u2500\u2500\u2500\u2500\u2500\u2500\u2500\u2500\u2500\u2500\u23a5\n",
        "   2     2    2                             2                           \u23a6"
       ]
      }
     ],
     "prompt_number": 171
    },
    {
     "cell_type": "markdown",
     "metadata": {},
     "source": [
      "Como una ra\u00edz es cero y siempre tenemos una con parte real positiva, entonces $(H,0,0)$ es inestable"
     ]
    },
    {
     "cell_type": "heading",
     "level": 2,
     "metadata": {},
     "source": [
      "Modelo con infecci\u00f3n latentente"
     ]
    },
    {
     "cell_type": "code",
     "collapsed": false,
     "input": [
      "pi = 0\n",
      "delta = 0"
     ],
     "language": "python",
     "metadata": {},
     "outputs": [],
     "prompt_number": 41
    },
    {
     "cell_type": "code",
     "collapsed": false,
     "input": [
      "dH = pi - beta*H*Z - delta*H\n",
      "dI = beta*H*Z - rho*I - delta*I\n",
      "dZ = rho*I + zeta*M - alpha*H*Z\n",
      "dM = delta*H + delta*I + alpha*H*Z - zeta*M"
     ],
     "language": "python",
     "metadata": {},
     "outputs": [],
     "prompt_number": 42
    },
    {
     "cell_type": "code",
     "collapsed": false,
     "input": [
      "sy.solve(dH)"
     ],
     "language": "python",
     "metadata": {},
     "outputs": [
      {
       "latex": [
        "$$\\begin{bmatrix}\\begin{Bmatrix}H : 0\\end{Bmatrix}, & \\begin{Bmatrix}Z : 0\\end{Bmatrix}, & \\begin{Bmatrix}\\beta : 0\\end{Bmatrix}\\end{bmatrix}$$"
       ],
       "metadata": {},
       "output_type": "pyout",
       "prompt_number": 43,
       "text": [
        "[{H: 0}, {Z: 0}, {\u03b2: 0}]"
       ]
      }
     ],
     "prompt_number": 43
    },
    {
     "cell_type": "markdown",
     "metadata": {},
     "source": [
      "Caso H = 0"
     ]
    },
    {
     "cell_type": "code",
     "collapsed": false,
     "input": [
      "print sy.solve(dI.subs([(H,0)]),I)\n",
      "print sy.solve(dZ.subs([(H,0)]), Z)\n",
      "print sy.solve(dM.subs([(H,0)]), M)"
     ],
     "language": "python",
     "metadata": {},
     "outputs": [
      {
       "output_type": "stream",
       "stream": "stdout",
       "text": [
        "[0]\n",
        "[]\n",
        "[0]\n"
       ]
      }
     ],
     "prompt_number": 50
    },
    {
     "cell_type": "code",
     "collapsed": false,
     "input": [
      "(0,0,Z,0)"
     ],
     "language": "python",
     "metadata": {},
     "outputs": [
      {
       "latex": [
        "$$\\begin{pmatrix}0, & 0, & Z, & 0\\end{pmatrix}$$"
       ],
       "metadata": {},
       "output_type": "pyout",
       "prompt_number": 51,
       "text": [
        "(0, 0, Z, 0)"
       ]
      }
     ],
     "prompt_number": 51
    },
    {
     "cell_type": "markdown",
     "metadata": {},
     "source": [
      "Caso Z = 0"
     ]
    },
    {
     "cell_type": "code",
     "collapsed": false,
     "input": [
      "print sy.solve(dH.subs([(Z,0)]),H)\n",
      "print sy.solve(dI.subs([(Z,0)]), I)\n",
      "print sy.solve(dM.subs([(Z,0)]), M)"
     ],
     "language": "python",
     "metadata": {},
     "outputs": [
      {
       "output_type": "stream",
       "stream": "stdout",
       "text": [
        "[]\n",
        "[0]\n",
        "[0]\n"
       ]
      }
     ],
     "prompt_number": 52
    },
    {
     "cell_type": "code",
     "collapsed": false,
     "input": [
      "(H, 0, 0, 0)"
     ],
     "language": "python",
     "metadata": {},
     "outputs": [
      {
       "latex": [
        "$$\\begin{pmatrix}H, & 0, & 0, & 0\\end{pmatrix}$$"
       ],
       "metadata": {},
       "output_type": "pyout",
       "prompt_number": 53,
       "text": [
        "(H, 0, 0, 0)"
       ]
      }
     ],
     "prompt_number": 53
    },
    {
     "cell_type": "code",
     "collapsed": false,
     "input": [
      "XB = sy.Matrix([dH, dI, dZ, dM])\n",
      "YB = sy.Matrix([H, I, Z, M])\n",
      "JB = XB.jacobian(YB)\n",
      "JB"
     ],
     "language": "python",
     "metadata": {},
     "outputs": [
      {
       "latex": [
        "$$\\left[\\begin{matrix}- Z \\beta & 0 & - H \\beta & 0\\\\Z \\beta & - \\rho & H \\beta & 0\\\\- Z \\alpha & \\rho & - H \\alpha & \\zeta\\\\Z \\alpha & 0 & H \\alpha & - \\zeta\\end{matrix}\\right]$$"
       ],
       "metadata": {},
       "output_type": "pyout",
       "prompt_number": 56,
       "text": [
        "\u23a1-Z\u22c5\u03b2  0   -H\u22c5\u03b2  0 \u23a4\n",
        "\u23a2                  \u23a5\n",
        "\u23a2Z\u22c5\u03b2   -\u03c1  H\u22c5\u03b2   0 \u23a5\n",
        "\u23a2                  \u23a5\n",
        "\u23a2-Z\u22c5\u03b1  \u03c1   -H\u22c5\u03b1  \u03b6 \u23a5\n",
        "\u23a2                  \u23a5\n",
        "\u23a3Z\u22c5\u03b1   0   H\u22c5\u03b1   -\u03b6\u23a6"
       ]
      }
     ],
     "prompt_number": 56
    },
    {
     "cell_type": "markdown",
     "metadata": {},
     "source": [
      "Caso (0,0,Z,0)"
     ]
    },
    {
     "cell_type": "code",
     "collapsed": false,
     "input": [
      "JB1 = JB.subs([(H,0),(M,0), (I,0)])\n",
      "JB1"
     ],
     "language": "python",
     "metadata": {},
     "outputs": [
      {
       "latex": [
        "$$\\left[\\begin{matrix}- Z \\beta & 0 & 0 & 0\\\\Z \\beta & - \\rho & 0 & 0\\\\- Z \\alpha & \\rho & 0 & \\zeta\\\\Z \\alpha & 0 & 0 & - \\zeta\\end{matrix}\\right]$$"
       ],
       "metadata": {},
       "output_type": "pyout",
       "prompt_number": 57,
       "text": [
        "\u23a1-Z\u22c5\u03b2  0   0  0 \u23a4\n",
        "\u23a2               \u23a5\n",
        "\u23a2Z\u22c5\u03b2   -\u03c1  0  0 \u23a5\n",
        "\u23a2               \u23a5\n",
        "\u23a2-Z\u22c5\u03b1  \u03c1   0  \u03b6 \u23a5\n",
        "\u23a2               \u23a5\n",
        "\u23a3Z\u22c5\u03b1   0   0  -\u03b6\u23a6"
       ]
      }
     ],
     "prompt_number": 57
    },
    {
     "cell_type": "code",
     "collapsed": false,
     "input": [
      "polB1 = sy.det(JB1-lamb*sy.eye(4))\n",
      "sy.factor(polB1)"
     ],
     "language": "python",
     "metadata": {},
     "outputs": [
      {
       "latex": [
        "$$\\lambda \\left(\\lambda + \\rho\\right) \\left(\\lambda + \\zeta\\right) \\left(Z \\beta + \\lambda\\right)$$"
       ],
       "metadata": {},
       "output_type": "pyout",
       "prompt_number": 58,
       "text": [
        "\u03bb\u22c5(\u03bb + \u03c1)\u22c5(\u03bb + \u03b6)\u22c5(Z\u22c5\u03b2 + \u03bb)"
       ]
      }
     ],
     "prompt_number": 58
    },
    {
     "cell_type": "code",
     "collapsed": false,
     "input": [
      "sy.solve(polB1, lamb)"
     ],
     "language": "python",
     "metadata": {},
     "outputs": [
      {
       "latex": [
        "$$\\begin{bmatrix}0, & - \\rho, & - \\zeta, & - Z \\beta\\end{bmatrix}$$"
       ],
       "metadata": {},
       "output_type": "pyout",
       "prompt_number": 59,
       "text": [
        "[0, -\u03c1, -\u03b6, -Z\u22c5\u03b2]"
       ]
      }
     ],
     "prompt_number": 59
    },
    {
     "cell_type": "markdown",
     "metadata": {},
     "source": [
      "Como totos los eigenvalores son negativos o 0, el punto $(0,0,Z,0)$ es un equilibrio estable"
     ]
    },
    {
     "cell_type": "markdown",
     "metadata": {},
     "source": [
      "Caso (H,0,0,0)"
     ]
    },
    {
     "cell_type": "code",
     "collapsed": false,
     "input": [
      "JB2 = JB.subs([(Z,0),(M,0), (I,0)])\n",
      "JB2"
     ],
     "language": "python",
     "metadata": {},
     "outputs": [
      {
       "latex": [
        "$$\\left[\\begin{matrix}0 & 0 & - H \\beta & 0\\\\0 & - \\rho & H \\beta & 0\\\\0 & \\rho & - H \\alpha & \\zeta\\\\0 & 0 & H \\alpha & - \\zeta\\end{matrix}\\right]$$"
       ],
       "metadata": {},
       "output_type": "pyout",
       "prompt_number": 60,
       "text": [
        "\u23a10  0   -H\u22c5\u03b2  0 \u23a4\n",
        "\u23a2               \u23a5\n",
        "\u23a20  -\u03c1  H\u22c5\u03b2   0 \u23a5\n",
        "\u23a2               \u23a5\n",
        "\u23a20  \u03c1   -H\u22c5\u03b1  \u03b6 \u23a5\n",
        "\u23a2               \u23a5\n",
        "\u23a30  0   H\u22c5\u03b1   -\u03b6\u23a6"
       ]
      }
     ],
     "prompt_number": 60
    },
    {
     "cell_type": "code",
     "collapsed": false,
     "input": [
      "polB2 = sy.det(JB2-lamb*sy.eye(4))\n",
      "sy.factor(polB2)"
     ],
     "language": "python",
     "metadata": {},
     "outputs": [
      {
       "latex": [
        "$$\\lambda \\left(H \\alpha \\lambda^{2} + H \\alpha \\lambda \\rho - H \\beta \\lambda \\rho - H \\beta \\rho \\zeta + \\lambda^{3} + \\lambda^{2} \\rho + \\lambda^{2} \\zeta + \\lambda \\rho \\zeta\\right)$$"
       ],
       "metadata": {},
       "output_type": "pyout",
       "prompt_number": 61,
       "text": [
        "  \u239b     2                                  3    2      2          \u239e\n",
        "\u03bb\u22c5\u239dH\u22c5\u03b1\u22c5\u03bb  + H\u22c5\u03b1\u22c5\u03bb\u22c5\u03c1 - H\u22c5\u03b2\u22c5\u03bb\u22c5\u03c1 - H\u22c5\u03b2\u22c5\u03c1\u22c5\u03b6 + \u03bb  + \u03bb \u22c5\u03c1 + \u03bb \u22c5\u03b6 + \u03bb\u22c5\u03c1\u22c5\u03b6\u23a0"
       ]
      }
     ],
     "prompt_number": 61
    },
    {
     "cell_type": "code",
     "collapsed": false,
     "input": [
      "JB2-lamb*sy.eye(4)"
     ],
     "language": "python",
     "metadata": {},
     "outputs": [
      {
       "latex": [
        "$$\\left[\\begin{matrix}- \\lambda & 0 & - H \\beta & 0\\\\0 & - \\lambda - \\rho & H \\beta & 0\\\\0 & \\rho & - H \\alpha - \\lambda & \\zeta\\\\0 & 0 & H \\alpha & - \\lambda - \\zeta\\end{matrix}\\right]$$"
       ],
       "metadata": {},
       "output_type": "pyout",
       "prompt_number": 63,
       "text": [
        "\u23a1-\u03bb    0       -H\u22c5\u03b2      0   \u23a4\n",
        "\u23a2                            \u23a5\n",
        "\u23a20   -\u03bb - \u03c1    H\u22c5\u03b2       0   \u23a5\n",
        "\u23a2                            \u23a5\n",
        "\u23a20     \u03c1     -H\u22c5\u03b1 - \u03bb    \u03b6   \u23a5\n",
        "\u23a2                            \u23a5\n",
        "\u23a30     0       H\u22c5\u03b1     -\u03bb - \u03b6\u23a6"
       ]
      }
     ],
     "prompt_number": 63
    },
    {
     "cell_type": "markdown",
     "metadata": {},
     "source": [
      "El determinante de la matriz est\u00e1 dado por $-\\lambda$ multiplicado por el determinante de la matriz:"
     ]
    },
    {
     "cell_type": "code",
     "collapsed": false,
     "input": [
      "detB = sy.Matrix([[-lamb-rho, H*beta, 0], [rho, -H*alpha-lamb, zeta], [0, H*alpha, -lamb-zeta]])\n",
      "detB"
     ],
     "language": "python",
     "metadata": {},
     "outputs": [
      {
       "latex": [
        "$$\\left[\\begin{matrix}- \\lambda - \\rho & H \\beta & 0\\\\\\rho & - H \\alpha - \\lambda & \\zeta\\\\0 & H \\alpha & - \\lambda - \\zeta\\end{matrix}\\right]$$"
       ],
       "metadata": {},
       "output_type": "pyout",
       "prompt_number": 67,
       "text": [
        "\u23a1-\u03bb - \u03c1    H\u22c5\u03b2       0   \u23a4\n",
        "\u23a2                        \u23a5\n",
        "\u23a2  \u03c1     -H\u22c5\u03b1 - \u03bb    \u03b6   \u23a5\n",
        "\u23a2                        \u23a5\n",
        "\u23a3  0       H\u22c5\u03b1     -\u03bb - \u03b6\u23a6"
       ]
      }
     ],
     "prompt_number": 67
    },
    {
     "cell_type": "markdown",
     "metadata": {},
     "source": [
      "La traza de la matriz anterior es:"
     ]
    },
    {
     "cell_type": "code",
     "collapsed": false,
     "input": [
      "sy.factor(sy.det(detB), lamb)"
     ],
     "language": "python",
     "metadata": {},
     "outputs": [
      {
       "latex": [
        "$$H \\beta \\rho \\zeta - \\lambda^{3} - \\lambda^{2} \\left(H \\alpha + \\rho + \\zeta\\right) - \\lambda \\left(H \\alpha \\rho - H \\beta \\rho + \\rho \\zeta\\right)$$"
       ],
       "metadata": {},
       "output_type": "pyout",
       "prompt_number": 71,
       "text": [
        "           3    2                                        \n",
        "H\u22c5\u03b2\u22c5\u03c1\u22c5\u03b6 - \u03bb  - \u03bb \u22c5(H\u22c5\u03b1 + \u03c1 + \u03b6) - \u03bb\u22c5(H\u22c5\u03b1\u22c5\u03c1 - H\u22c5\u03b2\u22c5\u03c1 + \u03c1\u22c5\u03b6)"
       ]
      }
     ],
     "prompt_number": 71
    },
    {
     "cell_type": "markdown",
     "metadata": {},
     "source": [
      "$H\\beta\\rho\\zeta > 0$ entonces $P(0) > 0$ y como $\\lim_{\\lambda \\rightarrow \\infty} P(\\lambda) = -\\infty$\n",
      "\n",
      "Entonces existe $\\lambda_0$ positiva tal que $P(\\lambda_0) = 0$\n",
      "\n",
      "Por lo tanto $(H,0,0,0)$ es un equilibrio inestable"
     ]
    },
    {
     "cell_type": "heading",
     "level": 2,
     "metadata": {},
     "source": [
      "Modelo con cuarentena"
     ]
    },
    {
     "cell_type": "code",
     "collapsed": false,
     "input": [
      "pi = 0\n",
      "delta = 0"
     ],
     "language": "python",
     "metadata": {},
     "outputs": [],
     "prompt_number": 91
    },
    {
     "cell_type": "code",
     "collapsed": false,
     "input": [
      "dH = pi - beta*H*Z - delta*H\n",
      "dI = beta*H*Z - rho*I - delta*I - kappa*I\n",
      "dZ = rho*I + zeta*M - alpha*H*Z - sigma*Z\n",
      "dM = delta*H + delta*I + alpha*H*Z - zeta*M + gamma*Q\n",
      "dQ = kappa*I + sigma*Z - gamma*Q"
     ],
     "language": "python",
     "metadata": {},
     "outputs": [],
     "prompt_number": 92
    },
    {
     "cell_type": "code",
     "collapsed": false,
     "input": [
      "sy.solve(dH)"
     ],
     "language": "python",
     "metadata": {},
     "outputs": [
      {
       "latex": [
        "$$\\begin{bmatrix}\\begin{Bmatrix}H : 0\\end{Bmatrix}, & \\begin{Bmatrix}Z : 0\\end{Bmatrix}, & \\begin{Bmatrix}\\beta : 0\\end{Bmatrix}\\end{bmatrix}$$"
       ],
       "metadata": {},
       "output_type": "pyout",
       "prompt_number": 93,
       "text": [
        "[{H: 0}, {Z: 0}, {\u03b2: 0}]"
       ]
      }
     ],
     "prompt_number": 93
    },
    {
     "cell_type": "markdown",
     "metadata": {},
     "source": [
      "Caso Z = 0"
     ]
    },
    {
     "cell_type": "code",
     "collapsed": false,
     "input": [
      "print sy.solve(dH.subs([(Z,0)]), H)\n",
      "print sy.solve(dI.subs([(Z,0)]), I)\n",
      "print sy.solve(dM.subs([(Z,0), (I,0), (Q,0)]), M)\n",
      "print sy.solve(dQ.subs([(Z,0), (I,0)]), Q)"
     ],
     "language": "python",
     "metadata": {},
     "outputs": [
      {
       "output_type": "stream",
       "stream": "stdout",
       "text": [
        "[]\n",
        "[0]\n",
        "[0]\n",
        "[0]\n"
       ]
      }
     ],
     "prompt_number": 80
    },
    {
     "cell_type": "code",
     "collapsed": false,
     "input": [
      "(H,0,0,0,0)"
     ],
     "language": "python",
     "metadata": {},
     "outputs": [
      {
       "latex": [
        "$$\\begin{pmatrix}H, & 0, & 0, & 0, & 0\\end{pmatrix}$$"
       ],
       "metadata": {},
       "output_type": "pyout",
       "prompt_number": 81,
       "text": [
        "(H, 0, 0, 0, 0)"
       ]
      }
     ],
     "prompt_number": 81
    },
    {
     "cell_type": "markdown",
     "metadata": {},
     "source": [
      "Caso H = 0"
     ]
    },
    {
     "cell_type": "code",
     "collapsed": false,
     "input": [
      "print sy.solve(dI.subs([(H,0)]), I)\n",
      "print sy.solve(dZ.subs([(H,0), (I,0)]), Z)\n",
      "print sy.solve(dM.subs([(H,0), (I,0)]), M)\n",
      "print sy.solve(dQ.subs([(H,0), (I,0)]), Q)"
     ],
     "language": "python",
     "metadata": {},
     "outputs": [
      {
       "output_type": "stream",
       "stream": "stdout",
       "text": [
        "[0]\n",
        "[M*zeta/sigma]\n",
        "[Q*gamma/zeta]\n",
        "[Z*sigma/gamma]\n"
       ]
      }
     ],
     "prompt_number": 96
    },
    {
     "cell_type": "code",
     "collapsed": false,
     "input": [
      "(0,0,M*zeta/sigma, Q*gamma/zeta, Z*sigma/gamma)"
     ],
     "language": "python",
     "metadata": {},
     "outputs": [
      {
       "latex": [
        "$$\\begin{pmatrix}0, & 0, & \\frac{M \\zeta}{\\sigma}, & \\frac{Q \\gamma}{\\zeta}, & \\frac{Z \\sigma}{\\gamma}\\end{pmatrix}$$"
       ],
       "metadata": {},
       "output_type": "pyout",
       "prompt_number": 97,
       "text": [
        "\u239b      M\u22c5\u03b6  Q\u22c5\u03b3  Z\u22c5\u03c3\u239e\n",
        "\u239c0, 0, \u2500\u2500\u2500, \u2500\u2500\u2500, \u2500\u2500\u2500\u239f\n",
        "\u239d       \u03c3    \u03b6    \u03b3 \u23a0"
       ]
      }
     ],
     "prompt_number": 97
    },
    {
     "cell_type": "code",
     "collapsed": false,
     "input": [
      "XC = sy.Matrix([dH, dI, dZ, dM, dQ])\n",
      "YC = sy.Matrix([H, I, Z, M, Q])\n",
      "JC = XC.jacobian(YC)\n",
      "JC"
     ],
     "language": "python",
     "metadata": {},
     "outputs": [
      {
       "latex": [
        "$$\\left[\\begin{matrix}- Z \\beta & 0 & - H \\beta & 0 & 0\\\\Z \\beta & - \\kappa - \\rho & H \\beta & 0 & 0\\\\- Z \\alpha & \\rho & - H \\alpha - \\sigma & \\zeta & 0\\\\Z \\alpha & 0 & H \\alpha & - \\zeta & \\gamma\\\\0 & \\kappa & \\sigma & 0 & - \\gamma\\end{matrix}\\right]$$"
       ],
       "metadata": {},
       "output_type": "pyout",
       "prompt_number": 98,
       "text": [
        "\u23a1-Z\u22c5\u03b2    0       -H\u22c5\u03b2    0   0 \u23a4\n",
        "\u23a2                              \u23a5\n",
        "\u23a2Z\u22c5\u03b2   -\u03ba - \u03c1    H\u22c5\u03b2     0   0 \u23a5\n",
        "\u23a2                              \u23a5\n",
        "\u23a2-Z\u22c5\u03b1    \u03c1     -H\u22c5\u03b1 - \u03c3  \u03b6   0 \u23a5\n",
        "\u23a2                              \u23a5\n",
        "\u23a2Z\u22c5\u03b1     0       H\u22c5\u03b1     -\u03b6  \u03b3 \u23a5\n",
        "\u23a2                              \u23a5\n",
        "\u23a3 0      \u03ba        \u03c3      0   -\u03b3\u23a6"
       ]
      }
     ],
     "prompt_number": 98
    },
    {
     "cell_type": "code",
     "collapsed": false,
     "input": [
      "JC1 = JC.subs([(M,0), (I,0), (Z,0), (Q,0)])\n",
      "JC1"
     ],
     "language": "python",
     "metadata": {},
     "outputs": [
      {
       "latex": [
        "$$\\left[\\begin{matrix}0 & 0 & - H \\beta & 0 & 0\\\\0 & - \\kappa - \\rho & H \\beta & 0 & 0\\\\0 & \\rho & - H \\alpha - \\sigma & \\zeta & 0\\\\0 & 0 & H \\alpha & - \\zeta & \\gamma\\\\0 & \\kappa & \\sigma & 0 & - \\gamma\\end{matrix}\\right]$$"
       ],
       "metadata": {},
       "output_type": "pyout",
       "prompt_number": 102,
       "text": [
        "\u23a10    0       -H\u22c5\u03b2    0   0 \u23a4\n",
        "\u23a2                           \u23a5\n",
        "\u23a20  -\u03ba - \u03c1    H\u22c5\u03b2     0   0 \u23a5\n",
        "\u23a2                           \u23a5\n",
        "\u23a20    \u03c1     -H\u22c5\u03b1 - \u03c3  \u03b6   0 \u23a5\n",
        "\u23a2                           \u23a5\n",
        "\u23a20    0       H\u22c5\u03b1     -\u03b6  \u03b3 \u23a5\n",
        "\u23a2                           \u23a5\n",
        "\u23a30    \u03ba        \u03c3      0   -\u03b3\u23a6"
       ]
      }
     ],
     "prompt_number": 102
    },
    {
     "cell_type": "code",
     "collapsed": false,
     "input": [
      "JC2 = JC.subs([(H,0), (I,0), (Z,M*zeta/sigma), (M,Q*gamma/zeta), (Q,Z*sigma/gamma)])\n",
      "JC2"
     ],
     "language": "python",
     "metadata": {},
     "outputs": [
      {
       "latex": [
        "$$\\left[\\begin{matrix}- Z \\beta & 0 & 0 & 0 & 0\\\\Z \\beta & - \\kappa - \\rho & 0 & 0 & 0\\\\- Z \\alpha & \\rho & - \\sigma & \\zeta & 0\\\\Z \\alpha & 0 & 0 & - \\zeta & \\gamma\\\\0 & \\kappa & \\sigma & 0 & - \\gamma\\end{matrix}\\right]$$"
       ],
       "metadata": {},
       "output_type": "pyout",
       "prompt_number": 101,
       "text": [
        "\u23a1-Z\u22c5\u03b2    0     0   0   0 \u23a4\n",
        "\u23a2                        \u23a5\n",
        "\u23a2Z\u22c5\u03b2   -\u03ba - \u03c1  0   0   0 \u23a5\n",
        "\u23a2                        \u23a5\n",
        "\u23a2-Z\u22c5\u03b1    \u03c1     -\u03c3  \u03b6   0 \u23a5\n",
        "\u23a2                        \u23a5\n",
        "\u23a2Z\u22c5\u03b1     0     0   -\u03b6  \u03b3 \u23a5\n",
        "\u23a2                        \u23a5\n",
        "\u23a3 0      \u03ba     \u03c3   0   -\u03b3\u23a6"
       ]
      }
     ],
     "prompt_number": 101
    },
    {
     "cell_type": "heading",
     "level": 2,
     "metadata": {},
     "source": [
      "Modelo con tratamiento"
     ]
    },
    {
     "cell_type": "code",
     "collapsed": false,
     "input": [
      "pi = 0\n",
      "delta = 0"
     ],
     "language": "python",
     "metadata": {},
     "outputs": [],
     "prompt_number": 111
    },
    {
     "cell_type": "code",
     "collapsed": false,
     "input": [
      "dH = pi - beta*H*Z - delta*H + c*I\n",
      "dI = beta*H*Z - rho*I - delta*I - c*I\n",
      "dZ = rho*I + zeta*M - alpha*H*Z\n",
      "dM = delta*H + delta*I + alpha*H*Z - zeta*M"
     ],
     "language": "python",
     "metadata": {},
     "outputs": [],
     "prompt_number": 112
    },
    {
     "cell_type": "code",
     "collapsed": false,
     "input": [
      "sy.solve(dH)"
     ],
     "language": "python",
     "metadata": {},
     "outputs": [
      {
       "latex": [
        "$$\\begin{bmatrix}\\begin{Bmatrix}H : \\frac{I c}{Z \\beta}\\end{Bmatrix}\\end{bmatrix}$$"
       ],
       "metadata": {},
       "output_type": "pyout",
       "prompt_number": 113,
       "text": [
        "\u23a1\u23a7   I\u22c5c\u23ab\u23a4\n",
        "\u23a2\u23a8H: \u2500\u2500\u2500\u23ac\u23a5\n",
        "\u23a3\u23a9   Z\u22c5\u03b2\u23ad\u23a6"
       ]
      }
     ],
     "prompt_number": 113
    },
    {
     "cell_type": "code",
     "collapsed": false,
     "input": [
      "sy.solve(dI.subs([(H, I*c/(Z*beta))]))"
     ],
     "language": "python",
     "metadata": {},
     "outputs": [
      {
       "latex": [
        "$$\\begin{bmatrix}\\begin{Bmatrix}I : 0\\end{Bmatrix}, & \\begin{Bmatrix}\\rho : 0\\end{Bmatrix}\\end{bmatrix}$$"
       ],
       "metadata": {},
       "output_type": "pyout",
       "prompt_number": 114,
       "text": [
        "[{I: 0}, {\u03c1: 0}]"
       ]
      }
     ],
     "prompt_number": 114
    },
    {
     "cell_type": "code",
     "collapsed": false,
     "input": [
      "sy.solve(dZ.subs([(H, I*c/(Z*beta)), (I,0)]))"
     ],
     "language": "python",
     "metadata": {},
     "outputs": [
      {
       "latex": [
        "$$\\begin{bmatrix}\\begin{Bmatrix}M : 0\\end{Bmatrix}, & \\begin{Bmatrix}\\zeta : 0\\end{Bmatrix}\\end{bmatrix}$$"
       ],
       "metadata": {},
       "output_type": "pyout",
       "prompt_number": 115,
       "text": [
        "[{M: 0}, {\u03b6: 0}]"
       ]
      }
     ],
     "prompt_number": 115
    },
    {
     "cell_type": "code",
     "collapsed": false,
     "input": [
      "(H,0,0,0)"
     ],
     "language": "python",
     "metadata": {},
     "outputs": [
      {
       "latex": [
        "$$\\begin{pmatrix}H, & 0, & 0, & 0\\end{pmatrix}$$"
       ],
       "metadata": {},
       "output_type": "pyout",
       "prompt_number": 117,
       "text": [
        "(H, 0, 0, 0)"
       ]
      }
     ],
     "prompt_number": 117
    },
    {
     "cell_type": "code",
     "collapsed": false,
     "input": [
      "(0, Z, 0, 0)"
     ],
     "language": "python",
     "metadata": {},
     "outputs": [
      {
       "latex": [
        "$$\\begin{pmatrix}0, & Z, & 0, & 0\\end{pmatrix}$$"
       ],
       "metadata": {},
       "output_type": "pyout",
       "prompt_number": 118,
       "text": [
        "(0, Z, 0, 0)"
       ]
      }
     ],
     "prompt_number": 118
    },
    {
     "cell_type": "code",
     "collapsed": false,
     "input": [
      "XD = sy.Matrix([dH, dI, dZ, dM])\n",
      "YD = sy.Matrix([H, I, Z, M])\n",
      "JD = XD.jacobian(YD)\n",
      "JD"
     ],
     "language": "python",
     "metadata": {},
     "outputs": [
      {
       "latex": [
        "$$\\left[\\begin{matrix}- Z \\beta & c & - H \\beta & 0\\\\Z \\beta & - c - \\rho & H \\beta & 0\\\\- Z \\alpha & \\rho & - H \\alpha & \\zeta\\\\Z \\alpha & 0 & H \\alpha & - \\zeta\\end{matrix}\\right]$$"
       ],
       "metadata": {},
       "output_type": "pyout",
       "prompt_number": 119,
       "text": [
        "\u23a1-Z\u22c5\u03b2    c     -H\u22c5\u03b2  0 \u23a4\n",
        "\u23a2                      \u23a5\n",
        "\u23a2Z\u22c5\u03b2   -c - \u03c1  H\u22c5\u03b2   0 \u23a5\n",
        "\u23a2                      \u23a5\n",
        "\u23a2-Z\u22c5\u03b1    \u03c1     -H\u22c5\u03b1  \u03b6 \u23a5\n",
        "\u23a2                      \u23a5\n",
        "\u23a3Z\u22c5\u03b1     0     H\u22c5\u03b1   -\u03b6\u23a6"
       ]
      }
     ],
     "prompt_number": 119
    },
    {
     "cell_type": "code",
     "collapsed": false,
     "input": [
      "JD1 = JD.subs([(M,0), (I,0), (Z,0)])\n",
      "JD1"
     ],
     "language": "python",
     "metadata": {},
     "outputs": [
      {
       "latex": [
        "$$\\left[\\begin{matrix}0 & c & - H \\beta & 0\\\\0 & - c - \\rho & H \\beta & 0\\\\0 & \\rho & - H \\alpha & \\zeta\\\\0 & 0 & H \\alpha & - \\zeta\\end{matrix}\\right]$$"
       ],
       "metadata": {},
       "output_type": "pyout",
       "prompt_number": 120,
       "text": [
        "\u23a10    c     -H\u22c5\u03b2  0 \u23a4\n",
        "\u23a2                   \u23a5\n",
        "\u23a20  -c - \u03c1  H\u22c5\u03b2   0 \u23a5\n",
        "\u23a2                   \u23a5\n",
        "\u23a20    \u03c1     -H\u22c5\u03b1  \u03b6 \u23a5\n",
        "\u23a2                   \u23a5\n",
        "\u23a30    0     H\u22c5\u03b1   -\u03b6\u23a6"
       ]
      }
     ],
     "prompt_number": 120
    },
    {
     "cell_type": "code",
     "collapsed": false,
     "input": [
      "polD1 = sy.det(JD1-lamb*sy.eye(4))\n",
      "sy.factor(polD1, lamb)"
     ],
     "language": "python",
     "metadata": {},
     "outputs": [
      {
       "latex": [
        "$$\\lambda \\left(- H \\beta \\rho \\zeta + \\lambda^{3} + \\lambda^{2} \\left(H \\alpha + c + \\rho + \\zeta\\right) + \\lambda \\left(H \\alpha c + H \\alpha \\rho - H \\beta \\rho + c \\zeta + \\rho \\zeta\\right)\\right)$$"
       ],
       "metadata": {},
       "output_type": "pyout",
       "prompt_number": 122,
       "text": [
        "  \u239b            3    2                                                         \n",
        "\u03bb\u22c5\u239d-H\u22c5\u03b2\u22c5\u03c1\u22c5\u03b6 + \u03bb  + \u03bb \u22c5(H\u22c5\u03b1 + c + \u03c1 + \u03b6) + \u03bb\u22c5(H\u22c5\u03b1\u22c5c + H\u22c5\u03b1\u22c5\u03c1 - H\u22c5\u03b2\u22c5\u03c1 + c\u22c5\u03b6 + \u03c1\u22c5\u03b6\n",
        "\n",
        " \u239e\n",
        ")\u23a0"
       ]
      }
     ],
     "prompt_number": 122
    },
    {
     "cell_type": "markdown",
     "metadata": {},
     "source": [
      "$-H\\beta\\rho\\zeta < 0$ entonces $P(0) < 0$ y como $\\lim_{\\lambda \\rightarrow -\\infty} P(\\lambda) = \\infty$\n",
      "\n",
      "Entonces existe $\\lambda_0$ positiva tal que $P(\\lambda_0) = 0$\n",
      "\n",
      "Por lo tanto $(H,0,0,0)$ es un equilibrio inestable"
     ]
    },
    {
     "cell_type": "code",
     "collapsed": false,
     "input": [
      "JD2 = JD.subs([(M,0), (I,0), (H,0)])\n",
      "JD2"
     ],
     "language": "python",
     "metadata": {},
     "outputs": [
      {
       "latex": [
        "$$\\left[\\begin{matrix}- Z \\beta & c & 0 & 0\\\\Z \\beta & - c - \\rho & 0 & 0\\\\- Z \\alpha & \\rho & 0 & \\zeta\\\\Z \\alpha & 0 & 0 & - \\zeta\\end{matrix}\\right]$$"
       ],
       "metadata": {},
       "output_type": "pyout",
       "prompt_number": 123,
       "text": [
        "\u23a1-Z\u22c5\u03b2    c     0  0 \u23a4\n",
        "\u23a2                   \u23a5\n",
        "\u23a2Z\u22c5\u03b2   -c - \u03c1  0  0 \u23a5\n",
        "\u23a2                   \u23a5\n",
        "\u23a2-Z\u22c5\u03b1    \u03c1     0  \u03b6 \u23a5\n",
        "\u23a2                   \u23a5\n",
        "\u23a3Z\u22c5\u03b1     0     0  -\u03b6\u23a6"
       ]
      }
     ],
     "prompt_number": 123
    },
    {
     "cell_type": "code",
     "collapsed": false,
     "input": [
      "polD2 = sy.det(JD2-lamb*sy.eye(4))\n",
      "sy.factor(polD2, lamb)"
     ],
     "language": "python",
     "metadata": {},
     "outputs": [
      {
       "latex": [
        "$$\\lambda \\left(\\lambda + \\zeta\\right) \\left(Z \\beta \\rho + \\lambda^{2} + \\lambda \\left(Z \\beta + c + \\rho\\right)\\right)$$"
       ],
       "metadata": {},
       "output_type": "pyout",
       "prompt_number": 124,
       "text": [
        "          \u239b         2                  \u239e\n",
        "\u03bb\u22c5(\u03bb + \u03b6)\u22c5\u239dZ\u22c5\u03b2\u22c5\u03c1 + \u03bb  + \u03bb\u22c5(Z\u22c5\u03b2 + c + \u03c1)\u23a0"
       ]
      }
     ],
     "prompt_number": 124
    },
    {
     "cell_type": "code",
     "collapsed": false,
     "input": [
      "sy.solve(polD2, lamb)"
     ],
     "language": "python",
     "metadata": {},
     "outputs": [
      {
       "latex": [
        "$$\\begin{bmatrix}0, & - \\zeta, & - \\frac{Z \\beta}{2} - \\frac{c}{2} - \\frac{\\rho}{2} - \\frac{1}{2} \\sqrt{Z^{2} \\beta^{2} + 2 Z \\beta c - 2 Z \\beta \\rho + c^{2} + 2 c \\rho + \\rho^{2}}, & - \\frac{Z \\beta}{2} - \\frac{c}{2} - \\frac{\\rho}{2} + \\frac{1}{2} \\sqrt{Z^{2} \\beta^{2} + 2 Z \\beta c - 2 Z \\beta \\rho + c^{2} + 2 c \\rho + \\rho^{2}}\\end{bmatrix}$$"
       ],
       "metadata": {},
       "output_type": "pyout",
       "prompt_number": 125,
       "text": [
        "\u23a1                          _____________________________________________      \n",
        "\u23a2                         \u2571  2  2                        2            2       \n",
        "\u23a2         Z\u22c5\u03b2   c   \u03c1   \u2572\u2571  Z \u22c5\u03b2  + 2\u22c5Z\u22c5\u03b2\u22c5c - 2\u22c5Z\u22c5\u03b2\u22c5\u03c1 + c  + 2\u22c5c\u22c5\u03c1 + \u03c1      Z\u22c5\n",
        "\u23a20, -\u03b6, - \u2500\u2500\u2500 - \u2500 - \u2500 - \u2500\u2500\u2500\u2500\u2500\u2500\u2500\u2500\u2500\u2500\u2500\u2500\u2500\u2500\u2500\u2500\u2500\u2500\u2500\u2500\u2500\u2500\u2500\u2500\u2500\u2500\u2500\u2500\u2500\u2500\u2500\u2500\u2500\u2500\u2500\u2500\u2500\u2500\u2500\u2500\u2500\u2500\u2500\u2500\u2500\u2500\u2500\u2500, - \u2500\u2500\n",
        "\u23a3          2    2   2                          2                             2\n",
        "\n",
        "               _____________________________________________\u23a4\n",
        "              \u2571  2  2                        2            2 \u23a5\n",
        "\u03b2   c   \u03c1   \u2572\u2571  Z \u22c5\u03b2  + 2\u22c5Z\u22c5\u03b2\u22c5c - 2\u22c5Z\u22c5\u03b2\u22c5\u03c1 + c  + 2\u22c5c\u22c5\u03c1 + \u03c1  \u23a5\n",
        "\u2500 - \u2500 - \u2500 + \u2500\u2500\u2500\u2500\u2500\u2500\u2500\u2500\u2500\u2500\u2500\u2500\u2500\u2500\u2500\u2500\u2500\u2500\u2500\u2500\u2500\u2500\u2500\u2500\u2500\u2500\u2500\u2500\u2500\u2500\u2500\u2500\u2500\u2500\u2500\u2500\u2500\u2500\u2500\u2500\u2500\u2500\u2500\u2500\u2500\u2500\u2500\u2500\u23a5\n",
        "    2   2                          2                        \u23a6"
       ]
      }
     ],
     "prompt_number": 125
    },
    {
     "cell_type": "markdown",
     "metadata": {},
     "source": [
      "Como los eigenvalores son negativos $(0,0,Z,0)$ es un equilibrio estable"
     ]
    },
    {
     "cell_type": "code",
     "collapsed": false,
     "input": [],
     "language": "python",
     "metadata": {},
     "outputs": []
    }
   ],
   "metadata": {}
  }
 ]
}