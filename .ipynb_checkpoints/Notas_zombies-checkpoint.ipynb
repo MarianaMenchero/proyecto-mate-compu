{
 "metadata": {
  "name": "",
  "signature": "sha256:234e48454ce99fa51d648b1bf5d8bcd2c1fe8fbbe5f12161130e063e53986d37"
 },
 "nbformat": 3,
 "nbformat_minor": 0,
 "worksheets": [
  {
   "cells": [
    {
     "cell_type": "heading",
     "level": 2,
     "metadata": {},
     "source": [
      "Algunas notas"
     ]
    },
    {
     "cell_type": "markdown",
     "metadata": {},
     "source": [
      "Rho nos permite ver qu\u00e9 tan letal es la infecci\u00f3n."
     ]
    },
    {
     "cell_type": "markdown",
     "metadata": {},
     "source": [
      "Algunos errores:\n",
      "\n",
      "- Aunque los humanos ya no existan, se siguen agregando zombies a la cuarentena.\n",
      "- No sabemos qui\u00e9nes est\u00e1n infectados ... no podemos administrar la cura a los infectados porque no los conocemos ... pero esperen, los infectados saben que est\u00e1n infectados y muy seguramente no se quieren convertir en zombies, apelamos a que por propia cuenta una porci\u00f3n (c o algo parecido) acudan a vacunarse"
     ]
    },
    {
     "cell_type": "markdown",
     "metadata": {},
     "source": [
      "Mostrar un poco c\u00f3mo fuimos explorando para llegar a los resultados"
     ]
    },
    {
     "cell_type": "markdown",
     "metadata": {},
     "source": [
      "Tal vez ... en un futuro lejano ... podemos corregir el modelo agregando una clase de muertos definitivos, para los zombies que acabamos"
     ]
    },
    {
     "cell_type": "markdown",
     "metadata": {},
     "source": [
      "Introducir unidades en los par\u00e1metros para mayor sentido"
     ]
    },
    {
     "cell_type": "heading",
     "level": 6,
     "metadata": {},
     "source": [
      "Pruebas para matriz de \"pruebas\" jaja"
     ]
    },
    {
     "cell_type": "code",
     "collapsed": false,
     "input": [
      "import numpy as np"
     ],
     "language": "python",
     "metadata": {},
     "outputs": [],
     "prompt_number": 1
    },
    {
     "cell_type": "code",
     "collapsed": false,
     "input": [
      "a = np.array(np.arange(5), dtype=object)\n",
      "b = np.array(np.arange(50), dtype=object)\n",
      "c = np.array(np.arange(1), dtype=object)"
     ],
     "language": "python",
     "metadata": {},
     "outputs": [],
     "prompt_number": 8
    },
    {
     "cell_type": "code",
     "collapsed": false,
     "input": [
      "datoA = np.array([1,1])\n",
      "datoB = np.array([2,2])\n",
      "datoC = np.array([3,3])"
     ],
     "language": "python",
     "metadata": {},
     "outputs": [],
     "prompt_number": 9
    },
    {
     "cell_type": "code",
     "collapsed": false,
     "input": [
      "for i in range (0, a.shape[0]):\n",
      "    a[i] = datoA\n",
      "for i in range (0, b.shape[0]):\n",
      "    b[i] = datoB\n",
      "for i in range (0, c.shape[0]):\n",
      "    c[i] = datoC"
     ],
     "language": "python",
     "metadata": {},
     "outputs": [],
     "prompt_number": 13
    },
    {
     "cell_type": "code",
     "collapsed": false,
     "input": [
      "todos = np.array(np.arange(3), dtype=object)\n",
      "todos[0] = a\n",
      "todos[1] = b\n",
      "todos[2] = c"
     ],
     "language": "python",
     "metadata": {},
     "outputs": [],
     "prompt_number": 14
    },
    {
     "cell_type": "code",
     "collapsed": false,
     "input": [
      "todos"
     ],
     "language": "python",
     "metadata": {},
     "outputs": [
      {
       "metadata": {},
       "output_type": "pyout",
       "prompt_number": 15,
       "text": [
        "array([ array([array([1, 1]), array([1, 1]), array([1, 1]), array([1, 1]),\n",
        "       array([1, 1])], dtype=object),\n",
        "       array([array([2, 2]), array([2, 2]), array([2, 2]), array([2, 2]),\n",
        "       array([2, 2]), array([2, 2]), array([2, 2]), array([2, 2]),\n",
        "       array([2, 2]), array([2, 2]), array([2, 2]), array([2, 2]),\n",
        "       array([2, 2]), array([2, 2]), array([2, 2]), array([2, 2]),\n",
        "       array([2, 2]), array([2, 2]), array([2, 2]), array([2, 2]),\n",
        "       array([2, 2]), array([2, 2]), array([2, 2]), array([2, 2]),\n",
        "       array([2, 2]), array([2, 2]), array([2, 2]), array([2, 2]),\n",
        "       array([2, 2]), array([2, 2]), array([2, 2]), array([2, 2]),\n",
        "       array([2, 2]), array([2, 2]), array([2, 2]), array([2, 2]),\n",
        "       array([2, 2]), array([2, 2]), array([2, 2]), array([2, 2]),\n",
        "       array([2, 2]), array([2, 2]), array([2, 2]), array([2, 2]),\n",
        "       array([2, 2]), array([2, 2]), array([2, 2]), array([2, 2]),\n",
        "       array([2, 2]), array([2, 2])], dtype=object),\n",
        "       array([array([3, 3])], dtype=object)], dtype=object)"
       ]
      }
     ],
     "prompt_number": 15
    },
    {
     "cell_type": "code",
     "collapsed": false,
     "input": [
      "#pruebas = total im\u00e1genes - total entrenamiento\n",
      "todosJuntos = np.zeros((a.shape[0] + b.shape[0] + c.shape[0], 2))"
     ],
     "language": "python",
     "metadata": {},
     "outputs": [],
     "prompt_number": 16
    },
    {
     "cell_type": "code",
     "collapsed": false,
     "input": [
      "i = 0\n",
      "for j in range(0, todos.shape[0]):\n",
      "    for k in range(0, todos[j].shape[0]):\n",
      "        todosJuntos[i] = todos[j][k]\n",
      "        i = i + 1"
     ],
     "language": "python",
     "metadata": {},
     "outputs": [],
     "prompt_number": 25
    },
    {
     "cell_type": "code",
     "collapsed": false,
     "input": [
      "todosJuntos"
     ],
     "language": "python",
     "metadata": {},
     "outputs": [
      {
       "metadata": {},
       "output_type": "pyout",
       "prompt_number": 28,
       "text": [
        "array([[ 1.,  1.],\n",
        "       [ 1.,  1.],\n",
        "       [ 1.,  1.],\n",
        "       [ 1.,  1.],\n",
        "       [ 1.,  1.],\n",
        "       [ 2.,  2.],\n",
        "       [ 2.,  2.],\n",
        "       [ 2.,  2.],\n",
        "       [ 2.,  2.],\n",
        "       [ 2.,  2.],\n",
        "       [ 2.,  2.],\n",
        "       [ 2.,  2.],\n",
        "       [ 2.,  2.],\n",
        "       [ 2.,  2.],\n",
        "       [ 2.,  2.],\n",
        "       [ 2.,  2.],\n",
        "       [ 2.,  2.],\n",
        "       [ 2.,  2.],\n",
        "       [ 2.,  2.],\n",
        "       [ 2.,  2.],\n",
        "       [ 2.,  2.],\n",
        "       [ 2.,  2.],\n",
        "       [ 2.,  2.],\n",
        "       [ 2.,  2.],\n",
        "       [ 2.,  2.],\n",
        "       [ 2.,  2.],\n",
        "       [ 2.,  2.],\n",
        "       [ 2.,  2.],\n",
        "       [ 2.,  2.],\n",
        "       [ 2.,  2.],\n",
        "       [ 2.,  2.],\n",
        "       [ 2.,  2.],\n",
        "       [ 2.,  2.],\n",
        "       [ 2.,  2.],\n",
        "       [ 2.,  2.],\n",
        "       [ 2.,  2.],\n",
        "       [ 2.,  2.],\n",
        "       [ 2.,  2.],\n",
        "       [ 2.,  2.],\n",
        "       [ 2.,  2.],\n",
        "       [ 2.,  2.],\n",
        "       [ 2.,  2.],\n",
        "       [ 2.,  2.],\n",
        "       [ 2.,  2.],\n",
        "       [ 2.,  2.],\n",
        "       [ 2.,  2.],\n",
        "       [ 2.,  2.],\n",
        "       [ 2.,  2.],\n",
        "       [ 2.,  2.],\n",
        "       [ 2.,  2.],\n",
        "       [ 2.,  2.],\n",
        "       [ 2.,  2.],\n",
        "       [ 2.,  2.],\n",
        "       [ 2.,  2.],\n",
        "       [ 2.,  2.],\n",
        "       [ 3.,  3.]])"
       ]
      }
     ],
     "prompt_number": 28
    },
    {
     "cell_type": "heading",
     "level": 3,
     "metadata": {},
     "source": [
      "\u00a1\u00a1\u00a1\u00c9xito!!!"
     ]
    }
   ],
   "metadata": {}
  }
 ]
}