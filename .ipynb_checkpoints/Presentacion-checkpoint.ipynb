{
 "metadata": {
  "name": "",
  "signature": "sha256:1bc9741c6ae0a3c74d9ac83f88c7ec97e3f84985ae17e18799e41c020cabb34a"
 },
 "nbformat": 3,
 "nbformat_minor": 0,
 "worksheets": [
  {
   "cells": [
    {
     "cell_type": "heading",
     "level": 2,
     "metadata": {},
     "source": [
      "Presentaci\u00f3n Power Point"
     ]
    },
    {
     "cell_type": "markdown",
     "metadata": {},
     "source": [
      "Se alternan las diapositivas entre Mariana y Andr\u00e9s"
     ]
    },
    {
     "cell_type": "heading",
     "level": 2,
     "metadata": {},
     "source": [
      "IPython Notebook"
     ]
    },
    {
     "cell_type": "heading",
     "level": 6,
     "metadata": {},
     "source": [
      "Descarga de la base de datos"
     ]
    },
    {
     "cell_type": "heading",
     "level": 6,
     "metadata": {},
     "source": [
      "Asignacion de variables (datos importantes)"
     ]
    },
    {
     "cell_type": "markdown",
     "metadata": {},
     "source": [
      "- Cantidad de fotos\n",
      "- N\u00famero de personas\n",
      "- N\u00famero de fotos por personas"
     ]
    },
    {
     "cell_type": "heading",
     "level": 6,
     "metadata": {},
     "source": [
      "Mostramos im\u00e1genes"
     ]
    },
    {
     "cell_type": "markdown",
     "metadata": {},
     "source": [
      "- Mostramos matriz in\u00fatil (sin nombres)\n",
      "- Estandarizaci\u00f3n s\u00f3lo en tama\u00f1o\n",
      "- Mostramos mosaico (con nombres) y s\u00f3lo una imagen\n",
      "\n",
      "Ocultar plotMosaico, matrizInutil"
     ]
    },
    {
     "cell_type": "heading",
     "level": 6,
     "metadata": {},
     "source": [
      "Creaci\u00f3n de carpetas"
     ]
    },
    {
     "cell_type": "markdown",
     "metadata": {},
     "source": [
      "- Repoducci\u00f3n de resultados"
     ]
    },
    {
     "cell_type": "heading",
     "level": 6,
     "metadata": {},
     "source": [
      "Rostro promedio"
     ]
    },
    {
     "cell_type": "markdown",
     "metadata": {},
     "source": [
      "- Es por clave\n",
      "- Muestra promedio de todos\n",
      "- Guardamos en arreglo (para trabajar localmente) y en una carpeta"
     ]
    },
    {
     "cell_type": "heading",
     "level": 6,
     "metadata": {},
     "source": [
      "Conjuntos de entrenamiento y prueba"
     ]
    },
    {
     "cell_type": "markdown",
     "metadata": {},
     "source": [
      "- Explicar la obtenci\u00f3n del m\u00ednimo\n",
      "- Cantidad de entrenamiento\n",
      "- Promedio por persona y uno general del conjunto de entrenamiento\n",
      "\n",
      "Ocultar minimoImagenes, arreglar texto en m\u00ednimo"
     ]
    },
    {
     "cell_type": "heading",
     "level": 6,
     "metadata": {},
     "source": [
      "Matriz M (im\u00e1genes de entrenamiento)"
     ]
    },
    {
     "cell_type": "markdown",
     "metadata": {},
     "source": [
      "- Definici\u00f3n caricatura\n",
      "- Creaci\u00f3n matriz M (caricaturas)\n",
      "- Explicar matriz de covarianza (no necesitamos calcularla expl\u00edcitamente)\n",
      "\n",
      "Ocultar arToMatrix"
     ]
    },
    {
     "cell_type": "heading",
     "level": 6,
     "metadata": {},
     "source": [
      "Eigenvalores y eigenvectores"
     ]
    },
    {
     "cell_type": "markdown",
     "metadata": {},
     "source": [
      "- Divisi\u00f3n matriz chica\n",
      "- Eigenvalores y eigenvectores de la matriz chica\n",
      "- Eigenvectores de la matriz grande\n",
      "- Selecci\u00f3n de los mejores eigenvectores\n",
      "- Gr\u00e1fica con los mayores eigenvalores\n",
      "- Normalizamos la base de eigenvectores (mayor precisi\u00f3n)\n",
      "- Mostrar eigenvectores (luz, facciones, ruido)\n",
      "\n",
      "Ocultar indicesMayores, norma"
     ]
    },
    {
     "cell_type": "heading",
     "level": 6,
     "metadata": {},
     "source": [
      "Proyecci\u00f3n"
     ]
    },
    {
     "cell_type": "markdown",
     "metadata": {},
     "source": [
      "- Proyecci\u00f3n y coeficientes\n",
      "- Explicar firmas\n",
      "- Proyecciones de los rostros promedio en la base de eigenvectores"
     ]
    },
    {
     "cell_type": "heading",
     "level": 3,
     "metadata": {},
     "source": [
      "Clasificaci\u00f3n"
     ]
    },
    {
     "cell_type": "heading",
     "level": 6,
     "metadata": {},
     "source": [
      "Clasifiaci\u00f3n con un par\u00e1metro"
     ]
    },
    {
     "cell_type": "markdown",
     "metadata": {},
     "source": [
      "- Diferencia\n",
      "- Distancia m\u00ednima para la predicci\u00f3n\n",
      "- Resultados con el conjunto de prueba y de entrenamiento\n",
      "- Matriz de confusi\u00f3n\n",
      "\n",
      "Ocultar porAciertoIndividual y de entrenamiento\n",
      "\n",
      "Tal vez crear una funci\u00f3n que despliegue resultados"
     ]
    },
    {
     "cell_type": "heading",
     "level": 6,
     "metadata": {},
     "source": [
      "Clasificaci\u00f3n con dos par\u00e1metros"
     ]
    },
    {
     "cell_type": "markdown",
     "metadata": {},
     "source": [
      "- Predicci\u00f3n con par\u00e1metro\n",
      "- Resultados (mejoran)\n",
      "- Matriz de confusi\u00f3n\n",
      "\n",
      "Ocultar porAciertoInv2\n",
      "\n",
      "Funci\u00f3n con resultados"
     ]
    },
    {
     "cell_type": "heading",
     "level": 6,
     "metadata": {},
     "source": [
      "Clasificaci\u00f3n con tres par\u00e1metros"
     ]
    },
    {
     "cell_type": "markdown",
     "metadata": {},
     "source": [
      "- Consideramos im\u00e1genes de tres objetos y dos animales (dos objetos figuran una cara a la vista humana)\n",
      "- Mostrar im\u00e1genes\n",
      "- Mostrar proyecciones\n",
      "- Predicci\u00f3n con dos par\u00e1metros\n",
      "- Mostramos resultados (funci\u00f3n aparte)"
     ]
    },
    {
     "cell_type": "heading",
     "level": 4,
     "metadata": {},
     "source": [
      "Jugando con nuestras fotos"
     ]
    },
    {
     "cell_type": "markdown",
     "metadata": {},
     "source": [
      "- Selecci\u00f3n de im\u00e1genes de los presentes jejeje\n",
      "- Librer\u00edas con fotos y nombres\n",
      "- Mostrar fotos\n",
      "- Mostrar predicciones ... y las fotos de las predicciones\n",
      "\n",
      "Ocultar imagenInternet"
     ]
    }
   ],
   "metadata": {}
  }
 ]
}