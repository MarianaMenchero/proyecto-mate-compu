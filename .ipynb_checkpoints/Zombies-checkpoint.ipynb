{
 "metadata": {
  "name": "",
  "signature": "sha256:b408b0318170d0706b22a4d1b10faae2f18c3ab755073062ce52ad7550e6b049"
 },
 "nbformat": 3,
 "nbformat_minor": 0,
 "worksheets": [
  {
   "cells": [
    {
     "cell_type": "heading",
     "level": 1,
     "metadata": {},
     "source": [
      "When zombies attack !!!"
     ]
    },
    {
     "cell_type": "code",
     "collapsed": false,
     "input": [
      "from IPython.html.widgets import interact, fixed\n",
      "from IPython.html import widgets\n",
      "from IPython.display import display\n",
      "\n",
      "from graficas import *\n",
      "\n",
      "%matplotlib inline\n",
      "import numpy as np\n",
      "import matplotlib.pyplot as plt\n",
      "\n",
      "import sympy as sy\n",
      "from scipy.integrate import odeint"
     ],
     "language": "python",
     "metadata": {},
     "outputs": [],
     "prompt_number": 2
    },
    {
     "cell_type": "code",
     "collapsed": false,
     "input": [
      "sy.init_printing(use_latex='mathjax')"
     ],
     "language": "python",
     "metadata": {},
     "outputs": [],
     "prompt_number": 3
    },
    {
     "cell_type": "code",
     "collapsed": false,
     "input": [
      "H = sy.Symbol('H')\n",
      "Z = sy.Symbol('Z')\n",
      "M = sy.Symbol('M')\n",
      "I = sy.Symbol('I')\n",
      "Q = sy.Symbol('Q')\n",
      "\n",
      "#Par\u00e1metros\n",
      "pi = sy.Symbol('Pi')\n",
      "beta = sy.Symbol('beta')\n",
      "delta = sy.Symbol('delta')\n",
      "alpha = sy.Symbol('alpha')\n",
      "zeta = sy.Symbol('zeta')\n",
      "lamb = sy.Symbol('lambda')\n",
      "rho = sy.Symbol('rho')\n",
      "kappa = sy.Symbol('kappa')\n",
      "sigma = sy.Symbol('sigma')\n",
      "gamma = sy.Symbol('gamma')\n",
      "c = sy.Symbol('c')\n",
      "\n",
      "#Derivadas\n",
      "dH = sy.Function('\\dotH')\n",
      "dZ = sy.Function('\\dotZ')\n",
      "dM = sy.Function('\\dotM')\n",
      "dI = sy.Function('\\dotI')\n",
      "dQ = sy.Function('\\dotQ')"
     ],
     "language": "python",
     "metadata": {},
     "outputs": [],
     "prompt_number": 4
    },
    {
     "cell_type": "markdown",
     "metadata": {},
     "source": [
      "A lo largo del proyecto consideraremos varias categor\u00edas:\n",
      "- Susceptibles $(H)$\n",
      "- Zombies $(Z)$\n",
      "- Muertos $(M)$\n",
      "- Infectados $(I)$\n",
      "- Cuarentena $(Q)$\n",
      "\n",
      "Cada modelo contendr\u00e1 una interpretaci\u00f3n distinta del rol que juegan los integrantes de categor\u00eda y no todos los modelos utilizan todas las categor\u00edas.\n",
      "\n",
      "Supondremos que la epidemia ocurre en un periodo corto de tiempo, por lo que $\\Pi = \\delta = 0$\n",
      "\n",
      "\n",
      "$$ \\dot H = \\Pi - \\beta H Z - \\delta H$$\n",
      "$$ \\dot Z = - \\alpha H Z + \\beta H Z + \\zeta M $$\n",
      "$$ \\dot M = \\delta H + \\alpha H Z - \\zeta M $$"
     ]
    },
    {
     "cell_type": "heading",
     "level": 2,
     "metadata": {},
     "source": [
      "Modelo b\u00e1sico"
     ]
    },
    {
     "cell_type": "markdown",
     "metadata": {},
     "source": [
      "En el modelo b\u00e1sico los individuos pertenecen a una de las siguientes categor\u00edas\n",
      "- Humanos $(H)$\n",
      "- Zombies $(Z)$\n",
      "- Muertos $(M)$\n",
      "\n",
      "\n",
      "Los humanos se convierten en zombies si son mordidos por un zombie y en muertos si mueren por alguna otra causa. Los humanos muertos reaniman como zombies a una tasa determinada. Los zombies a los que se les destruye el cerebro se convierten en muertos y as\u00ed permanecen.\n",
      "Suponemos adem\u00e1s que los zombies no se comen entre s\u00ed y que los humanos no se matan entre s\u00ed.\n",
      "\n",
      "\n",
      "Los par\u00e1metros del modelo son:\n",
      "\n",
      "\n",
      "- $\\Pi$ = Tasa de natalidad de los humanos\n",
      "- $\\beta$ = Tasa a la que los humanos se convierten en zombies\n",
      "- $\\delta$ = Tasa a la que mueren los humanos que no son mordidos por zombies\n",
      "- $\\alpha$ = Tasa a la que los zombies son destruidos\n",
      "- $\\zeta$  = Tasa a la que los muertos reviven como zombies\n",
      "\n",
      "\n",
      "El modelo del caso base es:\n",
      "$$ \\dot H = - H Z \\beta $$\n",
      "$$ \\dot Z = - H Z \\alpha + H Z \\beta + M \\zeta $$\n",
      "$$ \\dot M = \\alpha H Z - \\zeta M $$"
     ]
    },
    {
     "cell_type": "code",
     "collapsed": false,
     "input": [
      "pi = 0\n",
      "delta = 0"
     ],
     "language": "python",
     "metadata": {},
     "outputs": [],
     "prompt_number": 5
    },
    {
     "cell_type": "code",
     "collapsed": false,
     "input": [
      "dH = pi - beta*H*Z - delta*H\n",
      "dZ = beta*H*Z + zeta*M - alpha*H*Z\n",
      "dM = delta*H + alpha *H*Z - zeta*M"
     ],
     "language": "python",
     "metadata": {},
     "outputs": [],
     "prompt_number": 6
    },
    {
     "cell_type": "code",
     "collapsed": false,
     "input": [
      "sy.solve(dH)"
     ],
     "language": "python",
     "metadata": {},
     "outputs": [
      {
       "latex": [
        "$$\\begin{bmatrix}\\begin{Bmatrix}H : 0\\end{Bmatrix}, & \\begin{Bmatrix}Z : 0\\end{Bmatrix}, & \\begin{Bmatrix}\\beta : 0\\end{Bmatrix}\\end{bmatrix}$$"
       ],
       "metadata": {},
       "output_type": "pyout",
       "prompt_number": 7,
       "text": [
        "[{H: 0}, {Z: 0}, {\u03b2: 0}]"
       ]
      }
     ],
     "prompt_number": 7
    },
    {
     "cell_type": "markdown",
     "metadata": {},
     "source": [
      "Caso $H = 0$"
     ]
    },
    {
     "cell_type": "code",
     "collapsed": false,
     "input": [
      "(0,Z,0)"
     ],
     "language": "python",
     "metadata": {},
     "outputs": [
      {
       "latex": [
        "$$\\begin{pmatrix}0, & Z, & 0\\end{pmatrix}$$"
       ],
       "metadata": {},
       "output_type": "pyout",
       "prompt_number": 8,
       "text": [
        "(0, Z, 0)"
       ]
      }
     ],
     "prompt_number": 8
    },
    {
     "cell_type": "markdown",
     "metadata": {},
     "source": [
      "Caso $Z = 0$"
     ]
    },
    {
     "cell_type": "code",
     "collapsed": false,
     "input": [
      "(H,0,0)"
     ],
     "language": "python",
     "metadata": {},
     "outputs": [
      {
       "latex": [
        "$$\\begin{pmatrix}H, & 0, & 0\\end{pmatrix}$$"
       ],
       "metadata": {},
       "output_type": "pyout",
       "prompt_number": 9,
       "text": [
        "(H, 0, 0)"
       ]
      }
     ],
     "prompt_number": 9
    },
    {
     "cell_type": "markdown",
     "metadata": {},
     "source": [
      "Obtenemos el Jacobiano"
     ]
    },
    {
     "cell_type": "code",
     "collapsed": false,
     "input": [
      "XA = sy.Matrix([dH, dZ, dM])\n",
      "YA = sy.Matrix([H,Z,M])\n",
      "JA = XA.jacobian(YA)\n",
      "JA"
     ],
     "language": "python",
     "metadata": {},
     "outputs": [
      {
       "latex": [
        "$$\\left[\\begin{matrix}- Z \\beta & - H \\beta & 0\\\\- Z \\alpha + Z \\beta & - H \\alpha + H \\beta & \\zeta\\\\Z \\alpha & H \\alpha & - \\zeta\\end{matrix}\\right]$$"
       ],
       "metadata": {},
       "output_type": "pyout",
       "prompt_number": 10,
       "text": [
        "\u23a1   -Z\u22c5\u03b2        -H\u22c5\u03b2     0 \u23a4\n",
        "\u23a2                          \u23a5\n",
        "\u23a2-Z\u22c5\u03b1 + Z\u22c5\u03b2  -H\u22c5\u03b1 + H\u22c5\u03b2  \u03b6 \u23a5\n",
        "\u23a2                          \u23a5\n",
        "\u23a3   Z\u22c5\u03b1         H\u22c5\u03b1      -\u03b6\u23a6"
       ]
      }
     ],
     "prompt_number": 10
    },
    {
     "cell_type": "markdown",
     "metadata": {},
     "source": [
      "Evaluamos el jacobiano en $(0,Z,0)$"
     ]
    },
    {
     "cell_type": "code",
     "collapsed": false,
     "input": [
      "JA1 = JA.subs([(H,0),(M,0)])\n",
      "JA1"
     ],
     "language": "python",
     "metadata": {},
     "outputs": [
      {
       "latex": [
        "$$\\left[\\begin{matrix}- Z \\beta & 0 & 0\\\\- Z \\alpha + Z \\beta & 0 & \\zeta\\\\Z \\alpha & 0 & - \\zeta\\end{matrix}\\right]$$"
       ],
       "metadata": {},
       "output_type": "pyout",
       "prompt_number": 11,
       "text": [
        "\u23a1   -Z\u22c5\u03b2     0  0 \u23a4\n",
        "\u23a2                 \u23a5\n",
        "\u23a2-Z\u22c5\u03b1 + Z\u22c5\u03b2  0  \u03b6 \u23a5\n",
        "\u23a2                 \u23a5\n",
        "\u23a3   Z\u22c5\u03b1      0  -\u03b6\u23a6"
       ]
      }
     ],
     "prompt_number": 11
    },
    {
     "cell_type": "code",
     "collapsed": false,
     "input": [
      "polA1 = sy.det(JA1-lamb*sy.eye(3))\n",
      "sy.factor(polA1, lamb)"
     ],
     "language": "python",
     "metadata": {},
     "outputs": [
      {
       "latex": [
        "$$- \\lambda \\left(\\lambda + \\zeta\\right) \\left(Z \\beta + \\lambda\\right)$$"
       ],
       "metadata": {},
       "output_type": "pyout",
       "prompt_number": 12,
       "text": [
        "-\u03bb\u22c5(\u03bb + \u03b6)\u22c5(Z\u22c5\u03b2 + \u03bb)"
       ]
      }
     ],
     "prompt_number": 12
    },
    {
     "cell_type": "markdown",
     "metadata": {},
     "source": [
      "Las soluciones para $\\lambda$ son: $0, -\\zeta, -\\beta Z$"
     ]
    },
    {
     "cell_type": "markdown",
     "metadata": {},
     "source": [
      "Como los eigenvalores son 0 o negativos $(0,Z,0)$ es asint\u00f3ticamente estable"
     ]
    },
    {
     "cell_type": "markdown",
     "metadata": {},
     "source": [
      "Evaluamos el jacobiano en $(H,0,0)$"
     ]
    },
    {
     "cell_type": "code",
     "collapsed": false,
     "input": [
      "JA2 = JA.subs([(Z,0),(M,0)])\n",
      "JA2"
     ],
     "language": "python",
     "metadata": {},
     "outputs": [
      {
       "latex": [
        "$$\\left[\\begin{matrix}0 & - H \\beta & 0\\\\0 & - H \\alpha + H \\beta & \\zeta\\\\0 & H \\alpha & - \\zeta\\end{matrix}\\right]$$"
       ],
       "metadata": {},
       "output_type": "pyout",
       "prompt_number": 13,
       "text": [
        "\u23a10     -H\u22c5\u03b2     0 \u23a4\n",
        "\u23a2                 \u23a5\n",
        "\u23a20  -H\u22c5\u03b1 + H\u22c5\u03b2  \u03b6 \u23a5\n",
        "\u23a2                 \u23a5\n",
        "\u23a30     H\u22c5\u03b1      -\u03b6\u23a6"
       ]
      }
     ],
     "prompt_number": 13
    },
    {
     "cell_type": "code",
     "collapsed": false,
     "input": [
      "polA2 = sy.det(JA2-lamb*sy.eye(3))\n",
      "sy.factor(polA2, lamb)"
     ],
     "language": "python",
     "metadata": {},
     "outputs": [
      {
       "latex": [
        "$$- \\lambda \\left(- H \\beta \\zeta + \\lambda^{2} + \\lambda \\left(H \\alpha - H \\beta + \\zeta\\right)\\right)$$"
       ],
       "metadata": {},
       "output_type": "pyout",
       "prompt_number": 14,
       "text": [
        "   \u239b          2                    \u239e\n",
        "-\u03bb\u22c5\u239d-H\u22c5\u03b2\u22c5\u03b6 + \u03bb  + \u03bb\u22c5(H\u22c5\u03b1 - H\u22c5\u03b2 + \u03b6)\u23a0"
       ]
      }
     ],
     "prompt_number": 14
    },
    {
     "cell_type": "code",
     "collapsed": false,
     "input": [
      "sy.factor(sy.solve(polA2, lamb))"
     ],
     "language": "python",
     "metadata": {},
     "outputs": [
      {
       "latex": [
        "$$\\begin{bmatrix}0, & - \\frac{1}{2} \\left(H \\alpha - H \\beta + \\zeta + \\sqrt{H^{2} \\alpha^{2} - 2 H^{2} \\alpha \\beta + H^{2} \\beta^{2} + 2 H \\alpha \\zeta + 2 H \\beta \\zeta + \\zeta^{2}}\\right), & - \\frac{1}{2} \\left(H \\alpha - H \\beta + \\zeta - \\sqrt{H^{2} \\alpha^{2} - 2 H^{2} \\alpha \\beta + H^{2} \\beta^{2} + 2 H \\alpha \\zeta + 2 H \\beta \\zeta + \\zeta^{2}}\\right)\\end{bmatrix}$$"
       ],
       "metadata": {},
       "output_type": "pyout",
       "prompt_number": 15,
       "text": [
        "\u23a1    \u239b                   ___________________________________________________\u239e \n",
        "\u23a2    \u239c                  \u2571  2  2      2        2  2                        2 \u239f \n",
        "\u23a2   -\u239dH\u22c5\u03b1 - H\u22c5\u03b2 + \u03b6 + \u2572\u2571  H \u22c5\u03b1  - 2\u22c5H \u22c5\u03b1\u22c5\u03b2 + H \u22c5\u03b2  + 2\u22c5H\u22c5\u03b1\u22c5\u03b6 + 2\u22c5H\u22c5\u03b2\u22c5\u03b6 + \u03b6  \u23a0 \n",
        "\u23a20, \u2500\u2500\u2500\u2500\u2500\u2500\u2500\u2500\u2500\u2500\u2500\u2500\u2500\u2500\u2500\u2500\u2500\u2500\u2500\u2500\u2500\u2500\u2500\u2500\u2500\u2500\u2500\u2500\u2500\u2500\u2500\u2500\u2500\u2500\u2500\u2500\u2500\u2500\u2500\u2500\u2500\u2500\u2500\u2500\u2500\u2500\u2500\u2500\u2500\u2500\u2500\u2500\u2500\u2500\u2500\u2500\u2500\u2500\u2500\u2500\u2500\u2500\u2500\u2500\u2500\u2500\u2500\u2500\u2500\u2500\u2500\u2500\u2500\u2500\n",
        "\u23a3                                       2                                     \n",
        "\n",
        "   \u239b                   ___________________________________________________\u239e \u23a4\n",
        "   \u239c                  \u2571  2  2      2        2  2                        2 \u239f \u23a5\n",
        "  -\u239dH\u22c5\u03b1 - H\u22c5\u03b2 + \u03b6 - \u2572\u2571  H \u22c5\u03b1  - 2\u22c5H \u22c5\u03b1\u22c5\u03b2 + H \u22c5\u03b2  + 2\u22c5H\u22c5\u03b1\u22c5\u03b6 + 2\u22c5H\u22c5\u03b2\u22c5\u03b6 + \u03b6  \u23a0 \u23a5\n",
        ", \u2500\u2500\u2500\u2500\u2500\u2500\u2500\u2500\u2500\u2500\u2500\u2500\u2500\u2500\u2500\u2500\u2500\u2500\u2500\u2500\u2500\u2500\u2500\u2500\u2500\u2500\u2500\u2500\u2500\u2500\u2500\u2500\u2500\u2500\u2500\u2500\u2500\u2500\u2500\u2500\u2500\u2500\u2500\u2500\u2500\u2500\u2500\u2500\u2500\u2500\u2500\u2500\u2500\u2500\u2500\u2500\u2500\u2500\u2500\u2500\u2500\u2500\u2500\u2500\u2500\u2500\u2500\u2500\u2500\u2500\u2500\u2500\u2500\u2500\u23a5\n",
        "                                      2                                     \u23a6"
       ]
      }
     ],
     "prompt_number": 15
    },
    {
     "cell_type": "code",
     "collapsed": false,
     "input": [
      "sy.factor(-H*alpha/2 + H*beta/2 - zeta/2, H)"
     ],
     "language": "python",
     "metadata": {},
     "outputs": [
      {
       "latex": [
        "$$- \\frac{1}{2} \\left(H \\left(\\alpha - \\beta\\right) + \\zeta\\right)$$"
       ],
       "metadata": {},
       "output_type": "pyout",
       "prompt_number": 16,
       "text": [
        "-(H\u22c5(\u03b1 - \u03b2) + \u03b6) \n",
        "\u2500\u2500\u2500\u2500\u2500\u2500\u2500\u2500\u2500\u2500\u2500\u2500\u2500\u2500\u2500\u2500\u2500\n",
        "        2        "
       ]
      }
     ],
     "prompt_number": 16
    },
    {
     "cell_type": "markdown",
     "metadata": {},
     "source": [
      "Como una ra\u00edz es cero y siempre tenemos una con parte real positiva, entonces $(H,0,0)$ es inestable"
     ]
    },
    {
     "cell_type": "heading",
     "level": 3,
     "metadata": {},
     "source": [
      "Gr\u00e1ficas"
     ]
    },
    {
     "cell_type": "code",
     "collapsed": false,
     "input": [
      "interactA()"
     ],
     "language": "python",
     "metadata": {},
     "outputs": [
      {
       "metadata": {},
       "output_type": "display_data",
       "png": "[encoded data removed]",
       "text": [
        "<matplotlib.figure.Figure at 0x7fcfd20cfa50>"
       ]
      }
     ],
     "prompt_number": 17
    },
    {
     "cell_type": "heading",
     "level": 2,
     "metadata": {},
     "source": [
      "Modelo con infecci\u00f3n latente"
     ]
    },
    {
     "cell_type": "markdown",
     "metadata": {},
     "source": [
      "En el modelo con infecci\u00f3n latente supondremos que los humanos que son mordidos por zombies tardan aproximadamente 24 horas en convertirse en zombies. As\u00ed, tendremos una nueva clase de inviduos que llamaremos Infectados $(I)$\n",
      "Los par\u00e1metros del modelo son los mismos que los del modelo b\u00e1sico, m\u00e1s:\n",
      "\n",
      "\n",
      "- $\\rho$ = Tasa a la que los infectados se convierten en zombies\n",
      "\n",
      "\n",
      "As\u00ed, el modelo es:\n",
      "$$ \\dot H = - \\beta H Z $$\n",
      "$$ \\dot I = \\beta H Z - \\rho I $$\n",
      "$$ \\dot Z = - \\alpha H Z + \\zeta M + \\rho I$$\n",
      "$$ \\dot M = \\alpha H Z - \\zeta M $$"
     ]
    },
    {
     "cell_type": "code",
     "collapsed": false,
     "input": [
      "pi = 0\n",
      "delta = 0"
     ],
     "language": "python",
     "metadata": {},
     "outputs": [],
     "prompt_number": 26
    },
    {
     "cell_type": "code",
     "collapsed": false,
     "input": [
      "dH = pi - beta*H*Z - delta*H\n",
      "dI = beta*H*Z - rho*I - delta*I\n",
      "dZ = rho*I + zeta*M - alpha*H*Z\n",
      "dM = delta*H + delta*I + alpha*H*Z - zeta*M"
     ],
     "language": "python",
     "metadata": {},
     "outputs": [],
     "prompt_number": 27
    },
    {
     "cell_type": "code",
     "collapsed": false,
     "input": [
      "sy.solve(dH)"
     ],
     "language": "python",
     "metadata": {},
     "outputs": [
      {
       "latex": [
        "$$\\begin{bmatrix}\\begin{Bmatrix}H : 0\\end{Bmatrix}, & \\begin{Bmatrix}Z : 0\\end{Bmatrix}, & \\begin{Bmatrix}\\beta : 0\\end{Bmatrix}\\end{bmatrix}$$"
       ],
       "metadata": {},
       "output_type": "pyout",
       "prompt_number": 28,
       "text": [
        "[{H: 0}, {Z: 0}, {\u03b2: 0}]"
       ]
      }
     ],
     "prompt_number": 28
    },
    {
     "cell_type": "markdown",
     "metadata": {},
     "source": [
      "Caso $H = 0$"
     ]
    },
    {
     "cell_type": "code",
     "collapsed": false,
     "input": [
      "print sy.solve(dI.subs([(H,0)]),I)\n",
      "print sy.solve(dZ.subs([(H,0)]), Z)\n",
      "print sy.solve(dM.subs([(H,0)]), M)"
     ],
     "language": "python",
     "metadata": {},
     "outputs": [
      {
       "output_type": "stream",
       "stream": "stdout",
       "text": [
        "[0]\n",
        "[]\n",
        "[0]\n"
       ]
      }
     ],
     "prompt_number": 29
    },
    {
     "cell_type": "code",
     "collapsed": false,
     "input": [
      "(0,0,Z,0)"
     ],
     "language": "python",
     "metadata": {},
     "outputs": [
      {
       "latex": [
        "$$\\begin{pmatrix}0, & 0, & Z, & 0\\end{pmatrix}$$"
       ],
       "metadata": {},
       "output_type": "pyout",
       "prompt_number": 30,
       "text": [
        "(0, 0, Z, 0)"
       ]
      }
     ],
     "prompt_number": 30
    },
    {
     "cell_type": "markdown",
     "metadata": {},
     "source": [
      "Caso $Z = 0$"
     ]
    },
    {
     "cell_type": "code",
     "collapsed": false,
     "input": [
      "print sy.solve(dH.subs([(Z,0)]),H)\n",
      "print sy.solve(dI.subs([(Z,0)]), I)\n",
      "print sy.solve(dM.subs([(Z,0)]), M)"
     ],
     "language": "python",
     "metadata": {},
     "outputs": [
      {
       "output_type": "stream",
       "stream": "stdout",
       "text": [
        "[]\n",
        "[0]\n",
        "[0]\n"
       ]
      }
     ],
     "prompt_number": 31
    },
    {
     "cell_type": "code",
     "collapsed": false,
     "input": [
      "(H, 0, 0, 0)"
     ],
     "language": "python",
     "metadata": {},
     "outputs": [
      {
       "latex": [
        "$$\\begin{pmatrix}H, & 0, & 0, & 0\\end{pmatrix}$$"
       ],
       "metadata": {},
       "output_type": "pyout",
       "prompt_number": 32,
       "text": [
        "(H, 0, 0, 0)"
       ]
      }
     ],
     "prompt_number": 32
    },
    {
     "cell_type": "code",
     "collapsed": false,
     "input": [
      "XB = sy.Matrix([dH, dI, dZ, dM])\n",
      "YB = sy.Matrix([H, I, Z, M])\n",
      "JB = XB.jacobian(YB)\n",
      "JB"
     ],
     "language": "python",
     "metadata": {},
     "outputs": [
      {
       "latex": [
        "$$\\left[\\begin{matrix}- Z \\beta & 0 & - H \\beta & 0\\\\Z \\beta & - \\rho & H \\beta & 0\\\\- Z \\alpha & \\rho & - H \\alpha & \\zeta\\\\Z \\alpha & 0 & H \\alpha & - \\zeta\\end{matrix}\\right]$$"
       ],
       "metadata": {},
       "output_type": "pyout",
       "prompt_number": 33,
       "text": [
        "\u23a1-Z\u22c5\u03b2  0   -H\u22c5\u03b2  0 \u23a4\n",
        "\u23a2                  \u23a5\n",
        "\u23a2Z\u22c5\u03b2   -\u03c1  H\u22c5\u03b2   0 \u23a5\n",
        "\u23a2                  \u23a5\n",
        "\u23a2-Z\u22c5\u03b1  \u03c1   -H\u22c5\u03b1  \u03b6 \u23a5\n",
        "\u23a2                  \u23a5\n",
        "\u23a3Z\u22c5\u03b1   0   H\u22c5\u03b1   -\u03b6\u23a6"
       ]
      }
     ],
     "prompt_number": 33
    },
    {
     "cell_type": "markdown",
     "metadata": {},
     "source": [
      "Caso $(0,0,Z,0)$"
     ]
    },
    {
     "cell_type": "code",
     "collapsed": false,
     "input": [
      "JB1 = JB.subs([(H,0),(M,0), (I,0)])\n",
      "JB1"
     ],
     "language": "python",
     "metadata": {},
     "outputs": [
      {
       "latex": [
        "$$\\left[\\begin{matrix}- Z \\beta & 0 & 0 & 0\\\\Z \\beta & - \\rho & 0 & 0\\\\- Z \\alpha & \\rho & 0 & \\zeta\\\\Z \\alpha & 0 & 0 & - \\zeta\\end{matrix}\\right]$$"
       ],
       "metadata": {},
       "output_type": "pyout",
       "prompt_number": 34,
       "text": [
        "\u23a1-Z\u22c5\u03b2  0   0  0 \u23a4\n",
        "\u23a2               \u23a5\n",
        "\u23a2Z\u22c5\u03b2   -\u03c1  0  0 \u23a5\n",
        "\u23a2               \u23a5\n",
        "\u23a2-Z\u22c5\u03b1  \u03c1   0  \u03b6 \u23a5\n",
        "\u23a2               \u23a5\n",
        "\u23a3Z\u22c5\u03b1   0   0  -\u03b6\u23a6"
       ]
      }
     ],
     "prompt_number": 34
    },
    {
     "cell_type": "code",
     "collapsed": false,
     "input": [
      "polB1 = sy.det(JB1-lamb*sy.eye(4))\n",
      "sy.factor(polB1)"
     ],
     "language": "python",
     "metadata": {},
     "outputs": [
      {
       "latex": [
        "$$\\lambda \\left(\\lambda + \\rho\\right) \\left(\\lambda + \\zeta\\right) \\left(Z \\beta + \\lambda\\right)$$"
       ],
       "metadata": {},
       "output_type": "pyout",
       "prompt_number": 35,
       "text": [
        "\u03bb\u22c5(\u03bb + \u03c1)\u22c5(\u03bb + \u03b6)\u22c5(Z\u22c5\u03b2 + \u03bb)"
       ]
      }
     ],
     "prompt_number": 35
    },
    {
     "cell_type": "code",
     "collapsed": false,
     "input": [
      "sy.solve(polB1, lamb)"
     ],
     "language": "python",
     "metadata": {},
     "outputs": [
      {
       "latex": [
        "$$\\begin{bmatrix}0, & - \\rho, & - \\zeta, & - Z \\beta\\end{bmatrix}$$"
       ],
       "metadata": {},
       "output_type": "pyout",
       "prompt_number": 36,
       "text": [
        "[0, -\u03c1, -\u03b6, -Z\u22c5\u03b2]"
       ]
      }
     ],
     "prompt_number": 36
    },
    {
     "cell_type": "markdown",
     "metadata": {},
     "source": [
      "Como todos los eigenvalores son no negativos, el punto $(0,0,Z,0)$ es un equilibrio asint\u00f3ticamente estable"
     ]
    },
    {
     "cell_type": "markdown",
     "metadata": {},
     "source": [
      "Caso $(H,0,0,0)$"
     ]
    },
    {
     "cell_type": "code",
     "collapsed": false,
     "input": [
      "JB2 = JB.subs([(Z,0),(M,0), (I,0)])\n",
      "JB2"
     ],
     "language": "python",
     "metadata": {},
     "outputs": [
      {
       "latex": [
        "$$\\left[\\begin{matrix}0 & 0 & - H \\beta & 0\\\\0 & - \\rho & H \\beta & 0\\\\0 & \\rho & - H \\alpha & \\zeta\\\\0 & 0 & H \\alpha & - \\zeta\\end{matrix}\\right]$$"
       ],
       "metadata": {},
       "output_type": "pyout",
       "prompt_number": 37,
       "text": [
        "\u23a10  0   -H\u22c5\u03b2  0 \u23a4\n",
        "\u23a2               \u23a5\n",
        "\u23a20  -\u03c1  H\u22c5\u03b2   0 \u23a5\n",
        "\u23a2               \u23a5\n",
        "\u23a20  \u03c1   -H\u22c5\u03b1  \u03b6 \u23a5\n",
        "\u23a2               \u23a5\n",
        "\u23a30  0   H\u22c5\u03b1   -\u03b6\u23a6"
       ]
      }
     ],
     "prompt_number": 37
    },
    {
     "cell_type": "code",
     "collapsed": false,
     "input": [
      "polB2 = sy.det(JB2-lamb*sy.eye(4))\n",
      "sy.factor(polB2, lamb)"
     ],
     "language": "python",
     "metadata": {},
     "outputs": [
      {
       "latex": [
        "$$\\lambda \\left(- H \\beta \\rho \\zeta + \\lambda^{3} + \\lambda^{2} \\left(H \\alpha + \\rho + \\zeta\\right) + \\lambda \\left(H \\alpha \\rho - H \\beta \\rho + \\rho \\zeta\\right)\\right)$$"
       ],
       "metadata": {},
       "output_type": "pyout",
       "prompt_number": 38,
       "text": [
        "  \u239b            3    2                                        \u239e\n",
        "\u03bb\u22c5\u239d-H\u22c5\u03b2\u22c5\u03c1\u22c5\u03b6 + \u03bb  + \u03bb \u22c5(H\u22c5\u03b1 + \u03c1 + \u03b6) + \u03bb\u22c5(H\u22c5\u03b1\u22c5\u03c1 - H\u22c5\u03b2\u22c5\u03c1 + \u03c1\u22c5\u03b6)\u23a0"
       ]
      }
     ],
     "prompt_number": 38
    },
    {
     "cell_type": "markdown",
     "metadata": {},
     "source": [
      "Un eigenvalor es 0, los dem\u00e1s est\u00e1n determinados por el polinomio de grado tres que tiene al menos una ra\u00edz real"
     ]
    },
    {
     "cell_type": "markdown",
     "metadata": {},
     "source": [
      "$-H\\beta\\rho\\zeta < 0$ entonces $P(0) < 0$ y como $\\lim_{\\lambda \\rightarrow \\infty} P(\\lambda) = \\infty$\n",
      "\n",
      "Entonces existe $\\lambda_0$ positiva tal que $P(\\lambda_0) = 0$\n",
      "\n",
      "Por lo tanto $(H,0,0,0)$ es un equilibrio inestable"
     ]
    },
    {
     "cell_type": "heading",
     "level": 3,
     "metadata": {},
     "source": [
      "Gr\u00e1ficas"
     ]
    },
    {
     "cell_type": "code",
     "collapsed": false,
     "input": [
      "interact(solucionB,humanos=(0,1000,50), infectados=(0,10,1), zombies=(0,1000,1), muertos=fixed(0), a=(0.01,1,0.01), b=(0.1,1,0.05), z=(0.01,0.5,0.01), r=(0.1,1,0.05));"
     ],
     "language": "python",
     "metadata": {},
     "outputs": [
      {
       "metadata": {},
       "output_type": "display_data",
       "png": "[encoded data removed]",
       "text": [
        "<matplotlib.figure.Figure at 0x7f63f05f1b90>"
       ]
      }
     ],
     "prompt_number": 39
    },
    {
     "cell_type": "heading",
     "level": 2,
     "metadata": {},
     "source": [
      "Modelo con cuarentena"
     ]
    },
    {
     "cell_type": "markdown",
     "metadata": {},
     "source": [
      "En este modelo supondremos que una parte de los inviduos infectados y una parte de los zombies son puestos en cuarentena para ser eliminados y as\u00ed evitar que infecten a otros individuos. Por tanto, se tiene una nueva categor\u00eda que llamaremos Cuarentena $(Q)$\n",
      "Es posible que una parte de los inviduos en cuarentena logre escapar, pero supondremos que antes de infectar a otros individuos son eliminados y por tanto pasan a la categor\u00eda de muertos.\n",
      "Los nuevos par\u00e1metros del modelo son:\n",
      "\n",
      "\n",
      "- $\\kappa$ = Infectados que entran en cuarentena\n",
      "- $\\sigma$ = Zombies que entran en cuarentena\n",
      "- $\\gamma$ = Individuos en cuarentena que mueren intentando escapar\n",
      "\n",
      "\n",
      "Por tanto, el modelo con cuarentena es:\n",
      "$$ \\dot H = - \\beta H Z $$\n",
      "$$ \\dot I = \\beta H Z - \\rho I - \\kappa  I$$\n",
      "$$ \\dot Z = - \\alpha H Z + \\zeta M + \\rho I - \\sigma Z$$\n",
      "$$ \\dot M = \\alpha H Z - \\zeta M + \\gamma Q$$\n",
      "$$ \\dot Q = \\kappa I + \\sigma Z - \\gamma Q$$"
     ]
    },
    {
     "cell_type": "code",
     "collapsed": false,
     "input": [
      "pi = 0\n",
      "delta = 0"
     ],
     "language": "python",
     "metadata": {},
     "outputs": [],
     "prompt_number": 40
    },
    {
     "cell_type": "code",
     "collapsed": false,
     "input": [
      "dH = pi - beta*H*Z - delta*H\n",
      "dI = beta*H*Z - rho*I - delta*I - kappa*I\n",
      "dZ = rho*I + zeta*M - alpha*H*Z - sigma*Z\n",
      "dM = delta*H + delta*I + alpha*H*Z - zeta*M + gamma*Q\n",
      "dQ = kappa*I + sigma*Z - gamma*Q"
     ],
     "language": "python",
     "metadata": {},
     "outputs": [],
     "prompt_number": 41
    },
    {
     "cell_type": "code",
     "collapsed": false,
     "input": [
      "sy.solve(dH)"
     ],
     "language": "python",
     "metadata": {},
     "outputs": [
      {
       "latex": [
        "$$\\begin{bmatrix}\\begin{Bmatrix}H : 0\\end{Bmatrix}, & \\begin{Bmatrix}Z : 0\\end{Bmatrix}, & \\begin{Bmatrix}\\beta : 0\\end{Bmatrix}\\end{bmatrix}$$"
       ],
       "metadata": {},
       "output_type": "pyout",
       "prompt_number": 42,
       "text": [
        "[{H: 0}, {Z: 0}, {\u03b2: 0}]"
       ]
      }
     ],
     "prompt_number": 42
    },
    {
     "cell_type": "markdown",
     "metadata": {},
     "source": [
      "Caso $Z = 0$"
     ]
    },
    {
     "cell_type": "code",
     "collapsed": false,
     "input": [
      "print sy.solve(dH.subs([(Z,0)]), H)\n",
      "print sy.solve(dI.subs([(Z,0)]), I)\n",
      "print sy.solve(dM.subs([(Z,0)]), M)\n",
      "print sy.solve(dQ.subs([(Z,0)]), Q)"
     ],
     "language": "python",
     "metadata": {},
     "outputs": [
      {
       "output_type": "stream",
       "stream": "stdout",
       "text": [
        "[]\n",
        "[0]\n",
        "[Q*gamma/zeta]\n",
        "[I*kappa/gamma]\n"
       ]
      }
     ],
     "prompt_number": 43
    },
    {
     "cell_type": "code",
     "collapsed": false,
     "input": [
      "(H,0,0,0,0)"
     ],
     "language": "python",
     "metadata": {},
     "outputs": [
      {
       "latex": [
        "$$\\begin{pmatrix}H, & 0, & 0, & 0, & 0\\end{pmatrix}$$"
       ],
       "metadata": {},
       "output_type": "pyout",
       "prompt_number": 44,
       "text": [
        "(H, 0, 0, 0, 0)"
       ]
      }
     ],
     "prompt_number": 44
    },
    {
     "cell_type": "markdown",
     "metadata": {},
     "source": [
      "Caso $H = 0$"
     ]
    },
    {
     "cell_type": "code",
     "collapsed": false,
     "input": [
      "print sy.solve(dI.subs([(H,0)]), I)"
     ],
     "language": "python",
     "metadata": {},
     "outputs": [
      {
       "output_type": "stream",
       "stream": "stdout",
       "text": [
        "[0]\n"
       ]
      }
     ],
     "prompt_number": 45
    },
    {
     "cell_type": "code",
     "collapsed": false,
     "input": [
      "print sy.solve(dZ.subs([(H,0), (I,0)]), Z)\n",
      "print sy.solve(dM.subs([(H,0), (I,0)]), M)\n",
      "print sy.solve(dQ.subs([(H,0), (I,0)]), Q)"
     ],
     "language": "python",
     "metadata": {},
     "outputs": [
      {
       "output_type": "stream",
       "stream": "stdout",
       "text": [
        "[M*zeta/sigma]\n",
        "[Q*gamma/zeta]\n",
        "[Z*sigma/gamma]\n"
       ]
      }
     ],
     "prompt_number": 46
    },
    {
     "cell_type": "code",
     "collapsed": false,
     "input": [
      "(0,0,M*zeta/sigma, Q*gamma/zeta, Z*sigma/gamma)"
     ],
     "language": "python",
     "metadata": {},
     "outputs": [
      {
       "latex": [
        "$$\\begin{pmatrix}0, & 0, & \\frac{M \\zeta}{\\sigma}, & \\frac{Q \\gamma}{\\zeta}, & \\frac{Z \\sigma}{\\gamma}\\end{pmatrix}$$"
       ],
       "metadata": {},
       "output_type": "pyout",
       "prompt_number": 47,
       "text": [
        "\u239b      M\u22c5\u03b6  Q\u22c5\u03b3  Z\u22c5\u03c3\u239e\n",
        "\u239c0, 0, \u2500\u2500\u2500, \u2500\u2500\u2500, \u2500\u2500\u2500\u239f\n",
        "\u239d       \u03c3    \u03b6    \u03b3 \u23a0"
       ]
      }
     ],
     "prompt_number": 47
    },
    {
     "cell_type": "code",
     "collapsed": false,
     "input": [
      "XC = sy.Matrix([dH, dI, dZ, dM, dQ])\n",
      "YC = sy.Matrix([H, I, Z, M, Q])\n",
      "JC = XC.jacobian(YC)\n",
      "JC"
     ],
     "language": "python",
     "metadata": {},
     "outputs": [
      {
       "latex": [
        "$$\\left[\\begin{matrix}- Z \\beta & 0 & - H \\beta & 0 & 0\\\\Z \\beta & - \\kappa - \\rho & H \\beta & 0 & 0\\\\- Z \\alpha & \\rho & - H \\alpha - \\sigma & \\zeta & 0\\\\Z \\alpha & 0 & H \\alpha & - \\zeta & \\gamma\\\\0 & \\kappa & \\sigma & 0 & - \\gamma\\end{matrix}\\right]$$"
       ],
       "metadata": {},
       "output_type": "pyout",
       "prompt_number": 48,
       "text": [
        "\u23a1-Z\u22c5\u03b2    0       -H\u22c5\u03b2    0   0 \u23a4\n",
        "\u23a2                              \u23a5\n",
        "\u23a2Z\u22c5\u03b2   -\u03ba - \u03c1    H\u22c5\u03b2     0   0 \u23a5\n",
        "\u23a2                              \u23a5\n",
        "\u23a2-Z\u22c5\u03b1    \u03c1     -H\u22c5\u03b1 - \u03c3  \u03b6   0 \u23a5\n",
        "\u23a2                              \u23a5\n",
        "\u23a2Z\u22c5\u03b1     0       H\u22c5\u03b1     -\u03b6  \u03b3 \u23a5\n",
        "\u23a2                              \u23a5\n",
        "\u23a3 0      \u03ba        \u03c3      0   -\u03b3\u23a6"
       ]
      }
     ],
     "prompt_number": 48
    },
    {
     "cell_type": "code",
     "collapsed": false,
     "input": [
      "JC1 = JC.subs([(M,0), (I,0), (Z,0), (Q,0)])\n",
      "JC1"
     ],
     "language": "python",
     "metadata": {},
     "outputs": [
      {
       "latex": [
        "$$\\left[\\begin{matrix}0 & 0 & - H \\beta & 0 & 0\\\\0 & - \\kappa - \\rho & H \\beta & 0 & 0\\\\0 & \\rho & - H \\alpha - \\sigma & \\zeta & 0\\\\0 & 0 & H \\alpha & - \\zeta & \\gamma\\\\0 & \\kappa & \\sigma & 0 & - \\gamma\\end{matrix}\\right]$$"
       ],
       "metadata": {},
       "output_type": "pyout",
       "prompt_number": 49,
       "text": [
        "\u23a10    0       -H\u22c5\u03b2    0   0 \u23a4\n",
        "\u23a2                           \u23a5\n",
        "\u23a20  -\u03ba - \u03c1    H\u22c5\u03b2     0   0 \u23a5\n",
        "\u23a2                           \u23a5\n",
        "\u23a20    \u03c1     -H\u22c5\u03b1 - \u03c3  \u03b6   0 \u23a5\n",
        "\u23a2                           \u23a5\n",
        "\u23a20    0       H\u22c5\u03b1     -\u03b6  \u03b3 \u23a5\n",
        "\u23a2                           \u23a5\n",
        "\u23a30    \u03ba        \u03c3      0   -\u03b3\u23a6"
       ]
      }
     ],
     "prompt_number": 49
    },
    {
     "cell_type": "code",
     "collapsed": false,
     "input": [
      "polC1 = sy.det(JC1-lamb*sy.eye(5))\n",
      "sy.factor(polC1, lamb)"
     ],
     "language": "python",
     "metadata": {},
     "outputs": [
      {
       "latex": [
        "$$- \\lambda \\left(- H \\beta \\gamma \\kappa \\zeta - H \\beta \\gamma \\rho \\zeta + \\lambda^{4} + \\lambda^{3} \\left(H \\alpha + \\gamma + \\kappa + \\rho + \\sigma + \\zeta\\right) + \\lambda^{2} \\left(H \\alpha \\gamma + H \\alpha \\kappa + H \\alpha \\rho - H \\beta \\rho + \\gamma \\kappa + \\gamma \\rho + \\gamma \\sigma + \\gamma \\zeta + \\kappa \\sigma + \\kappa \\zeta + \\rho \\sigma + \\rho \\zeta + \\sigma \\zeta\\right) + \\lambda \\left(H \\alpha \\gamma \\kappa + H \\alpha \\gamma \\rho - H \\beta \\gamma \\rho - H \\beta \\rho \\zeta + \\gamma \\kappa \\sigma + \\gamma \\kappa \\zeta + \\gamma \\rho \\sigma + \\gamma \\rho \\zeta + \\kappa \\sigma \\zeta + \\rho \\sigma \\zeta\\right)\\right)$$"
       ],
       "metadata": {},
       "output_type": "pyout",
       "prompt_number": 50,
       "text": [
        "   \u239b                          4    3                              2           \n",
        "-\u03bb\u22c5\u239d-H\u22c5\u03b2\u22c5\u03b3\u22c5\u03ba\u22c5\u03b6 - H\u22c5\u03b2\u22c5\u03b3\u22c5\u03c1\u22c5\u03b6 + \u03bb  + \u03bb \u22c5(H\u22c5\u03b1 + \u03b3 + \u03ba + \u03c1 + \u03c3 + \u03b6) + \u03bb \u22c5(H\u22c5\u03b1\u22c5\u03b3 + H\n",
        "\n",
        "                                                                              \n",
        "\u22c5\u03b1\u22c5\u03ba + H\u22c5\u03b1\u22c5\u03c1 - H\u22c5\u03b2\u22c5\u03c1 + \u03b3\u22c5\u03ba + \u03b3\u22c5\u03c1 + \u03b3\u22c5\u03c3 + \u03b3\u22c5\u03b6 + \u03ba\u22c5\u03c3 + \u03ba\u22c5\u03b6 + \u03c1\u22c5\u03c3 + \u03c1\u22c5\u03b6 + \u03c3\u22c5\u03b6) + \n",
        "\n",
        "                                                                              \n",
        "\u03bb\u22c5(H\u22c5\u03b1\u22c5\u03b3\u22c5\u03ba + H\u22c5\u03b1\u22c5\u03b3\u22c5\u03c1 - H\u22c5\u03b2\u22c5\u03b3\u22c5\u03c1 - H\u22c5\u03b2\u22c5\u03c1\u22c5\u03b6 + \u03b3\u22c5\u03ba\u22c5\u03c3 + \u03b3\u22c5\u03ba\u22c5\u03b6 + \u03b3\u22c5\u03c1\u22c5\u03c3 + \u03b3\u22c5\u03c1\u22c5\u03b6 + \u03ba\u22c5\u03c3\n",
        "\n",
        "           \u239e\n",
        "\u22c5\u03b6 + \u03c1\u22c5\u03c3\u22c5\u03b6)\u23a0"
       ]
      }
     ],
     "prompt_number": 50
    },
    {
     "cell_type": "code",
     "collapsed": false,
     "input": [
      "JC2 = JC.subs([(H,0), (I,0), (Z,M*zeta/sigma), (M,Q*gamma/zeta), (Q,Z*sigma/gamma)])\n",
      "JC2"
     ],
     "language": "python",
     "metadata": {},
     "outputs": [
      {
       "latex": [
        "$$\\left[\\begin{matrix}- Z \\beta & 0 & 0 & 0 & 0\\\\Z \\beta & - \\kappa - \\rho & 0 & 0 & 0\\\\- Z \\alpha & \\rho & - \\sigma & \\zeta & 0\\\\Z \\alpha & 0 & 0 & - \\zeta & \\gamma\\\\0 & \\kappa & \\sigma & 0 & - \\gamma\\end{matrix}\\right]$$"
       ],
       "metadata": {},
       "output_type": "pyout",
       "prompt_number": 51,
       "text": [
        "\u23a1-Z\u22c5\u03b2    0     0   0   0 \u23a4\n",
        "\u23a2                        \u23a5\n",
        "\u23a2Z\u22c5\u03b2   -\u03ba - \u03c1  0   0   0 \u23a5\n",
        "\u23a2                        \u23a5\n",
        "\u23a2-Z\u22c5\u03b1    \u03c1     -\u03c3  \u03b6   0 \u23a5\n",
        "\u23a2                        \u23a5\n",
        "\u23a2Z\u22c5\u03b1     0     0   -\u03b6  \u03b3 \u23a5\n",
        "\u23a2                        \u23a5\n",
        "\u23a3 0      \u03ba     \u03c3   0   -\u03b3\u23a6"
       ]
      }
     ],
     "prompt_number": 51
    },
    {
     "cell_type": "code",
     "collapsed": false,
     "input": [
      "polC2 = sy.det(JC2-lamb*sy.eye(5))\n",
      "sy.factor(polC2, lamb)"
     ],
     "language": "python",
     "metadata": {},
     "outputs": [
      {
       "latex": [
        "$$- \\lambda \\left(Z \\beta + \\lambda\\right) \\left(\\kappa + \\lambda + \\rho\\right) \\left(\\gamma \\sigma + \\gamma \\zeta + \\lambda^{2} + \\lambda \\left(\\gamma + \\sigma + \\zeta\\right) + \\sigma \\zeta\\right)$$"
       ],
       "metadata": {},
       "output_type": "pyout",
       "prompt_number": 52,
       "text": [
        "                         \u239b             2                      \u239e\n",
        "-\u03bb\u22c5(Z\u22c5\u03b2 + \u03bb)\u22c5(\u03ba + \u03bb + \u03c1)\u22c5\u239d\u03b3\u22c5\u03c3 + \u03b3\u22c5\u03b6 + \u03bb  + \u03bb\u22c5(\u03b3 + \u03c3 + \u03b6) + \u03c3\u22c5\u03b6\u23a0"
       ]
      }
     ],
     "prompt_number": 52
    },
    {
     "cell_type": "code",
     "collapsed": false,
     "input": [
      "sy.solve(polC2, lamb)"
     ],
     "language": "python",
     "metadata": {},
     "outputs": [
      {
       "latex": [
        "$$\\begin{bmatrix}0, & - Z \\beta, & - \\kappa - \\rho, & - \\frac{\\gamma}{2} - \\frac{\\sigma}{2} - \\frac{\\zeta}{2} - \\frac{1}{2} \\sqrt{\\gamma^{2} - 2 \\gamma \\sigma - 2 \\gamma \\zeta + \\sigma^{2} - 2 \\sigma \\zeta + \\zeta^{2}}, & - \\frac{\\gamma}{2} - \\frac{\\sigma}{2} - \\frac{\\zeta}{2} + \\frac{1}{2} \\sqrt{\\gamma^{2} - 2 \\gamma \\sigma - 2 \\gamma \\zeta + \\sigma^{2} - 2 \\sigma \\zeta + \\zeta^{2}}\\end{bmatrix}$$"
       ],
       "metadata": {},
       "output_type": "pyout",
       "prompt_number": 53,
       "text": [
        "\u23a1                                  ______________________________________     \n",
        "\u23a2                                 \u2571  2                    2            2      \n",
        "\u23a2                   \u03b3   \u03c3   \u03b6   \u2572\u2571  \u03b3  - 2\u22c5\u03b3\u22c5\u03c3 - 2\u22c5\u03b3\u22c5\u03b6 + \u03c3  - 2\u22c5\u03c3\u22c5\u03b6 + \u03b6      \u03b3\n",
        "\u23a20, -Z\u22c5\u03b2, -\u03ba - \u03c1, - \u2500 - \u2500 - \u2500 - \u2500\u2500\u2500\u2500\u2500\u2500\u2500\u2500\u2500\u2500\u2500\u2500\u2500\u2500\u2500\u2500\u2500\u2500\u2500\u2500\u2500\u2500\u2500\u2500\u2500\u2500\u2500\u2500\u2500\u2500\u2500\u2500\u2500\u2500\u2500\u2500\u2500\u2500\u2500\u2500\u2500, - \u2500\n",
        "\u23a3                   2   2   2                       2                        2\n",
        "\n",
        "              ______________________________________\u23a4\n",
        "             \u2571  2                    2            2 \u23a5\n",
        "   \u03c3   \u03b6   \u2572\u2571  \u03b3  - 2\u22c5\u03b3\u22c5\u03c3 - 2\u22c5\u03b3\u22c5\u03b6 + \u03c3  - 2\u22c5\u03c3\u22c5\u03b6 + \u03b6  \u23a5\n",
        " - \u2500 - \u2500 + \u2500\u2500\u2500\u2500\u2500\u2500\u2500\u2500\u2500\u2500\u2500\u2500\u2500\u2500\u2500\u2500\u2500\u2500\u2500\u2500\u2500\u2500\u2500\u2500\u2500\u2500\u2500\u2500\u2500\u2500\u2500\u2500\u2500\u2500\u2500\u2500\u2500\u2500\u2500\u2500\u2500\u23a5\n",
        "   2   2                       2                    \u23a6"
       ]
      }
     ],
     "prompt_number": 53
    },
    {
     "cell_type": "markdown",
     "metadata": {},
     "source": [
      "Debido a la complejidad de estas matrices y a que la relaci\u00f3n entre los valores de los par\u00e1metros no est\u00e1 definida, este caso se resolver\u00e1 num\u00e9ricamente"
     ]
    },
    {
     "cell_type": "heading",
     "level": 3,
     "metadata": {},
     "source": [
      "Gr\u00e1ficas"
     ]
    },
    {
     "cell_type": "code",
     "collapsed": false,
     "input": [
      "interact(solucionC,humanos=(0,1000,50),infectados=(0,10,1),zombies=(0,1000,1),muertos=fixed(0),cuarentena=fixed(0),a=(0.01,1,0.01),b=(0.1,1,0.05),z=(0.01,0.5,0.01),r=(0.1,1,0.05),k=(0.1,1,0.1),s=(0.01,0.5,0.01), g=(0,1,0.1));"
     ],
     "language": "python",
     "metadata": {},
     "outputs": [
      {
       "metadata": {},
       "output_type": "display_data",
       "png": "[encoded data removed]",
       "text": [
        "<matplotlib.figure.Figure at 0x7f63efcdfe90>"
       ]
      }
     ],
     "prompt_number": 54
    },
    {
     "cell_type": "heading",
     "level": 2,
     "metadata": {},
     "source": [
      "Modelo con tratamiento"
     ]
    },
    {
     "cell_type": "markdown",
     "metadata": {},
     "source": [
      "Finalmente supondremos que hay una cura para la infecci\u00f3n zombie. Dado que ya hay una cura, se eliminar\u00e1 la cuarentena. No obstante, la cura no otorga inmunidad. Si un infectado es curado puede volver a convertirse en zombie si es mordido por otros zombies.\n",
      "\n",
      "\n",
      "Sea $c$ la tasa a la que los zombies son curados y regresan a ser humanos.\n",
      "\n",
      "\n",
      "El modelo con tratamiento es:\n",
      "$$ \\dot H = - \\beta H Z + c Z$$\n",
      "$$ \\dot I = \\beta H Z - \\rho I$$\n",
      "$$ \\dot Z = - \\alpha H Z + \\zeta M + \\rho I - c Z$$\n",
      "$$ \\dot M = \\alpha H Z - \\zeta M$$"
     ]
    },
    {
     "cell_type": "code",
     "collapsed": false,
     "input": [
      "pi = 0\n",
      "delta = 0"
     ],
     "language": "python",
     "metadata": {},
     "outputs": [],
     "prompt_number": 55
    },
    {
     "cell_type": "code",
     "collapsed": false,
     "input": [
      "dH = pi - beta*H*Z - delta*H + c*I\n",
      "dI = beta*H*Z - rho*I - delta*I - c*I\n",
      "dZ = rho*I + zeta*M - alpha*H*Z\n",
      "dM = delta*H + delta*I + alpha*H*Z - zeta*M"
     ],
     "language": "python",
     "metadata": {},
     "outputs": [],
     "prompt_number": 56
    },
    {
     "cell_type": "code",
     "collapsed": false,
     "input": [
      "sy.solve(dH)"
     ],
     "language": "python",
     "metadata": {},
     "outputs": [
      {
       "latex": [
        "$$\\begin{bmatrix}\\begin{Bmatrix}H : \\frac{I c}{Z \\beta}\\end{Bmatrix}\\end{bmatrix}$$"
       ],
       "metadata": {},
       "output_type": "pyout",
       "prompt_number": 57,
       "text": [
        "\u23a1\u23a7   I\u22c5c\u23ab\u23a4\n",
        "\u23a2\u23a8H: \u2500\u2500\u2500\u23ac\u23a5\n",
        "\u23a3\u23a9   Z\u22c5\u03b2\u23ad\u23a6"
       ]
      }
     ],
     "prompt_number": 57
    },
    {
     "cell_type": "code",
     "collapsed": false,
     "input": [
      "sy.solve(dI.subs([(H, I*c/(Z*beta))]))"
     ],
     "language": "python",
     "metadata": {},
     "outputs": [
      {
       "latex": [
        "$$\\begin{bmatrix}\\begin{Bmatrix}I : 0\\end{Bmatrix}, & \\begin{Bmatrix}\\rho : 0\\end{Bmatrix}\\end{bmatrix}$$"
       ],
       "metadata": {},
       "output_type": "pyout",
       "prompt_number": 58,
       "text": [
        "[{I: 0}, {\u03c1: 0}]"
       ]
      }
     ],
     "prompt_number": 58
    },
    {
     "cell_type": "code",
     "collapsed": false,
     "input": [
      "sy.solve(dZ.subs([(H, I*c/(Z*beta)), (I,0)]))"
     ],
     "language": "python",
     "metadata": {},
     "outputs": [
      {
       "latex": [
        "$$\\begin{bmatrix}\\begin{Bmatrix}M : 0\\end{Bmatrix}, & \\begin{Bmatrix}\\zeta : 0\\end{Bmatrix}\\end{bmatrix}$$"
       ],
       "metadata": {},
       "output_type": "pyout",
       "prompt_number": 59,
       "text": [
        "[{M: 0}, {\u03b6: 0}]"
       ]
      }
     ],
     "prompt_number": 59
    },
    {
     "cell_type": "code",
     "collapsed": false,
     "input": [
      "(H,0,0,0)"
     ],
     "language": "python",
     "metadata": {},
     "outputs": [
      {
       "latex": [
        "$$\\begin{pmatrix}H, & 0, & 0, & 0\\end{pmatrix}$$"
       ],
       "metadata": {},
       "output_type": "pyout",
       "prompt_number": 60,
       "text": [
        "(H, 0, 0, 0)"
       ]
      }
     ],
     "prompt_number": 60
    },
    {
     "cell_type": "code",
     "collapsed": false,
     "input": [
      "(0, Z, 0, 0)"
     ],
     "language": "python",
     "metadata": {},
     "outputs": [
      {
       "latex": [
        "$$\\begin{pmatrix}0, & Z, & 0, & 0\\end{pmatrix}$$"
       ],
       "metadata": {},
       "output_type": "pyout",
       "prompt_number": 61,
       "text": [
        "(0, Z, 0, 0)"
       ]
      }
     ],
     "prompt_number": 61
    },
    {
     "cell_type": "code",
     "collapsed": false,
     "input": [
      "XD = sy.Matrix([dH, dI, dZ, dM])\n",
      "YD = sy.Matrix([H, I, Z, M])\n",
      "JD = XD.jacobian(YD)\n",
      "JD"
     ],
     "language": "python",
     "metadata": {},
     "outputs": [
      {
       "latex": [
        "$$\\left[\\begin{matrix}- Z \\beta & c & - H \\beta & 0\\\\Z \\beta & - c - \\rho & H \\beta & 0\\\\- Z \\alpha & \\rho & - H \\alpha & \\zeta\\\\Z \\alpha & 0 & H \\alpha & - \\zeta\\end{matrix}\\right]$$"
       ],
       "metadata": {},
       "output_type": "pyout",
       "prompt_number": 62,
       "text": [
        "\u23a1-Z\u22c5\u03b2    c     -H\u22c5\u03b2  0 \u23a4\n",
        "\u23a2                      \u23a5\n",
        "\u23a2Z\u22c5\u03b2   -c - \u03c1  H\u22c5\u03b2   0 \u23a5\n",
        "\u23a2                      \u23a5\n",
        "\u23a2-Z\u22c5\u03b1    \u03c1     -H\u22c5\u03b1  \u03b6 \u23a5\n",
        "\u23a2                      \u23a5\n",
        "\u23a3Z\u22c5\u03b1     0     H\u22c5\u03b1   -\u03b6\u23a6"
       ]
      }
     ],
     "prompt_number": 62
    },
    {
     "cell_type": "markdown",
     "metadata": {},
     "source": [
      "Caso $(H,0,0,0)$"
     ]
    },
    {
     "cell_type": "code",
     "collapsed": false,
     "input": [
      "JD1 = JD.subs([(M,0), (I,0), (Z,0)])\n",
      "JD1"
     ],
     "language": "python",
     "metadata": {},
     "outputs": [
      {
       "latex": [
        "$$\\left[\\begin{matrix}0 & c & - H \\beta & 0\\\\0 & - c - \\rho & H \\beta & 0\\\\0 & \\rho & - H \\alpha & \\zeta\\\\0 & 0 & H \\alpha & - \\zeta\\end{matrix}\\right]$$"
       ],
       "metadata": {},
       "output_type": "pyout",
       "prompt_number": 63,
       "text": [
        "\u23a10    c     -H\u22c5\u03b2  0 \u23a4\n",
        "\u23a2                   \u23a5\n",
        "\u23a20  -c - \u03c1  H\u22c5\u03b2   0 \u23a5\n",
        "\u23a2                   \u23a5\n",
        "\u23a20    \u03c1     -H\u22c5\u03b1  \u03b6 \u23a5\n",
        "\u23a2                   \u23a5\n",
        "\u23a30    0     H\u22c5\u03b1   -\u03b6\u23a6"
       ]
      }
     ],
     "prompt_number": 63
    },
    {
     "cell_type": "code",
     "collapsed": false,
     "input": [
      "polD1 = sy.det(JD1-lamb*sy.eye(4))\n",
      "sy.factor(polD1, lamb)"
     ],
     "language": "python",
     "metadata": {},
     "outputs": [
      {
       "latex": [
        "$$\\lambda \\left(- H \\beta \\rho \\zeta + \\lambda^{3} + \\lambda^{2} \\left(H \\alpha + c + \\rho + \\zeta\\right) + \\lambda \\left(H \\alpha c + H \\alpha \\rho - H \\beta \\rho + c \\zeta + \\rho \\zeta\\right)\\right)$$"
       ],
       "metadata": {},
       "output_type": "pyout",
       "prompt_number": 64,
       "text": [
        "  \u239b            3    2                                                         \n",
        "\u03bb\u22c5\u239d-H\u22c5\u03b2\u22c5\u03c1\u22c5\u03b6 + \u03bb  + \u03bb \u22c5(H\u22c5\u03b1 + c + \u03c1 + \u03b6) + \u03bb\u22c5(H\u22c5\u03b1\u22c5c + H\u22c5\u03b1\u22c5\u03c1 - H\u22c5\u03b2\u22c5\u03c1 + c\u22c5\u03b6 + \u03c1\u22c5\u03b6\n",
        "\n",
        " \u239e\n",
        ")\u23a0"
       ]
      }
     ],
     "prompt_number": 64
    },
    {
     "cell_type": "markdown",
     "metadata": {},
     "source": [
      "$-H\\beta\\rho\\zeta < 0$ entonces $P(0) < 0$ y como $\\lim_{\\lambda \\rightarrow -\\infty} P(\\lambda) = \\infty$\n",
      "\n",
      "Entonces existe $\\lambda_0$ positiva tal que $P(\\lambda_0) = 0$\n",
      "\n",
      "Por lo tanto $(H,0,0,0)$ es un equilibrio inestable"
     ]
    },
    {
     "cell_type": "markdown",
     "metadata": {},
     "source": [
      "Caso $(0,0,Z,0)$"
     ]
    },
    {
     "cell_type": "code",
     "collapsed": false,
     "input": [
      "JD2 = JD.subs([(M,0), (I,0), (H,0)])\n",
      "JD2"
     ],
     "language": "python",
     "metadata": {},
     "outputs": [
      {
       "latex": [
        "$$\\left[\\begin{matrix}- Z \\beta & c & 0 & 0\\\\Z \\beta & - c - \\rho & 0 & 0\\\\- Z \\alpha & \\rho & 0 & \\zeta\\\\Z \\alpha & 0 & 0 & - \\zeta\\end{matrix}\\right]$$"
       ],
       "metadata": {},
       "output_type": "pyout",
       "prompt_number": 65,
       "text": [
        "\u23a1-Z\u22c5\u03b2    c     0  0 \u23a4\n",
        "\u23a2                   \u23a5\n",
        "\u23a2Z\u22c5\u03b2   -c - \u03c1  0  0 \u23a5\n",
        "\u23a2                   \u23a5\n",
        "\u23a2-Z\u22c5\u03b1    \u03c1     0  \u03b6 \u23a5\n",
        "\u23a2                   \u23a5\n",
        "\u23a3Z\u22c5\u03b1     0     0  -\u03b6\u23a6"
       ]
      }
     ],
     "prompt_number": 65
    },
    {
     "cell_type": "code",
     "collapsed": false,
     "input": [
      "polD2 = sy.det(JD2-lamb*sy.eye(4))\n",
      "sy.factor(polD2, lamb)"
     ],
     "language": "python",
     "metadata": {},
     "outputs": [
      {
       "latex": [
        "$$\\lambda \\left(\\lambda + \\zeta\\right) \\left(Z \\beta \\rho + \\lambda^{2} + \\lambda \\left(Z \\beta + c + \\rho\\right)\\right)$$"
       ],
       "metadata": {},
       "output_type": "pyout",
       "prompt_number": 66,
       "text": [
        "          \u239b         2                  \u239e\n",
        "\u03bb\u22c5(\u03bb + \u03b6)\u22c5\u239dZ\u22c5\u03b2\u22c5\u03c1 + \u03bb  + \u03bb\u22c5(Z\u22c5\u03b2 + c + \u03c1)\u23a0"
       ]
      }
     ],
     "prompt_number": 66
    },
    {
     "cell_type": "code",
     "collapsed": false,
     "input": [
      "sy.solve(polD2, lamb)"
     ],
     "language": "python",
     "metadata": {},
     "outputs": [
      {
       "latex": [
        "$$\\begin{bmatrix}0, & - \\zeta, & - \\frac{Z \\beta}{2} - \\frac{c}{2} - \\frac{\\rho}{2} - \\frac{1}{2} \\sqrt{Z^{2} \\beta^{2} + 2 Z \\beta c - 2 Z \\beta \\rho + c^{2} + 2 c \\rho + \\rho^{2}}, & - \\frac{Z \\beta}{2} - \\frac{c}{2} - \\frac{\\rho}{2} + \\frac{1}{2} \\sqrt{Z^{2} \\beta^{2} + 2 Z \\beta c - 2 Z \\beta \\rho + c^{2} + 2 c \\rho + \\rho^{2}}\\end{bmatrix}$$"
       ],
       "metadata": {},
       "output_type": "pyout",
       "prompt_number": 67,
       "text": [
        "\u23a1                          _____________________________________________      \n",
        "\u23a2                         \u2571  2  2                        2            2       \n",
        "\u23a2         Z\u22c5\u03b2   c   \u03c1   \u2572\u2571  Z \u22c5\u03b2  + 2\u22c5Z\u22c5\u03b2\u22c5c - 2\u22c5Z\u22c5\u03b2\u22c5\u03c1 + c  + 2\u22c5c\u22c5\u03c1 + \u03c1      Z\u22c5\n",
        "\u23a20, -\u03b6, - \u2500\u2500\u2500 - \u2500 - \u2500 - \u2500\u2500\u2500\u2500\u2500\u2500\u2500\u2500\u2500\u2500\u2500\u2500\u2500\u2500\u2500\u2500\u2500\u2500\u2500\u2500\u2500\u2500\u2500\u2500\u2500\u2500\u2500\u2500\u2500\u2500\u2500\u2500\u2500\u2500\u2500\u2500\u2500\u2500\u2500\u2500\u2500\u2500\u2500\u2500\u2500\u2500\u2500\u2500, - \u2500\u2500\n",
        "\u23a3          2    2   2                          2                             2\n",
        "\n",
        "               _____________________________________________\u23a4\n",
        "              \u2571  2  2                        2            2 \u23a5\n",
        "\u03b2   c   \u03c1   \u2572\u2571  Z \u22c5\u03b2  + 2\u22c5Z\u22c5\u03b2\u22c5c - 2\u22c5Z\u22c5\u03b2\u22c5\u03c1 + c  + 2\u22c5c\u22c5\u03c1 + \u03c1  \u23a5\n",
        "\u2500 - \u2500 - \u2500 + \u2500\u2500\u2500\u2500\u2500\u2500\u2500\u2500\u2500\u2500\u2500\u2500\u2500\u2500\u2500\u2500\u2500\u2500\u2500\u2500\u2500\u2500\u2500\u2500\u2500\u2500\u2500\u2500\u2500\u2500\u2500\u2500\u2500\u2500\u2500\u2500\u2500\u2500\u2500\u2500\u2500\u2500\u2500\u2500\u2500\u2500\u2500\u2500\u23a5\n",
        "    2   2                          2                        \u23a6"
       ]
      }
     ],
     "prompt_number": 67
    },
    {
     "cell_type": "markdown",
     "metadata": {},
     "source": [
      "Como la parte real de los eigenvalores es negativa $(0,0,Z,0)$ es un equilibrio estable"
     ]
    },
    {
     "cell_type": "heading",
     "level": 3,
     "metadata": {},
     "source": [
      "Gr\u00e1ficas"
     ]
    },
    {
     "cell_type": "code",
     "collapsed": false,
     "input": [
      "interact(solucionD,humanos=(0,1000,50), infectados=(0,10,1), zombies=(0,1000,1), muertos=fixed(0), a=(0.01,1,0.01), b=(0.1,1,0.05), z=(0.01,0.5,0.01), r=(0.1,1,0.05), c=(0,0.8,0.01));"
     ],
     "language": "python",
     "metadata": {},
     "outputs": [
      {
       "metadata": {},
       "output_type": "display_data",
       "png": "[encoded data removed]",
       "text": [
        "<matplotlib.figure.Figure at 0x7f63efccd090>"
       ]
      }
     ],
     "prompt_number": 68
    },
    {
     "cell_type": "heading",
     "level": 2,
     "metadata": {},
     "source": [
      "Comparaci\u00f3n de modelos"
     ]
    },
    {
     "cell_type": "markdown",
     "metadata": {},
     "source": [
      "- Tiempo = 10 semanas\n",
      "\n",
      "Par\u00e1metros:\n",
      "\n",
      "- Tasa de destrucci\u00f3n de zombies $(\\alpha)$ = 0.05\n",
      "- Tasa a la que los humanos se convierten en zombies $(\\beta)$ = 0.3\n",
      "- Tasa de resurrecci\u00f3n como zombie $(\\zeta)$ = 0.2\n",
      "- Tasa a la que los infectados se convierten en zombies $(\\rho)$ = 0.3\n",
      "- Tasa de infectados en cuarentena $(\\kappa)$ = 0.5\n",
      "- Tasa de zombies en cuarentena $(\\sigma)$ = 0.01\n",
      "- Tasa de muerte en cuarentena $(\\gamma)$ = 0.1\n",
      "- Tasa a la que los infectados son curados $(c)$ = 0.85\n",
      "\n",
      "Condiciones iniciales:\n",
      "\n",
      "- Humanos = 100\n",
      "- Zombies = 1\n",
      "- Infectados = 0\n",
      "- Muertos = 0\n",
      "- Cuarentena = 0"
     ]
    },
    {
     "cell_type": "code",
     "collapsed": false,
     "input": [
      "graficaComparacion()"
     ],
     "language": "python",
     "metadata": {},
     "outputs": [
      {
       "metadata": {},
       "output_type": "display_data",
       "png": "[encoded data removed]",
       "text": [
        "<matplotlib.figure.Figure at 0x7f63efccd950>"
       ]
      }
     ],
     "prompt_number": 69
    },
    {
     "cell_type": "heading",
     "level": 1,
     "metadata": {},
     "source": [
      "Conclusiones"
     ]
    },
    {
     "cell_type": "markdown",
     "metadata": {},
     "source": [
      "En cualquier escenario la coexistencia entre los humanos y los zombies es imposible. Los humanos eventualmente se extinguen y la velocidad con la que lo hacen depende de los par\u00e1metros.\n",
      "\n",
      "Si nuestra capacidad para destruir zombies ($\\alpha$), poner a infectados o zombies en cuarentena ($\\kappa, \\sigma$) y la efectividad del suministro y acci\u00f3n de una cura ($c$) son altas, nuestra supervivencia se extiende. Sin embargo, hay algunas diferencias entre cada modelo.\n",
      "\n",
      "El modelo con tratamiento es el escenario en el que los humanos sobreviven por m\u00e1s tiempo, mientras que el modelo del caso base es el escenario en que los humanos se extinguen m\u00e1s r\u00e1pido.\n",
      "\n",
      "La infecci\u00f3n latente retrasa un poco la extinci\u00f3n de los humanos al igual que la implementaci\u00f3n de una cuarentena."
     ]
    }
   ],
   "metadata": {}
  }
 ]
}