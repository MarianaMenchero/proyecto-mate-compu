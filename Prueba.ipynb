{
 "metadata": {
  "name": "",
  "signature": "sha256:dddfc26f1af4e799f827fc24e46be178f6923fc99f3e4454a8017f2fd66a71b7"
 },
 "nbformat": 3,
 "nbformat_minor": 0,
 "worksheets": [
  {
   "cells": [
    {
     "cell_type": "heading",
     "level": 1,
     "metadata": {},
     "source": [
      "Prueba"
     ]
    },
    {
     "cell_type": "markdown",
     "metadata": {},
     "source": [
      "Hola, esto es una prueba para independizarnos de Unanue"
     ]
    },
    {
     "cell_type": "code",
     "collapsed": false,
     "input": [],
     "language": "python",
     "metadata": {},
     "outputs": []
    },
    {
     "cell_type": "code",
     "collapsed": false,
     "input": [],
     "language": "python",
     "metadata": {},
     "outputs": []
    },
    {
     "cell_type": "code",
     "collapsed": false,
     "input": [],
     "language": "python",
     "metadata": {},
     "outputs": []
    },
    {
     "cell_type": "markdown",
     "metadata": {},
     "source": [
      "\u00a1HOLA! Ya no dependemos del profe JAJAJAJAJA"
     ]
    }
   ],
   "metadata": {}
  }
 ]
}