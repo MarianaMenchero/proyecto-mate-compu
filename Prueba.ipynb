{
 "metadata": {
  "name": "",
<<<<<<< HEAD
  "signature": "sha256:dddfc26f1af4e799f827fc24e46be178f6923fc99f3e4454a8017f2fd66a71b7"
=======
  "signature": "sha256:5d00134c1afbcfd8f9dee443d48b1ccf9ab1939e0385f5be2b946d9b73e62b8b"
>>>>>>> c2d38a88f0d8eefa2e14f1c89f92aadd252f4a9e
 },
 "nbformat": 3,
 "nbformat_minor": 0,
 "worksheets": [
  {
   "cells": [
    {
     "cell_type": "heading",
     "level": 1,
     "metadata": {},
     "source": [
      "Prueba"
     ]
    },
    {
     "cell_type": "markdown",
     "metadata": {},
     "source": [
      "Hola, esto es una prueba para independizarnos de Unanue"
     ]
    },
    {
<<<<<<< HEAD
     "cell_type": "code",
     "collapsed": false,
     "input": [],
     "language": "python",
     "metadata": {},
     "outputs": []
    },
    {
     "cell_type": "code",
     "collapsed": false,
     "input": [],
     "language": "python",
     "metadata": {},
     "outputs": []
    },
    {
     "cell_type": "code",
     "collapsed": false,
     "input": [],
     "language": "python",
     "metadata": {},
     "outputs": []
    },
    {
     "cell_type": "markdown",
     "metadata": {},
     "source": [
      "\u00a1HOLA! Ya no dependemos del profe JAJAJAJAJA"
=======
     "cell_type": "markdown",
     "metadata": {},
     "source": [
      "Go Team Laura!"
>>>>>>> c2d38a88f0d8eefa2e14f1c89f92aadd252f4a9e
     ]
    }
   ],
   "metadata": {}
  }
 ]
}