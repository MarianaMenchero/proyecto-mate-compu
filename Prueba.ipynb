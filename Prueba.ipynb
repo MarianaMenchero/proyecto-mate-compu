{
 "metadata": {
  "name": "",
  "signature": "sha256:5d00134c1afbcfd8f9dee443d48b1ccf9ab1939e0385f5be2b946d9b73e62b8b"
 },
 "nbformat": 3,
 "nbformat_minor": 0,
 "worksheets": [
  {
   "cells": [
    {
     "cell_type": "heading",
     "level": 1,
     "metadata": {},
     "source": [
      "Prueba"
     ]
    },
    {
     "cell_type": "markdown",
     "metadata": {},
     "source": [
      "Hola, esto es una prueba para independizarnos de Unanue"
     ]
    },
    {
     "cell_type": "markdown",
     "metadata": {},
     "source": [
      "Go Team Laura!"
     ]
    }
   ],
   "metadata": {}
  }
 ]
}