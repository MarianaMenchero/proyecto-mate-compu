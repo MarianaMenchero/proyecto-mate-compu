{
 "metadata": {
  "name": "",
  "signature": "sha256:ea239e951d346729cd69aa9f9e10ff3e142754f8c6c2ef920596acb205261d71"
 },
 "nbformat": 3,
 "nbformat_minor": 0,
 "worksheets": [
  {
   "cells": [
    {
     "cell_type": "heading",
     "level": 1,
     "metadata": {},
     "source": [
      "Prueba"
     ]
    },
    {
     "cell_type": "markdown",
     "metadata": {},
     "source": [
      "Hola, esto es una prueba para independizarnos de Unanue"
     ]
    }
   ],
   "metadata": {}
  }
 ]
}